{
 "cells": [
  {
   "cell_type": "markdown",
   "metadata": {},
   "source": [
    "The agency needs answers to several questions. The answers to those questions must be supported by data and analytics. These are their questions:\n",
    "\n",
    "- Which type of complaint should the Department of Housing Preservation and Development of New York City focus on first?\n",
    "\n",
    "- Should the Department of Housing Preservation and Development of New York City focus on any particular set of boroughs, ZIP codes, or street (where the complaints are severe) for the specific type of complaints you identified in response to Question 1?\n",
    "\n",
    "- Does the Complaint Type that you identified in response to question 1 have an obvious relationship with any particular characteristic or characteristics of the houses or buildings?\n",
    "\n",
    "- Can a predictive model be built for a future prediction of the possibility of complaints of the type that you have identified in response to question 1?\n"
   ]
  },
  {
   "cell_type": "markdown",
   "metadata": {},
   "source": [
    "Your organization has assigned you as the lead data scientist to provide the answers to these questions. You need to work on getting answers to them in this Capstone Project by following the standard approach of data science and machine learning."
   ]
  },
  {
   "cell_type": "markdown",
   "metadata": {},
   "source": [
    "### Import Libraries"
   ]
  },
  {
   "cell_type": "code",
   "execution_count": 1,
   "metadata": {},
   "outputs": [],
   "source": [
    "import numpy as np\n",
    "import pandas as pd\n",
    "import matplotlib.pyplot as plt\n",
    "import seaborn as sns\n",
    "import statsmodels.api as sm\n",
    "import datetime\n",
    "\n",
    "%matplotlib inline\n",
    "sns.set_style('dark')\n",
    "sns.set(font_scale=1.2)\n",
    "\n",
    "import warnings\n",
    "warnings.filterwarnings('ignore')\n",
    "\n",
    "pd.set_option('display.max_columns',None)\n",
    "#pd.set_option('display.max_rows',None)\n",
    "\n",
    "np.random.seed(0)\n",
    "np.set_printoptions(suppress=True)"
   ]
  },
  {
   "cell_type": "code",
   "execution_count": 2,
   "metadata": {},
   "outputs": [],
   "source": [
    "df = pd.read_csv(\"311.csv\")"
   ]
  },
  {
   "cell_type": "code",
   "execution_count": 3,
   "metadata": {},
   "outputs": [
    {
     "data": {
      "text/html": [
       "<div>\n",
       "<style scoped>\n",
       "    .dataframe tbody tr th:only-of-type {\n",
       "        vertical-align: middle;\n",
       "    }\n",
       "\n",
       "    .dataframe tbody tr th {\n",
       "        vertical-align: top;\n",
       "    }\n",
       "\n",
       "    .dataframe thead th {\n",
       "        text-align: right;\n",
       "    }\n",
       "</style>\n",
       "<table border=\"1\" class=\"dataframe\">\n",
       "  <thead>\n",
       "    <tr style=\"text-align: right;\">\n",
       "      <th></th>\n",
       "      <th>Unnamed: 0</th>\n",
       "      <th>Unique Key</th>\n",
       "      <th>Created Date</th>\n",
       "      <th>Closed Date</th>\n",
       "      <th>Complaint Type</th>\n",
       "      <th>Location Type</th>\n",
       "      <th>Incident Zip</th>\n",
       "      <th>Incident Address</th>\n",
       "      <th>Street Name</th>\n",
       "      <th>Address Type</th>\n",
       "      <th>City</th>\n",
       "      <th>Status</th>\n",
       "      <th>Resolution Description</th>\n",
       "      <th>Borough</th>\n",
       "      <th>Latitude</th>\n",
       "      <th>Longitude</th>\n",
       "    </tr>\n",
       "  </thead>\n",
       "  <tbody>\n",
       "    <tr>\n",
       "      <th>0</th>\n",
       "      <td>0</td>\n",
       "      <td>45531130</td>\n",
       "      <td>02/02/2020 06:09:17 AM</td>\n",
       "      <td>NaN</td>\n",
       "      <td>HEAT/HOT WATER</td>\n",
       "      <td>RESIDENTIAL BUILDING</td>\n",
       "      <td>10019.0</td>\n",
       "      <td>426 WEST   52 STREET</td>\n",
       "      <td>WEST   52 STREET</td>\n",
       "      <td>ADDRESS</td>\n",
       "      <td>NEW YORK</td>\n",
       "      <td>Open</td>\n",
       "      <td>The following complaint conditions are still o...</td>\n",
       "      <td>MANHATTAN</td>\n",
       "      <td>40.765132</td>\n",
       "      <td>-73.988993</td>\n",
       "    </tr>\n",
       "    <tr>\n",
       "      <th>1</th>\n",
       "      <td>1</td>\n",
       "      <td>45529784</td>\n",
       "      <td>02/02/2020 02:15:24 PM</td>\n",
       "      <td>NaN</td>\n",
       "      <td>UNSANITARY CONDITION</td>\n",
       "      <td>RESIDENTIAL BUILDING</td>\n",
       "      <td>11204.0</td>\n",
       "      <td>1751 67 STREET</td>\n",
       "      <td>67 STREET</td>\n",
       "      <td>ADDRESS</td>\n",
       "      <td>BROOKLYN</td>\n",
       "      <td>Open</td>\n",
       "      <td>The following complaint conditions are still o...</td>\n",
       "      <td>BROOKLYN</td>\n",
       "      <td>40.618484</td>\n",
       "      <td>-73.992673</td>\n",
       "    </tr>\n",
       "    <tr>\n",
       "      <th>2</th>\n",
       "      <td>2</td>\n",
       "      <td>45527528</td>\n",
       "      <td>02/02/2020 02:27:41 AM</td>\n",
       "      <td>NaN</td>\n",
       "      <td>HEAT/HOT WATER</td>\n",
       "      <td>RESIDENTIAL BUILDING</td>\n",
       "      <td>11372.0</td>\n",
       "      <td>87-15 37 AVENUE</td>\n",
       "      <td>37 AVENUE</td>\n",
       "      <td>ADDRESS</td>\n",
       "      <td>Jackson Heights</td>\n",
       "      <td>Open</td>\n",
       "      <td>The following complaint conditions are still o...</td>\n",
       "      <td>QUEENS</td>\n",
       "      <td>40.750269</td>\n",
       "      <td>-73.879432</td>\n",
       "    </tr>\n",
       "    <tr>\n",
       "      <th>3</th>\n",
       "      <td>3</td>\n",
       "      <td>45530329</td>\n",
       "      <td>02/02/2020 12:13:18 PM</td>\n",
       "      <td>NaN</td>\n",
       "      <td>HEAT/HOT WATER</td>\n",
       "      <td>RESIDENTIAL BUILDING</td>\n",
       "      <td>10458.0</td>\n",
       "      <td>2405 SOUTHERN BOULEVARD</td>\n",
       "      <td>SOUTHERN BOULEVARD</td>\n",
       "      <td>ADDRESS</td>\n",
       "      <td>BRONX</td>\n",
       "      <td>Open</td>\n",
       "      <td>The following complaint conditions are still o...</td>\n",
       "      <td>BRONX</td>\n",
       "      <td>40.853773</td>\n",
       "      <td>-73.881558</td>\n",
       "    </tr>\n",
       "    <tr>\n",
       "      <th>4</th>\n",
       "      <td>4</td>\n",
       "      <td>45528814</td>\n",
       "      <td>02/02/2020 01:59:44 PM</td>\n",
       "      <td>NaN</td>\n",
       "      <td>APPLIANCE</td>\n",
       "      <td>RESIDENTIAL BUILDING</td>\n",
       "      <td>11209.0</td>\n",
       "      <td>223 78 STREET</td>\n",
       "      <td>78 STREET</td>\n",
       "      <td>ADDRESS</td>\n",
       "      <td>BROOKLYN</td>\n",
       "      <td>Open</td>\n",
       "      <td>The following complaint conditions are still o...</td>\n",
       "      <td>BROOKLYN</td>\n",
       "      <td>40.629745</td>\n",
       "      <td>-74.030533</td>\n",
       "    </tr>\n",
       "    <tr>\n",
       "      <th>...</th>\n",
       "      <td>...</td>\n",
       "      <td>...</td>\n",
       "      <td>...</td>\n",
       "      <td>...</td>\n",
       "      <td>...</td>\n",
       "      <td>...</td>\n",
       "      <td>...</td>\n",
       "      <td>...</td>\n",
       "      <td>...</td>\n",
       "      <td>...</td>\n",
       "      <td>...</td>\n",
       "      <td>...</td>\n",
       "      <td>...</td>\n",
       "      <td>...</td>\n",
       "      <td>...</td>\n",
       "      <td>...</td>\n",
       "    </tr>\n",
       "    <tr>\n",
       "      <th>6019838</th>\n",
       "      <td>6019838</td>\n",
       "      <td>44063685</td>\n",
       "      <td>10/15/2019 10:35:45 AM</td>\n",
       "      <td>10/16/2019 05:55:02 PM</td>\n",
       "      <td>HEAT/HOT WATER</td>\n",
       "      <td>RESIDENTIAL BUILDING</td>\n",
       "      <td>10029.0</td>\n",
       "      <td>327 EAST  108 STREET</td>\n",
       "      <td>EAST  108 STREET</td>\n",
       "      <td>ADDRESS</td>\n",
       "      <td>NEW YORK</td>\n",
       "      <td>Closed</td>\n",
       "      <td>The complaint you filed is a duplicate of a co...</td>\n",
       "      <td>MANHATTAN</td>\n",
       "      <td>40.791359</td>\n",
       "      <td>-73.940184</td>\n",
       "    </tr>\n",
       "    <tr>\n",
       "      <th>6019839</th>\n",
       "      <td>6019839</td>\n",
       "      <td>44063692</td>\n",
       "      <td>10/15/2019 06:09:28 AM</td>\n",
       "      <td>10/15/2019 04:12:58 PM</td>\n",
       "      <td>HEAT/HOT WATER</td>\n",
       "      <td>RESIDENTIAL BUILDING</td>\n",
       "      <td>10461.0</td>\n",
       "      <td>3555 BRUCKNER BOULEVARD</td>\n",
       "      <td>BRUCKNER BOULEVARD</td>\n",
       "      <td>ADDRESS</td>\n",
       "      <td>BRONX</td>\n",
       "      <td>Closed</td>\n",
       "      <td>The Department of Housing Preservation and Dev...</td>\n",
       "      <td>BRONX</td>\n",
       "      <td>40.847809</td>\n",
       "      <td>-73.827481</td>\n",
       "    </tr>\n",
       "    <tr>\n",
       "      <th>6019840</th>\n",
       "      <td>6019840</td>\n",
       "      <td>44063724</td>\n",
       "      <td>10/15/2019 10:54:45 AM</td>\n",
       "      <td>10/16/2019 06:14:29 PM</td>\n",
       "      <td>HEAT/HOT WATER</td>\n",
       "      <td>RESIDENTIAL BUILDING</td>\n",
       "      <td>10034.0</td>\n",
       "      <td>165 SHERMAN AVENUE</td>\n",
       "      <td>SHERMAN AVENUE</td>\n",
       "      <td>ADDRESS</td>\n",
       "      <td>NEW YORK</td>\n",
       "      <td>Closed</td>\n",
       "      <td>The complaint you filed is a duplicate of a co...</td>\n",
       "      <td>MANHATTAN</td>\n",
       "      <td>40.864764</td>\n",
       "      <td>-73.922764</td>\n",
       "    </tr>\n",
       "    <tr>\n",
       "      <th>6019841</th>\n",
       "      <td>6019841</td>\n",
       "      <td>44063726</td>\n",
       "      <td>10/15/2019 02:07:34 PM</td>\n",
       "      <td>10/16/2019 07:10:19 PM</td>\n",
       "      <td>HEAT/HOT WATER</td>\n",
       "      <td>RESIDENTIAL BUILDING</td>\n",
       "      <td>10467.0</td>\n",
       "      <td>66 WEST GUN HILL ROAD</td>\n",
       "      <td>WEST GUN HILL ROAD</td>\n",
       "      <td>ADDRESS</td>\n",
       "      <td>BRONX</td>\n",
       "      <td>Closed</td>\n",
       "      <td>The Department of Housing Preservation and Dev...</td>\n",
       "      <td>BRONX</td>\n",
       "      <td>40.883207</td>\n",
       "      <td>-73.884279</td>\n",
       "    </tr>\n",
       "    <tr>\n",
       "      <th>6019842</th>\n",
       "      <td>6019842</td>\n",
       "      <td>44063737</td>\n",
       "      <td>10/15/2019 11:29:01 AM</td>\n",
       "      <td>10/15/2019 09:19:45 PM</td>\n",
       "      <td>PAINT/PLASTER</td>\n",
       "      <td>RESIDENTIAL BUILDING</td>\n",
       "      <td>10009.0</td>\n",
       "      <td>143 AVENUE D</td>\n",
       "      <td>AVENUE D</td>\n",
       "      <td>ADDRESS</td>\n",
       "      <td>NEW YORK</td>\n",
       "      <td>Closed</td>\n",
       "      <td>The Department of Housing Preservation and Dev...</td>\n",
       "      <td>MANHATTAN</td>\n",
       "      <td>40.724749</td>\n",
       "      <td>-73.975269</td>\n",
       "    </tr>\n",
       "  </tbody>\n",
       "</table>\n",
       "<p>6019843 rows × 16 columns</p>\n",
       "</div>"
      ],
      "text/plain": [
       "         Unnamed: 0  Unique Key            Created Date  \\\n",
       "0                 0    45531130  02/02/2020 06:09:17 AM   \n",
       "1                 1    45529784  02/02/2020 02:15:24 PM   \n",
       "2                 2    45527528  02/02/2020 02:27:41 AM   \n",
       "3                 3    45530329  02/02/2020 12:13:18 PM   \n",
       "4                 4    45528814  02/02/2020 01:59:44 PM   \n",
       "...             ...         ...                     ...   \n",
       "6019838     6019838    44063685  10/15/2019 10:35:45 AM   \n",
       "6019839     6019839    44063692  10/15/2019 06:09:28 AM   \n",
       "6019840     6019840    44063724  10/15/2019 10:54:45 AM   \n",
       "6019841     6019841    44063726  10/15/2019 02:07:34 PM   \n",
       "6019842     6019842    44063737  10/15/2019 11:29:01 AM   \n",
       "\n",
       "                    Closed Date        Complaint Type         Location Type  \\\n",
       "0                           NaN        HEAT/HOT WATER  RESIDENTIAL BUILDING   \n",
       "1                           NaN  UNSANITARY CONDITION  RESIDENTIAL BUILDING   \n",
       "2                           NaN        HEAT/HOT WATER  RESIDENTIAL BUILDING   \n",
       "3                           NaN        HEAT/HOT WATER  RESIDENTIAL BUILDING   \n",
       "4                           NaN             APPLIANCE  RESIDENTIAL BUILDING   \n",
       "...                         ...                   ...                   ...   \n",
       "6019838  10/16/2019 05:55:02 PM        HEAT/HOT WATER  RESIDENTIAL BUILDING   \n",
       "6019839  10/15/2019 04:12:58 PM        HEAT/HOT WATER  RESIDENTIAL BUILDING   \n",
       "6019840  10/16/2019 06:14:29 PM        HEAT/HOT WATER  RESIDENTIAL BUILDING   \n",
       "6019841  10/16/2019 07:10:19 PM        HEAT/HOT WATER  RESIDENTIAL BUILDING   \n",
       "6019842  10/15/2019 09:19:45 PM         PAINT/PLASTER  RESIDENTIAL BUILDING   \n",
       "\n",
       "         Incident Zip         Incident Address         Street Name  \\\n",
       "0             10019.0     426 WEST   52 STREET    WEST   52 STREET   \n",
       "1             11204.0           1751 67 STREET           67 STREET   \n",
       "2             11372.0          87-15 37 AVENUE           37 AVENUE   \n",
       "3             10458.0  2405 SOUTHERN BOULEVARD  SOUTHERN BOULEVARD   \n",
       "4             11209.0            223 78 STREET           78 STREET   \n",
       "...               ...                      ...                 ...   \n",
       "6019838       10029.0     327 EAST  108 STREET    EAST  108 STREET   \n",
       "6019839       10461.0  3555 BRUCKNER BOULEVARD  BRUCKNER BOULEVARD   \n",
       "6019840       10034.0       165 SHERMAN AVENUE      SHERMAN AVENUE   \n",
       "6019841       10467.0    66 WEST GUN HILL ROAD  WEST GUN HILL ROAD   \n",
       "6019842       10009.0             143 AVENUE D            AVENUE D   \n",
       "\n",
       "        Address Type             City  Status  \\\n",
       "0            ADDRESS         NEW YORK    Open   \n",
       "1            ADDRESS         BROOKLYN    Open   \n",
       "2            ADDRESS  Jackson Heights    Open   \n",
       "3            ADDRESS            BRONX    Open   \n",
       "4            ADDRESS         BROOKLYN    Open   \n",
       "...              ...              ...     ...   \n",
       "6019838      ADDRESS         NEW YORK  Closed   \n",
       "6019839      ADDRESS            BRONX  Closed   \n",
       "6019840      ADDRESS         NEW YORK  Closed   \n",
       "6019841      ADDRESS            BRONX  Closed   \n",
       "6019842      ADDRESS         NEW YORK  Closed   \n",
       "\n",
       "                                    Resolution Description    Borough  \\\n",
       "0        The following complaint conditions are still o...  MANHATTAN   \n",
       "1        The following complaint conditions are still o...   BROOKLYN   \n",
       "2        The following complaint conditions are still o...     QUEENS   \n",
       "3        The following complaint conditions are still o...      BRONX   \n",
       "4        The following complaint conditions are still o...   BROOKLYN   \n",
       "...                                                    ...        ...   \n",
       "6019838  The complaint you filed is a duplicate of a co...  MANHATTAN   \n",
       "6019839  The Department of Housing Preservation and Dev...      BRONX   \n",
       "6019840  The complaint you filed is a duplicate of a co...  MANHATTAN   \n",
       "6019841  The Department of Housing Preservation and Dev...      BRONX   \n",
       "6019842  The Department of Housing Preservation and Dev...  MANHATTAN   \n",
       "\n",
       "          Latitude  Longitude  \n",
       "0        40.765132 -73.988993  \n",
       "1        40.618484 -73.992673  \n",
       "2        40.750269 -73.879432  \n",
       "3        40.853773 -73.881558  \n",
       "4        40.629745 -74.030533  \n",
       "...            ...        ...  \n",
       "6019838  40.791359 -73.940184  \n",
       "6019839  40.847809 -73.827481  \n",
       "6019840  40.864764 -73.922764  \n",
       "6019841  40.883207 -73.884279  \n",
       "6019842  40.724749 -73.975269  \n",
       "\n",
       "[6019843 rows x 16 columns]"
      ]
     },
     "execution_count": 3,
     "metadata": {},
     "output_type": "execute_result"
    }
   ],
   "source": [
    "df"
   ]
  },
  {
   "cell_type": "code",
   "execution_count": 4,
   "metadata": {},
   "outputs": [
    {
     "name": "stdout",
     "output_type": "stream",
     "text": [
      "<class 'pandas.core.frame.DataFrame'>\n",
      "RangeIndex: 6019843 entries, 0 to 6019842\n",
      "Data columns (total 16 columns):\n",
      " #   Column                  Non-Null Count    Dtype  \n",
      "---  ------                  --------------    -----  \n",
      " 0   Unnamed: 0              6019843 non-null  int64  \n",
      " 1   Unique Key              6019843 non-null  int64  \n",
      " 2   Created Date            6019843 non-null  object \n",
      " 3   Closed Date             5893186 non-null  object \n",
      " 4   Complaint Type          6019843 non-null  object \n",
      " 5   Location Type           5967019 non-null  object \n",
      " 6   Incident Zip            5939146 non-null  float64\n",
      " 7   Incident Address        5967018 non-null  object \n",
      " 8   Street Name             5967018 non-null  object \n",
      " 9   Address Type            5935078 non-null  object \n",
      " 10  City                    5939569 non-null  object \n",
      " 11  Status                  6019843 non-null  object \n",
      " 12  Resolution Description  6012017 non-null  object \n",
      " 13  Borough                 6019843 non-null  object \n",
      " 14  Latitude                5939172 non-null  float64\n",
      " 15  Longitude               5939172 non-null  float64\n",
      "dtypes: float64(3), int64(2), object(11)\n",
      "memory usage: 734.8+ MB\n"
     ]
    }
   ],
   "source": [
    "df.info(null_counts=True)"
   ]
  },
  {
   "cell_type": "code",
   "execution_count": 5,
   "metadata": {},
   "outputs": [
    {
     "data": {
      "text/plain": [
       "Index(['Unnamed: 0', 'Unique Key', 'Created Date', 'Closed Date',\n",
       "       'Complaint Type', 'Location Type', 'Incident Zip', 'Incident Address',\n",
       "       'Street Name', 'Address Type', 'City', 'Status',\n",
       "       'Resolution Description', 'Borough', 'Latitude', 'Longitude'],\n",
       "      dtype='object')"
      ]
     },
     "execution_count": 5,
     "metadata": {},
     "output_type": "execute_result"
    }
   ],
   "source": [
    "df.columns"
   ]
  },
  {
   "cell_type": "code",
   "execution_count": 6,
   "metadata": {},
   "outputs": [],
   "source": [
    "df.drop(['Unnamed: 0','Closed Date','Location Type','Street Name','Address Type',\n",
    "        'Resolution Description','Latitude', 'Longitude'],axis=1,inplace=True)"
   ]
  },
  {
   "cell_type": "code",
   "execution_count": 7,
   "metadata": {},
   "outputs": [
    {
     "data": {
      "text/html": [
       "<div>\n",
       "<style scoped>\n",
       "    .dataframe tbody tr th:only-of-type {\n",
       "        vertical-align: middle;\n",
       "    }\n",
       "\n",
       "    .dataframe tbody tr th {\n",
       "        vertical-align: top;\n",
       "    }\n",
       "\n",
       "    .dataframe thead th {\n",
       "        text-align: right;\n",
       "    }\n",
       "</style>\n",
       "<table border=\"1\" class=\"dataframe\">\n",
       "  <thead>\n",
       "    <tr style=\"text-align: right;\">\n",
       "      <th></th>\n",
       "      <th>Unique Key</th>\n",
       "      <th>Created Date</th>\n",
       "      <th>Complaint Type</th>\n",
       "      <th>Incident Zip</th>\n",
       "      <th>Incident Address</th>\n",
       "      <th>City</th>\n",
       "      <th>Status</th>\n",
       "      <th>Borough</th>\n",
       "    </tr>\n",
       "  </thead>\n",
       "  <tbody>\n",
       "    <tr>\n",
       "      <th>0</th>\n",
       "      <td>45531130</td>\n",
       "      <td>02/02/2020 06:09:17 AM</td>\n",
       "      <td>HEAT/HOT WATER</td>\n",
       "      <td>10019.0</td>\n",
       "      <td>426 WEST   52 STREET</td>\n",
       "      <td>NEW YORK</td>\n",
       "      <td>Open</td>\n",
       "      <td>MANHATTAN</td>\n",
       "    </tr>\n",
       "    <tr>\n",
       "      <th>1</th>\n",
       "      <td>45529784</td>\n",
       "      <td>02/02/2020 02:15:24 PM</td>\n",
       "      <td>UNSANITARY CONDITION</td>\n",
       "      <td>11204.0</td>\n",
       "      <td>1751 67 STREET</td>\n",
       "      <td>BROOKLYN</td>\n",
       "      <td>Open</td>\n",
       "      <td>BROOKLYN</td>\n",
       "    </tr>\n",
       "    <tr>\n",
       "      <th>2</th>\n",
       "      <td>45527528</td>\n",
       "      <td>02/02/2020 02:27:41 AM</td>\n",
       "      <td>HEAT/HOT WATER</td>\n",
       "      <td>11372.0</td>\n",
       "      <td>87-15 37 AVENUE</td>\n",
       "      <td>Jackson Heights</td>\n",
       "      <td>Open</td>\n",
       "      <td>QUEENS</td>\n",
       "    </tr>\n",
       "    <tr>\n",
       "      <th>3</th>\n",
       "      <td>45530329</td>\n",
       "      <td>02/02/2020 12:13:18 PM</td>\n",
       "      <td>HEAT/HOT WATER</td>\n",
       "      <td>10458.0</td>\n",
       "      <td>2405 SOUTHERN BOULEVARD</td>\n",
       "      <td>BRONX</td>\n",
       "      <td>Open</td>\n",
       "      <td>BRONX</td>\n",
       "    </tr>\n",
       "    <tr>\n",
       "      <th>4</th>\n",
       "      <td>45528814</td>\n",
       "      <td>02/02/2020 01:59:44 PM</td>\n",
       "      <td>APPLIANCE</td>\n",
       "      <td>11209.0</td>\n",
       "      <td>223 78 STREET</td>\n",
       "      <td>BROOKLYN</td>\n",
       "      <td>Open</td>\n",
       "      <td>BROOKLYN</td>\n",
       "    </tr>\n",
       "    <tr>\n",
       "      <th>...</th>\n",
       "      <td>...</td>\n",
       "      <td>...</td>\n",
       "      <td>...</td>\n",
       "      <td>...</td>\n",
       "      <td>...</td>\n",
       "      <td>...</td>\n",
       "      <td>...</td>\n",
       "      <td>...</td>\n",
       "    </tr>\n",
       "    <tr>\n",
       "      <th>6019838</th>\n",
       "      <td>44063685</td>\n",
       "      <td>10/15/2019 10:35:45 AM</td>\n",
       "      <td>HEAT/HOT WATER</td>\n",
       "      <td>10029.0</td>\n",
       "      <td>327 EAST  108 STREET</td>\n",
       "      <td>NEW YORK</td>\n",
       "      <td>Closed</td>\n",
       "      <td>MANHATTAN</td>\n",
       "    </tr>\n",
       "    <tr>\n",
       "      <th>6019839</th>\n",
       "      <td>44063692</td>\n",
       "      <td>10/15/2019 06:09:28 AM</td>\n",
       "      <td>HEAT/HOT WATER</td>\n",
       "      <td>10461.0</td>\n",
       "      <td>3555 BRUCKNER BOULEVARD</td>\n",
       "      <td>BRONX</td>\n",
       "      <td>Closed</td>\n",
       "      <td>BRONX</td>\n",
       "    </tr>\n",
       "    <tr>\n",
       "      <th>6019840</th>\n",
       "      <td>44063724</td>\n",
       "      <td>10/15/2019 10:54:45 AM</td>\n",
       "      <td>HEAT/HOT WATER</td>\n",
       "      <td>10034.0</td>\n",
       "      <td>165 SHERMAN AVENUE</td>\n",
       "      <td>NEW YORK</td>\n",
       "      <td>Closed</td>\n",
       "      <td>MANHATTAN</td>\n",
       "    </tr>\n",
       "    <tr>\n",
       "      <th>6019841</th>\n",
       "      <td>44063726</td>\n",
       "      <td>10/15/2019 02:07:34 PM</td>\n",
       "      <td>HEAT/HOT WATER</td>\n",
       "      <td>10467.0</td>\n",
       "      <td>66 WEST GUN HILL ROAD</td>\n",
       "      <td>BRONX</td>\n",
       "      <td>Closed</td>\n",
       "      <td>BRONX</td>\n",
       "    </tr>\n",
       "    <tr>\n",
       "      <th>6019842</th>\n",
       "      <td>44063737</td>\n",
       "      <td>10/15/2019 11:29:01 AM</td>\n",
       "      <td>PAINT/PLASTER</td>\n",
       "      <td>10009.0</td>\n",
       "      <td>143 AVENUE D</td>\n",
       "      <td>NEW YORK</td>\n",
       "      <td>Closed</td>\n",
       "      <td>MANHATTAN</td>\n",
       "    </tr>\n",
       "  </tbody>\n",
       "</table>\n",
       "<p>6019843 rows × 8 columns</p>\n",
       "</div>"
      ],
      "text/plain": [
       "         Unique Key            Created Date        Complaint Type  \\\n",
       "0          45531130  02/02/2020 06:09:17 AM        HEAT/HOT WATER   \n",
       "1          45529784  02/02/2020 02:15:24 PM  UNSANITARY CONDITION   \n",
       "2          45527528  02/02/2020 02:27:41 AM        HEAT/HOT WATER   \n",
       "3          45530329  02/02/2020 12:13:18 PM        HEAT/HOT WATER   \n",
       "4          45528814  02/02/2020 01:59:44 PM             APPLIANCE   \n",
       "...             ...                     ...                   ...   \n",
       "6019838    44063685  10/15/2019 10:35:45 AM        HEAT/HOT WATER   \n",
       "6019839    44063692  10/15/2019 06:09:28 AM        HEAT/HOT WATER   \n",
       "6019840    44063724  10/15/2019 10:54:45 AM        HEAT/HOT WATER   \n",
       "6019841    44063726  10/15/2019 02:07:34 PM        HEAT/HOT WATER   \n",
       "6019842    44063737  10/15/2019 11:29:01 AM         PAINT/PLASTER   \n",
       "\n",
       "         Incident Zip         Incident Address             City  Status  \\\n",
       "0             10019.0     426 WEST   52 STREET         NEW YORK    Open   \n",
       "1             11204.0           1751 67 STREET         BROOKLYN    Open   \n",
       "2             11372.0          87-15 37 AVENUE  Jackson Heights    Open   \n",
       "3             10458.0  2405 SOUTHERN BOULEVARD            BRONX    Open   \n",
       "4             11209.0            223 78 STREET         BROOKLYN    Open   \n",
       "...               ...                      ...              ...     ...   \n",
       "6019838       10029.0     327 EAST  108 STREET         NEW YORK  Closed   \n",
       "6019839       10461.0  3555 BRUCKNER BOULEVARD            BRONX  Closed   \n",
       "6019840       10034.0       165 SHERMAN AVENUE         NEW YORK  Closed   \n",
       "6019841       10467.0    66 WEST GUN HILL ROAD            BRONX  Closed   \n",
       "6019842       10009.0             143 AVENUE D         NEW YORK  Closed   \n",
       "\n",
       "           Borough  \n",
       "0        MANHATTAN  \n",
       "1         BROOKLYN  \n",
       "2           QUEENS  \n",
       "3            BRONX  \n",
       "4         BROOKLYN  \n",
       "...            ...  \n",
       "6019838  MANHATTAN  \n",
       "6019839      BRONX  \n",
       "6019840  MANHATTAN  \n",
       "6019841      BRONX  \n",
       "6019842  MANHATTAN  \n",
       "\n",
       "[6019843 rows x 8 columns]"
      ]
     },
     "execution_count": 7,
     "metadata": {},
     "output_type": "execute_result"
    }
   ],
   "source": [
    "df"
   ]
  },
  {
   "cell_type": "code",
   "execution_count": 8,
   "metadata": {},
   "outputs": [],
   "source": [
    "#df.to_csv(\"311mod.csv\",index=False)"
   ]
  },
  {
   "cell_type": "markdown",
   "metadata": {},
   "source": [
    "### Reload Modified Dataset"
   ]
  },
  {
   "cell_type": "code",
   "execution_count": 9,
   "metadata": {},
   "outputs": [],
   "source": [
    "df = pd.read_csv(\"311mod.csv\", na_values=np.nan)"
   ]
  },
  {
   "cell_type": "code",
   "execution_count": 10,
   "metadata": {},
   "outputs": [
    {
     "data": {
      "text/html": [
       "<div>\n",
       "<style scoped>\n",
       "    .dataframe tbody tr th:only-of-type {\n",
       "        vertical-align: middle;\n",
       "    }\n",
       "\n",
       "    .dataframe tbody tr th {\n",
       "        vertical-align: top;\n",
       "    }\n",
       "\n",
       "    .dataframe thead th {\n",
       "        text-align: right;\n",
       "    }\n",
       "</style>\n",
       "<table border=\"1\" class=\"dataframe\">\n",
       "  <thead>\n",
       "    <tr style=\"text-align: right;\">\n",
       "      <th></th>\n",
       "      <th>Unique Key</th>\n",
       "      <th>Created Date</th>\n",
       "      <th>Complaint Type</th>\n",
       "      <th>Incident Zip</th>\n",
       "      <th>Incident Address</th>\n",
       "      <th>City</th>\n",
       "      <th>Status</th>\n",
       "      <th>Borough</th>\n",
       "    </tr>\n",
       "  </thead>\n",
       "  <tbody>\n",
       "    <tr>\n",
       "      <th>0</th>\n",
       "      <td>45531130</td>\n",
       "      <td>02/02/2020 06:09:17 AM</td>\n",
       "      <td>HEAT/HOT WATER</td>\n",
       "      <td>10019.0</td>\n",
       "      <td>426 WEST   52 STREET</td>\n",
       "      <td>NEW YORK</td>\n",
       "      <td>Open</td>\n",
       "      <td>MANHATTAN</td>\n",
       "    </tr>\n",
       "    <tr>\n",
       "      <th>1</th>\n",
       "      <td>45529784</td>\n",
       "      <td>02/02/2020 02:15:24 PM</td>\n",
       "      <td>UNSANITARY CONDITION</td>\n",
       "      <td>11204.0</td>\n",
       "      <td>1751 67 STREET</td>\n",
       "      <td>BROOKLYN</td>\n",
       "      <td>Open</td>\n",
       "      <td>BROOKLYN</td>\n",
       "    </tr>\n",
       "    <tr>\n",
       "      <th>2</th>\n",
       "      <td>45527528</td>\n",
       "      <td>02/02/2020 02:27:41 AM</td>\n",
       "      <td>HEAT/HOT WATER</td>\n",
       "      <td>11372.0</td>\n",
       "      <td>87-15 37 AVENUE</td>\n",
       "      <td>Jackson Heights</td>\n",
       "      <td>Open</td>\n",
       "      <td>QUEENS</td>\n",
       "    </tr>\n",
       "    <tr>\n",
       "      <th>3</th>\n",
       "      <td>45530329</td>\n",
       "      <td>02/02/2020 12:13:18 PM</td>\n",
       "      <td>HEAT/HOT WATER</td>\n",
       "      <td>10458.0</td>\n",
       "      <td>2405 SOUTHERN BOULEVARD</td>\n",
       "      <td>BRONX</td>\n",
       "      <td>Open</td>\n",
       "      <td>BRONX</td>\n",
       "    </tr>\n",
       "    <tr>\n",
       "      <th>4</th>\n",
       "      <td>45528814</td>\n",
       "      <td>02/02/2020 01:59:44 PM</td>\n",
       "      <td>APPLIANCE</td>\n",
       "      <td>11209.0</td>\n",
       "      <td>223 78 STREET</td>\n",
       "      <td>BROOKLYN</td>\n",
       "      <td>Open</td>\n",
       "      <td>BROOKLYN</td>\n",
       "    </tr>\n",
       "    <tr>\n",
       "      <th>...</th>\n",
       "      <td>...</td>\n",
       "      <td>...</td>\n",
       "      <td>...</td>\n",
       "      <td>...</td>\n",
       "      <td>...</td>\n",
       "      <td>...</td>\n",
       "      <td>...</td>\n",
       "      <td>...</td>\n",
       "    </tr>\n",
       "    <tr>\n",
       "      <th>6019838</th>\n",
       "      <td>44063685</td>\n",
       "      <td>10/15/2019 10:35:45 AM</td>\n",
       "      <td>HEAT/HOT WATER</td>\n",
       "      <td>10029.0</td>\n",
       "      <td>327 EAST  108 STREET</td>\n",
       "      <td>NEW YORK</td>\n",
       "      <td>Closed</td>\n",
       "      <td>MANHATTAN</td>\n",
       "    </tr>\n",
       "    <tr>\n",
       "      <th>6019839</th>\n",
       "      <td>44063692</td>\n",
       "      <td>10/15/2019 06:09:28 AM</td>\n",
       "      <td>HEAT/HOT WATER</td>\n",
       "      <td>10461.0</td>\n",
       "      <td>3555 BRUCKNER BOULEVARD</td>\n",
       "      <td>BRONX</td>\n",
       "      <td>Closed</td>\n",
       "      <td>BRONX</td>\n",
       "    </tr>\n",
       "    <tr>\n",
       "      <th>6019840</th>\n",
       "      <td>44063724</td>\n",
       "      <td>10/15/2019 10:54:45 AM</td>\n",
       "      <td>HEAT/HOT WATER</td>\n",
       "      <td>10034.0</td>\n",
       "      <td>165 SHERMAN AVENUE</td>\n",
       "      <td>NEW YORK</td>\n",
       "      <td>Closed</td>\n",
       "      <td>MANHATTAN</td>\n",
       "    </tr>\n",
       "    <tr>\n",
       "      <th>6019841</th>\n",
       "      <td>44063726</td>\n",
       "      <td>10/15/2019 02:07:34 PM</td>\n",
       "      <td>HEAT/HOT WATER</td>\n",
       "      <td>10467.0</td>\n",
       "      <td>66 WEST GUN HILL ROAD</td>\n",
       "      <td>BRONX</td>\n",
       "      <td>Closed</td>\n",
       "      <td>BRONX</td>\n",
       "    </tr>\n",
       "    <tr>\n",
       "      <th>6019842</th>\n",
       "      <td>44063737</td>\n",
       "      <td>10/15/2019 11:29:01 AM</td>\n",
       "      <td>PAINT/PLASTER</td>\n",
       "      <td>10009.0</td>\n",
       "      <td>143 AVENUE D</td>\n",
       "      <td>NEW YORK</td>\n",
       "      <td>Closed</td>\n",
       "      <td>MANHATTAN</td>\n",
       "    </tr>\n",
       "  </tbody>\n",
       "</table>\n",
       "<p>6019843 rows × 8 columns</p>\n",
       "</div>"
      ],
      "text/plain": [
       "         Unique Key            Created Date        Complaint Type  \\\n",
       "0          45531130  02/02/2020 06:09:17 AM        HEAT/HOT WATER   \n",
       "1          45529784  02/02/2020 02:15:24 PM  UNSANITARY CONDITION   \n",
       "2          45527528  02/02/2020 02:27:41 AM        HEAT/HOT WATER   \n",
       "3          45530329  02/02/2020 12:13:18 PM        HEAT/HOT WATER   \n",
       "4          45528814  02/02/2020 01:59:44 PM             APPLIANCE   \n",
       "...             ...                     ...                   ...   \n",
       "6019838    44063685  10/15/2019 10:35:45 AM        HEAT/HOT WATER   \n",
       "6019839    44063692  10/15/2019 06:09:28 AM        HEAT/HOT WATER   \n",
       "6019840    44063724  10/15/2019 10:54:45 AM        HEAT/HOT WATER   \n",
       "6019841    44063726  10/15/2019 02:07:34 PM        HEAT/HOT WATER   \n",
       "6019842    44063737  10/15/2019 11:29:01 AM         PAINT/PLASTER   \n",
       "\n",
       "         Incident Zip         Incident Address             City  Status  \\\n",
       "0             10019.0     426 WEST   52 STREET         NEW YORK    Open   \n",
       "1             11204.0           1751 67 STREET         BROOKLYN    Open   \n",
       "2             11372.0          87-15 37 AVENUE  Jackson Heights    Open   \n",
       "3             10458.0  2405 SOUTHERN BOULEVARD            BRONX    Open   \n",
       "4             11209.0            223 78 STREET         BROOKLYN    Open   \n",
       "...               ...                      ...              ...     ...   \n",
       "6019838       10029.0     327 EAST  108 STREET         NEW YORK  Closed   \n",
       "6019839       10461.0  3555 BRUCKNER BOULEVARD            BRONX  Closed   \n",
       "6019840       10034.0       165 SHERMAN AVENUE         NEW YORK  Closed   \n",
       "6019841       10467.0    66 WEST GUN HILL ROAD            BRONX  Closed   \n",
       "6019842       10009.0             143 AVENUE D         NEW YORK  Closed   \n",
       "\n",
       "           Borough  \n",
       "0        MANHATTAN  \n",
       "1         BROOKLYN  \n",
       "2           QUEENS  \n",
       "3            BRONX  \n",
       "4         BROOKLYN  \n",
       "...            ...  \n",
       "6019838  MANHATTAN  \n",
       "6019839      BRONX  \n",
       "6019840  MANHATTAN  \n",
       "6019841      BRONX  \n",
       "6019842  MANHATTAN  \n",
       "\n",
       "[6019843 rows x 8 columns]"
      ]
     },
     "execution_count": 10,
     "metadata": {},
     "output_type": "execute_result"
    }
   ],
   "source": [
    "df"
   ]
  },
  {
   "cell_type": "markdown",
   "metadata": {},
   "source": [
    "### Exploratory Data Analysis"
   ]
  },
  {
   "cell_type": "code",
   "execution_count": 11,
   "metadata": {},
   "outputs": [
    {
     "name": "stdout",
     "output_type": "stream",
     "text": [
      "<class 'pandas.core.frame.DataFrame'>\n",
      "RangeIndex: 6019843 entries, 0 to 6019842\n",
      "Data columns (total 8 columns):\n",
      " #   Column            Non-Null Count    Dtype  \n",
      "---  ------            --------------    -----  \n",
      " 0   Unique Key        6019843 non-null  int64  \n",
      " 1   Created Date      6019843 non-null  object \n",
      " 2   Complaint Type    6019843 non-null  object \n",
      " 3   Incident Zip      5939146 non-null  float64\n",
      " 4   Incident Address  5967018 non-null  object \n",
      " 5   City              5939569 non-null  object \n",
      " 6   Status            6019843 non-null  object \n",
      " 7   Borough           6019843 non-null  object \n",
      "dtypes: float64(1), int64(1), object(6)\n",
      "memory usage: 367.4+ MB\n"
     ]
    }
   ],
   "source": [
    "df.info(null_counts=True)"
   ]
  },
  {
   "cell_type": "code",
   "execution_count": 12,
   "metadata": {},
   "outputs": [
    {
     "data": {
      "text/html": [
       "<div>\n",
       "<style scoped>\n",
       "    .dataframe tbody tr th:only-of-type {\n",
       "        vertical-align: middle;\n",
       "    }\n",
       "\n",
       "    .dataframe tbody tr th {\n",
       "        vertical-align: top;\n",
       "    }\n",
       "\n",
       "    .dataframe thead th {\n",
       "        text-align: right;\n",
       "    }\n",
       "</style>\n",
       "<table border=\"1\" class=\"dataframe\">\n",
       "  <thead>\n",
       "    <tr style=\"text-align: right;\">\n",
       "      <th></th>\n",
       "      <th>Unique Key</th>\n",
       "      <th>Incident Zip</th>\n",
       "    </tr>\n",
       "  </thead>\n",
       "  <tbody>\n",
       "    <tr>\n",
       "      <th>count</th>\n",
       "      <td>6.019843e+06</td>\n",
       "      <td>5.939146e+06</td>\n",
       "    </tr>\n",
       "    <tr>\n",
       "      <th>mean</th>\n",
       "      <td>2.956254e+07</td>\n",
       "      <td>1.074698e+04</td>\n",
       "    </tr>\n",
       "    <tr>\n",
       "      <th>std</th>\n",
       "      <td>7.909439e+06</td>\n",
       "      <td>5.130236e+02</td>\n",
       "    </tr>\n",
       "    <tr>\n",
       "      <th>min</th>\n",
       "      <td>1.562973e+07</td>\n",
       "      <td>1.000100e+04</td>\n",
       "    </tr>\n",
       "    <tr>\n",
       "      <th>25%</th>\n",
       "      <td>2.291225e+07</td>\n",
       "      <td>1.045200e+04</td>\n",
       "    </tr>\n",
       "    <tr>\n",
       "      <th>50%</th>\n",
       "      <td>2.931010e+07</td>\n",
       "      <td>1.046900e+04</td>\n",
       "    </tr>\n",
       "    <tr>\n",
       "      <th>75%</th>\n",
       "      <td>3.583163e+07</td>\n",
       "      <td>1.122300e+04</td>\n",
       "    </tr>\n",
       "    <tr>\n",
       "      <th>max</th>\n",
       "      <td>4.553204e+07</td>\n",
       "      <td>1.234500e+04</td>\n",
       "    </tr>\n",
       "  </tbody>\n",
       "</table>\n",
       "</div>"
      ],
      "text/plain": [
       "         Unique Key  Incident Zip\n",
       "count  6.019843e+06  5.939146e+06\n",
       "mean   2.956254e+07  1.074698e+04\n",
       "std    7.909439e+06  5.130236e+02\n",
       "min    1.562973e+07  1.000100e+04\n",
       "25%    2.291225e+07  1.045200e+04\n",
       "50%    2.931010e+07  1.046900e+04\n",
       "75%    3.583163e+07  1.122300e+04\n",
       "max    4.553204e+07  1.234500e+04"
      ]
     },
     "execution_count": 12,
     "metadata": {},
     "output_type": "execute_result"
    }
   ],
   "source": [
    "df.describe()"
   ]
  },
  {
   "cell_type": "code",
   "execution_count": 13,
   "metadata": {},
   "outputs": [
    {
     "data": {
      "text/plain": [
       "Index(['Unique Key', 'Created Date', 'Complaint Type', 'Incident Zip',\n",
       "       'Incident Address', 'City', 'Status', 'Borough'],\n",
       "      dtype='object')"
      ]
     },
     "execution_count": 13,
     "metadata": {},
     "output_type": "execute_result"
    }
   ],
   "source": [
    "df.columns"
   ]
  },
  {
   "cell_type": "markdown",
   "metadata": {},
   "source": [
    "### What is the total number of complaints that exist in the dataset?"
   ]
  },
  {
   "cell_type": "code",
   "execution_count": 14,
   "metadata": {},
   "outputs": [
    {
     "data": {
      "text/plain": [
       "(6019843, 8)"
      ]
     },
     "execution_count": 14,
     "metadata": {},
     "output_type": "execute_result"
    }
   ],
   "source": [
    "df.shape"
   ]
  },
  {
   "cell_type": "code",
   "execution_count": 15,
   "metadata": {},
   "outputs": [
    {
     "data": {
      "text/plain": [
       "6019843"
      ]
     },
     "execution_count": 15,
     "metadata": {},
     "output_type": "execute_result"
    }
   ],
   "source": [
    "df[\"Unique Key\"].nunique()"
   ]
  },
  {
   "cell_type": "code",
   "execution_count": 16,
   "metadata": {},
   "outputs": [
    {
     "data": {
      "text/plain": [
       "1675132"
      ]
     },
     "execution_count": 16,
     "metadata": {},
     "output_type": "execute_result"
    }
   ],
   "source": [
    "df[\"Created Date\"].nunique()"
   ]
  },
  {
   "cell_type": "markdown",
   "metadata": {},
   "source": [
    "### How many different Complain Types can you find in the dataset, including duplicates entries of the same type?"
   ]
  },
  {
   "cell_type": "code",
   "execution_count": 17,
   "metadata": {},
   "outputs": [
    {
     "data": {
      "text/plain": [
       "30"
      ]
     },
     "execution_count": 17,
     "metadata": {},
     "output_type": "execute_result"
    }
   ],
   "source": [
    "df[\"Complaint Type\"].nunique()"
   ]
  },
  {
   "cell_type": "code",
   "execution_count": 18,
   "metadata": {},
   "outputs": [
    {
     "data": {
      "text/plain": [
       "array(['HEAT/HOT WATER', 'UNSANITARY CONDITION', 'APPLIANCE', 'GENERAL',\n",
       "       'ELECTRIC', 'PLUMBING', 'PAINT/PLASTER', 'WATER LEAK', 'SAFETY',\n",
       "       'DOOR/WINDOW', 'OUTSIDE BUILDING', 'ELEVATOR', 'FLOORING/STAIRS',\n",
       "       'Unsanitary Condition', 'HPD Literature Request', 'HEATING',\n",
       "       'PAINT - PLASTER', 'Safety', 'Electric', 'General', 'Appliance',\n",
       "       'GENERAL CONSTRUCTION', 'NONCONST', 'CONSTRUCTION', 'AGENCY',\n",
       "       'STRUCTURAL', 'VACANT APARTMENT', 'Outside Building', 'Plumbing',\n",
       "       'Mold'], dtype=object)"
      ]
     },
     "execution_count": 18,
     "metadata": {},
     "output_type": "execute_result"
    }
   ],
   "source": [
    "df[\"Complaint Type\"].unique()"
   ]
  },
  {
   "cell_type": "code",
   "execution_count": 19,
   "metadata": {},
   "outputs": [
    {
     "data": {
      "text/plain": [
       "HEAT/HOT WATER            1261574\n",
       "HEATING                    887850\n",
       "PLUMBING                   711130\n",
       "GENERAL CONSTRUCTION       500863\n",
       "UNSANITARY CONDITION       451643\n",
       "PAINT - PLASTER            361257\n",
       "PAINT/PLASTER              346438\n",
       "ELECTRIC                   307310\n",
       "NONCONST                   260890\n",
       "DOOR/WINDOW                205278\n",
       "WATER LEAK                 193631\n",
       "GENERAL                    151308\n",
       "FLOORING/STAIRS            137402\n",
       "APPLIANCE                  112831\n",
       "HPD Literature Request      52824\n",
       "SAFETY                      51529\n",
       "OUTSIDE BUILDING             7142\n",
       "ELEVATOR                     6725\n",
       "Unsanitary Condition         5499\n",
       "CONSTRUCTION                 5078\n",
       "General                      1163\n",
       "Safety                        424\n",
       "STRUCTURAL                     16\n",
       "Plumbing                       11\n",
       "AGENCY                          9\n",
       "Outside Building                6\n",
       "VACANT APARTMENT                6\n",
       "Appliance                       4\n",
       "Mold                            1\n",
       "Electric                        1\n",
       "Name: Complaint Type, dtype: int64"
      ]
     },
     "execution_count": 19,
     "metadata": {},
     "output_type": "execute_result"
    }
   ],
   "source": [
    "df[\"Complaint Type\"].value_counts()"
   ]
  },
  {
   "cell_type": "code",
   "execution_count": 20,
   "metadata": {},
   "outputs": [
    {
     "data": {
      "text/plain": [
       "202"
      ]
     },
     "execution_count": 20,
     "metadata": {},
     "output_type": "execute_result"
    }
   ],
   "source": [
    "df[\"Incident Zip\"].nunique()"
   ]
  },
  {
   "cell_type": "markdown",
   "metadata": {},
   "source": [
    "### Cardinality check for incident address (The cardinality of the data in PLUTO dataset is at the same level as the complaint dataset?)"
   ]
  },
  {
   "cell_type": "code",
   "execution_count": 21,
   "metadata": {},
   "outputs": [
    {
     "data": {
      "text/plain": [
       "182600"
      ]
     },
     "execution_count": 21,
     "metadata": {},
     "output_type": "execute_result"
    }
   ],
   "source": [
    "df[\"Incident Address\"].nunique()"
   ]
  },
  {
   "cell_type": "code",
   "execution_count": 22,
   "metadata": {},
   "outputs": [
    {
     "data": {
      "text/plain": [
       "89"
      ]
     },
     "execution_count": 22,
     "metadata": {},
     "output_type": "execute_result"
    }
   ],
   "source": [
    "df[\"City\"].nunique()"
   ]
  },
  {
   "cell_type": "code",
   "execution_count": 23,
   "metadata": {},
   "outputs": [
    {
     "data": {
      "text/plain": [
       "5"
      ]
     },
     "execution_count": 23,
     "metadata": {},
     "output_type": "execute_result"
    }
   ],
   "source": [
    "df[\"Status\"].nunique()"
   ]
  },
  {
   "cell_type": "code",
   "execution_count": 24,
   "metadata": {},
   "outputs": [
    {
     "data": {
      "text/plain": [
       "Closed         5886253\n",
       "Open            133220\n",
       "In Progress        364\n",
       "Assigned             4\n",
       "Pending              2\n",
       "Name: Status, dtype: int64"
      ]
     },
     "execution_count": 24,
     "metadata": {},
     "output_type": "execute_result"
    }
   ],
   "source": [
    "df[\"Status\"].value_counts()"
   ]
  },
  {
   "cell_type": "code",
   "execution_count": 25,
   "metadata": {},
   "outputs": [
    {
     "data": {
      "text/plain": [
       "6"
      ]
     },
     "execution_count": 25,
     "metadata": {},
     "output_type": "execute_result"
    }
   ],
   "source": [
    "df[\"Borough\"].nunique()"
   ]
  },
  {
   "cell_type": "code",
   "execution_count": null,
   "metadata": {},
   "outputs": [],
   "source": []
  },
  {
   "cell_type": "markdown",
   "metadata": {},
   "source": [
    "### Data Visualization"
   ]
  },
  {
   "cell_type": "markdown",
   "metadata": {},
   "source": [
    "### Univariate Data Exploration"
   ]
  },
  {
   "cell_type": "code",
   "execution_count": 26,
   "metadata": {},
   "outputs": [
    {
     "data": {
      "image/png": "[encoded data removed]",
      "text/plain": [
       "<Figure size 1440x576 with 2 Axes>"
      ]
     },
     "metadata": {},
     "output_type": "display_data"
    }
   ],
   "source": [
    "df.hist(bins=50, figsize=(20,8))\n",
    "\n",
    "plt.suptitle('Feature Distribution', x=0.5, y=1.02, ha='center', fontsize='large')\n",
    "\n",
    "plt.tight_layout()\n",
    "\n",
    "plt.show()"
   ]
  },
  {
   "cell_type": "code",
   "execution_count": 27,
   "metadata": {},
   "outputs": [
    {
     "data": {
      "image/png": "[encoded data removed]",
      "text/plain": [
       "<Figure size 1440x576 with 1 Axes>"
      ]
     },
     "metadata": {},
     "output_type": "display_data"
    }
   ],
   "source": [
    "df.boxplot(figsize=(20,8))\n",
    "\n",
    "plt.suptitle('BoxPlot', x=0.5, y=1.02, ha='center', fontsize='large')\n",
    "\n",
    "plt.tight_layout()\n",
    "\n",
    "plt.show()"
   ]
  },
  {
   "cell_type": "code",
   "execution_count": 28,
   "metadata": {},
   "outputs": [
    {
     "data": {
      "image/png": "[encoded data removed]",
      "text/plain": [
       "<Figure size 1440x2880 with 5 Axes>"
      ]
     },
     "metadata": {},
     "output_type": "display_data"
    }
   ],
   "source": [
    "fig = plt.figure(figsize=(20,40))\n",
    "\n",
    "plt.subplot(7,1,1)\n",
    "plt.title(\"\")\n",
    "plt.xticks(rotation=90)\n",
    "sns.countplot(x='Complaint Type', data=df)\n",
    "\n",
    "plt.subplot(7,1,2)\n",
    "plt.title(\"\")\n",
    "plt.xticks(rotation=90)\n",
    "sns.countplot(x='Incident Zip', data=df)\n",
    "\n",
    "plt.subplot(7,1,3)\n",
    "plt.title(\"\")\n",
    "plt.xticks(rotation=90)\n",
    "sns.countplot(x='City', data=df)\n",
    "\n",
    "plt.subplot(7,1,4)\n",
    "plt.title(\"\")\n",
    "sns.countplot(x='Status', data=df)\n",
    "\n",
    "plt.subplot(7,1,5)\n",
    "plt.title(\"\")\n",
    "sns.countplot(x='Borough', data=df)\n",
    "\n",
    "plt.tight_layout()\n",
    "plt.show()"
   ]
  },
  {
   "cell_type": "code",
   "execution_count": 29,
   "metadata": {},
   "outputs": [],
   "source": [
    "# plt.figure(figsize=(20,20))\n",
    "# plt.suptitle('Pairplots of features', x=0.5, y=1.02, ha='center', fontsize='large')\n",
    "# sns.pairplot(df.sample(500))\n",
    "# plt.show()"
   ]
  },
  {
   "cell_type": "markdown",
   "metadata": {},
   "source": [
    "### The dataset contains complaints logged since what date?"
   ]
  },
  {
   "cell_type": "code",
   "execution_count": 30,
   "metadata": {},
   "outputs": [
    {
     "data": {
      "text/plain": [
       "177182    01/01/2010 02:31:13 PM\n",
       "177179    01/01/2010 02:39:02 PM\n",
       "177186    01/01/2010 04:18:46 PM\n",
       "177188    01/01/2010 04:59:23 PM\n",
       "177180    01/01/2010 05:00:01 AM\n",
       "                   ...          \n",
       "62668     12/31/2019 12:57:51 AM\n",
       "76629     12/31/2019 12:58:50 PM\n",
       "6410      12/31/2019 12:59:01 PM\n",
       "6764      12/31/2019 12:59:06 PM\n",
       "76613     12/31/2019 12:59:12 PM\n",
       "Name: Created Date, Length: 6019843, dtype: object"
      ]
     },
     "execution_count": 30,
     "metadata": {},
     "output_type": "execute_result"
    }
   ],
   "source": [
    "df[\"Created Date\"].sort_values()"
   ]
  },
  {
   "cell_type": "code",
   "execution_count": 31,
   "metadata": {},
   "outputs": [
    {
     "data": {
      "text/html": [
       "<div>\n",
       "<style scoped>\n",
       "    .dataframe tbody tr th:only-of-type {\n",
       "        vertical-align: middle;\n",
       "    }\n",
       "\n",
       "    .dataframe tbody tr th {\n",
       "        vertical-align: top;\n",
       "    }\n",
       "\n",
       "    .dataframe thead th {\n",
       "        text-align: right;\n",
       "    }\n",
       "</style>\n",
       "<table border=\"1\" class=\"dataframe\">\n",
       "  <thead>\n",
       "    <tr style=\"text-align: right;\">\n",
       "      <th></th>\n",
       "      <th>Unique Key</th>\n",
       "      <th>Created Date</th>\n",
       "      <th>Complaint Type</th>\n",
       "      <th>Incident Zip</th>\n",
       "      <th>Incident Address</th>\n",
       "      <th>City</th>\n",
       "      <th>Status</th>\n",
       "      <th>Borough</th>\n",
       "    </tr>\n",
       "  </thead>\n",
       "  <tbody>\n",
       "    <tr>\n",
       "      <th>250933</th>\n",
       "      <td>15629728</td>\n",
       "      <td>01/01/2010 12:00:00 AM</td>\n",
       "      <td>HEATING</td>\n",
       "      <td>11210.0</td>\n",
       "      <td>3101 FOSTER AVENUE</td>\n",
       "      <td>BROOKLYN</td>\n",
       "      <td>Closed</td>\n",
       "      <td>Unspecified</td>\n",
       "    </tr>\n",
       "    <tr>\n",
       "      <th>250934</th>\n",
       "      <td>15629899</td>\n",
       "      <td>01/01/2010 12:00:00 AM</td>\n",
       "      <td>PLUMBING</td>\n",
       "      <td>11106.0</td>\n",
       "      <td>31-54 29 STREET</td>\n",
       "      <td>ASTORIA</td>\n",
       "      <td>Closed</td>\n",
       "      <td>Unspecified</td>\n",
       "    </tr>\n",
       "    <tr>\n",
       "      <th>250935</th>\n",
       "      <td>15630099</td>\n",
       "      <td>01/01/2010 12:00:00 AM</td>\n",
       "      <td>HEATING</td>\n",
       "      <td>10466.0</td>\n",
       "      <td>1405 EAST 233 STREET</td>\n",
       "      <td>BRONX</td>\n",
       "      <td>Closed</td>\n",
       "      <td>Unspecified</td>\n",
       "    </tr>\n",
       "    <tr>\n",
       "      <th>250936</th>\n",
       "      <td>15630315</td>\n",
       "      <td>01/01/2010 12:00:00 AM</td>\n",
       "      <td>PLUMBING</td>\n",
       "      <td>11106.0</td>\n",
       "      <td>31-54 29 STREET</td>\n",
       "      <td>ASTORIA</td>\n",
       "      <td>Closed</td>\n",
       "      <td>Unspecified</td>\n",
       "    </tr>\n",
       "    <tr>\n",
       "      <th>250937</th>\n",
       "      <td>15630431</td>\n",
       "      <td>01/01/2010 12:00:00 AM</td>\n",
       "      <td>HEATING</td>\n",
       "      <td>11226.0</td>\n",
       "      <td>22 MARTENSE STREET</td>\n",
       "      <td>BROOKLYN</td>\n",
       "      <td>Closed</td>\n",
       "      <td>Unspecified</td>\n",
       "    </tr>\n",
       "    <tr>\n",
       "      <th>...</th>\n",
       "      <td>...</td>\n",
       "      <td>...</td>\n",
       "      <td>...</td>\n",
       "      <td>...</td>\n",
       "      <td>...</td>\n",
       "      <td>...</td>\n",
       "      <td>...</td>\n",
       "      <td>...</td>\n",
       "    </tr>\n",
       "    <tr>\n",
       "      <th>336</th>\n",
       "      <td>45532039</td>\n",
       "      <td>02/02/2020 02:09:33 PM</td>\n",
       "      <td>HEAT/HOT WATER</td>\n",
       "      <td>11235.0</td>\n",
       "      <td>2750 HOMECREST AVENUE</td>\n",
       "      <td>BROOKLYN</td>\n",
       "      <td>Open</td>\n",
       "      <td>BROOKLYN</td>\n",
       "    </tr>\n",
       "    <tr>\n",
       "      <th>76</th>\n",
       "      <td>45532040</td>\n",
       "      <td>02/02/2020 11:37:42 PM</td>\n",
       "      <td>HEAT/HOT WATER</td>\n",
       "      <td>11214.0</td>\n",
       "      <td>8301 BAY PARKWAY</td>\n",
       "      <td>BROOKLYN</td>\n",
       "      <td>Open</td>\n",
       "      <td>BROOKLYN</td>\n",
       "    </tr>\n",
       "    <tr>\n",
       "      <th>561</th>\n",
       "      <td>45532041</td>\n",
       "      <td>02/02/2020 04:15:59 PM</td>\n",
       "      <td>HEAT/HOT WATER</td>\n",
       "      <td>10031.0</td>\n",
       "      <td>3675 BROADWAY</td>\n",
       "      <td>NEW YORK</td>\n",
       "      <td>Open</td>\n",
       "      <td>MANHATTAN</td>\n",
       "    </tr>\n",
       "    <tr>\n",
       "      <th>316</th>\n",
       "      <td>45532042</td>\n",
       "      <td>02/02/2020 05:57:23 PM</td>\n",
       "      <td>HEAT/HOT WATER</td>\n",
       "      <td>10452.0</td>\n",
       "      <td>1441 EDWARD L GRANT HIGHWAY</td>\n",
       "      <td>BRONX</td>\n",
       "      <td>Open</td>\n",
       "      <td>BRONX</td>\n",
       "    </tr>\n",
       "    <tr>\n",
       "      <th>304</th>\n",
       "      <td>45532043</td>\n",
       "      <td>02/02/2020 04:49:04 PM</td>\n",
       "      <td>HEAT/HOT WATER</td>\n",
       "      <td>11214.0</td>\n",
       "      <td>1653 76 STREET</td>\n",
       "      <td>BROOKLYN</td>\n",
       "      <td>Open</td>\n",
       "      <td>BROOKLYN</td>\n",
       "    </tr>\n",
       "  </tbody>\n",
       "</table>\n",
       "<p>6019843 rows × 8 columns</p>\n",
       "</div>"
      ],
      "text/plain": [
       "        Unique Key            Created Date  Complaint Type  Incident Zip  \\\n",
       "250933    15629728  01/01/2010 12:00:00 AM         HEATING       11210.0   \n",
       "250934    15629899  01/01/2010 12:00:00 AM        PLUMBING       11106.0   \n",
       "250935    15630099  01/01/2010 12:00:00 AM         HEATING       10466.0   \n",
       "250936    15630315  01/01/2010 12:00:00 AM        PLUMBING       11106.0   \n",
       "250937    15630431  01/01/2010 12:00:00 AM         HEATING       11226.0   \n",
       "...            ...                     ...             ...           ...   \n",
       "336       45532039  02/02/2020 02:09:33 PM  HEAT/HOT WATER       11235.0   \n",
       "76        45532040  02/02/2020 11:37:42 PM  HEAT/HOT WATER       11214.0   \n",
       "561       45532041  02/02/2020 04:15:59 PM  HEAT/HOT WATER       10031.0   \n",
       "316       45532042  02/02/2020 05:57:23 PM  HEAT/HOT WATER       10452.0   \n",
       "304       45532043  02/02/2020 04:49:04 PM  HEAT/HOT WATER       11214.0   \n",
       "\n",
       "                   Incident Address      City  Status      Borough  \n",
       "250933           3101 FOSTER AVENUE  BROOKLYN  Closed  Unspecified  \n",
       "250934              31-54 29 STREET   ASTORIA  Closed  Unspecified  \n",
       "250935         1405 EAST 233 STREET     BRONX  Closed  Unspecified  \n",
       "250936              31-54 29 STREET   ASTORIA  Closed  Unspecified  \n",
       "250937           22 MARTENSE STREET  BROOKLYN  Closed  Unspecified  \n",
       "...                             ...       ...     ...          ...  \n",
       "336           2750 HOMECREST AVENUE  BROOKLYN    Open     BROOKLYN  \n",
       "76                 8301 BAY PARKWAY  BROOKLYN    Open     BROOKLYN  \n",
       "561                   3675 BROADWAY  NEW YORK    Open    MANHATTAN  \n",
       "316     1441 EDWARD L GRANT HIGHWAY     BRONX    Open        BRONX  \n",
       "304                  1653 76 STREET  BROOKLYN    Open     BROOKLYN  \n",
       "\n",
       "[6019843 rows x 8 columns]"
      ]
     },
     "execution_count": 31,
     "metadata": {},
     "output_type": "execute_result"
    }
   ],
   "source": [
    "df.sort_values(by=\"Unique Key\")"
   ]
  },
  {
   "cell_type": "markdown",
   "metadata": {},
   "source": [
    "### What is the total number of complaints that exist in the dataset?"
   ]
  },
  {
   "cell_type": "code",
   "execution_count": 32,
   "metadata": {},
   "outputs": [
    {
     "data": {
      "text/plain": [
       "count            6019843\n",
       "unique                30\n",
       "top       HEAT/HOT WATER\n",
       "freq             1261574\n",
       "Name: Complaint Type, dtype: object"
      ]
     },
     "execution_count": 32,
     "metadata": {},
     "output_type": "execute_result"
    }
   ],
   "source": [
    "df[\"Complaint Type\"].describe()"
   ]
  },
  {
   "cell_type": "markdown",
   "metadata": {},
   "source": [
    "### How many HEATING complaints are with the closed status"
   ]
  },
  {
   "cell_type": "code",
   "execution_count": 33,
   "metadata": {},
   "outputs": [
    {
     "data": {
      "text/plain": [
       "Closed         5886253\n",
       "Open            133220\n",
       "In Progress        364\n",
       "Assigned             4\n",
       "Pending              2\n",
       "Name: Status, dtype: int64"
      ]
     },
     "execution_count": 33,
     "metadata": {},
     "output_type": "execute_result"
    }
   ],
   "source": [
    "df[\"Status\"].value_counts()"
   ]
  },
  {
   "cell_type": "code",
   "execution_count": 34,
   "metadata": {},
   "outputs": [],
   "source": [
    "closedcases = df[df[\"Status\"] == \"Closed\"]"
   ]
  },
  {
   "cell_type": "code",
   "execution_count": 35,
   "metadata": {},
   "outputs": [
    {
     "data": {
      "text/html": [
       "<div>\n",
       "<style scoped>\n",
       "    .dataframe tbody tr th:only-of-type {\n",
       "        vertical-align: middle;\n",
       "    }\n",
       "\n",
       "    .dataframe tbody tr th {\n",
       "        vertical-align: top;\n",
       "    }\n",
       "\n",
       "    .dataframe thead th {\n",
       "        text-align: right;\n",
       "    }\n",
       "</style>\n",
       "<table border=\"1\" class=\"dataframe\">\n",
       "  <thead>\n",
       "    <tr style=\"text-align: right;\">\n",
       "      <th></th>\n",
       "      <th>Unique Key</th>\n",
       "      <th>Created Date</th>\n",
       "      <th>Complaint Type</th>\n",
       "      <th>Incident Zip</th>\n",
       "      <th>Incident Address</th>\n",
       "      <th>City</th>\n",
       "      <th>Status</th>\n",
       "      <th>Borough</th>\n",
       "    </tr>\n",
       "  </thead>\n",
       "  <tbody>\n",
       "    <tr>\n",
       "      <th>33</th>\n",
       "      <td>45530303</td>\n",
       "      <td>02/02/2020 08:24:04 AM</td>\n",
       "      <td>HEAT/HOT WATER</td>\n",
       "      <td>10457.0</td>\n",
       "      <td>2176 TIEBOUT AVENUE</td>\n",
       "      <td>BRONX</td>\n",
       "      <td>Closed</td>\n",
       "      <td>BRONX</td>\n",
       "    </tr>\n",
       "    <tr>\n",
       "      <th>82</th>\n",
       "      <td>45527549</td>\n",
       "      <td>02/02/2020 07:49:04 AM</td>\n",
       "      <td>HEAT/HOT WATER</td>\n",
       "      <td>11203.0</td>\n",
       "      <td>676 MIDWOOD STREET</td>\n",
       "      <td>BROOKLYN</td>\n",
       "      <td>Closed</td>\n",
       "      <td>BROOKLYN</td>\n",
       "    </tr>\n",
       "    <tr>\n",
       "      <th>85</th>\n",
       "      <td>45529809</td>\n",
       "      <td>02/02/2020 12:09:59 PM</td>\n",
       "      <td>HEAT/HOT WATER</td>\n",
       "      <td>10457.0</td>\n",
       "      <td>2176 TIEBOUT AVENUE</td>\n",
       "      <td>BRONX</td>\n",
       "      <td>Closed</td>\n",
       "      <td>BRONX</td>\n",
       "    </tr>\n",
       "    <tr>\n",
       "      <th>168</th>\n",
       "      <td>45531280</td>\n",
       "      <td>02/02/2020 04:55:26 PM</td>\n",
       "      <td>HEAT/HOT WATER</td>\n",
       "      <td>10457.0</td>\n",
       "      <td>2176 TIEBOUT AVENUE</td>\n",
       "      <td>BRONX</td>\n",
       "      <td>Closed</td>\n",
       "      <td>BRONX</td>\n",
       "    </tr>\n",
       "    <tr>\n",
       "      <th>179</th>\n",
       "      <td>45528906</td>\n",
       "      <td>02/02/2020 04:12:50 PM</td>\n",
       "      <td>HEAT/HOT WATER</td>\n",
       "      <td>11210.0</td>\n",
       "      <td>837 EAST   22 STREET</td>\n",
       "      <td>BROOKLYN</td>\n",
       "      <td>Closed</td>\n",
       "      <td>BROOKLYN</td>\n",
       "    </tr>\n",
       "    <tr>\n",
       "      <th>...</th>\n",
       "      <td>...</td>\n",
       "      <td>...</td>\n",
       "      <td>...</td>\n",
       "      <td>...</td>\n",
       "      <td>...</td>\n",
       "      <td>...</td>\n",
       "      <td>...</td>\n",
       "      <td>...</td>\n",
       "    </tr>\n",
       "    <tr>\n",
       "      <th>6019838</th>\n",
       "      <td>44063685</td>\n",
       "      <td>10/15/2019 10:35:45 AM</td>\n",
       "      <td>HEAT/HOT WATER</td>\n",
       "      <td>10029.0</td>\n",
       "      <td>327 EAST  108 STREET</td>\n",
       "      <td>NEW YORK</td>\n",
       "      <td>Closed</td>\n",
       "      <td>MANHATTAN</td>\n",
       "    </tr>\n",
       "    <tr>\n",
       "      <th>6019839</th>\n",
       "      <td>44063692</td>\n",
       "      <td>10/15/2019 06:09:28 AM</td>\n",
       "      <td>HEAT/HOT WATER</td>\n",
       "      <td>10461.0</td>\n",
       "      <td>3555 BRUCKNER BOULEVARD</td>\n",
       "      <td>BRONX</td>\n",
       "      <td>Closed</td>\n",
       "      <td>BRONX</td>\n",
       "    </tr>\n",
       "    <tr>\n",
       "      <th>6019840</th>\n",
       "      <td>44063724</td>\n",
       "      <td>10/15/2019 10:54:45 AM</td>\n",
       "      <td>HEAT/HOT WATER</td>\n",
       "      <td>10034.0</td>\n",
       "      <td>165 SHERMAN AVENUE</td>\n",
       "      <td>NEW YORK</td>\n",
       "      <td>Closed</td>\n",
       "      <td>MANHATTAN</td>\n",
       "    </tr>\n",
       "    <tr>\n",
       "      <th>6019841</th>\n",
       "      <td>44063726</td>\n",
       "      <td>10/15/2019 02:07:34 PM</td>\n",
       "      <td>HEAT/HOT WATER</td>\n",
       "      <td>10467.0</td>\n",
       "      <td>66 WEST GUN HILL ROAD</td>\n",
       "      <td>BRONX</td>\n",
       "      <td>Closed</td>\n",
       "      <td>BRONX</td>\n",
       "    </tr>\n",
       "    <tr>\n",
       "      <th>6019842</th>\n",
       "      <td>44063737</td>\n",
       "      <td>10/15/2019 11:29:01 AM</td>\n",
       "      <td>PAINT/PLASTER</td>\n",
       "      <td>10009.0</td>\n",
       "      <td>143 AVENUE D</td>\n",
       "      <td>NEW YORK</td>\n",
       "      <td>Closed</td>\n",
       "      <td>MANHATTAN</td>\n",
       "    </tr>\n",
       "  </tbody>\n",
       "</table>\n",
       "<p>5886253 rows × 8 columns</p>\n",
       "</div>"
      ],
      "text/plain": [
       "         Unique Key            Created Date  Complaint Type  Incident Zip  \\\n",
       "33         45530303  02/02/2020 08:24:04 AM  HEAT/HOT WATER       10457.0   \n",
       "82         45527549  02/02/2020 07:49:04 AM  HEAT/HOT WATER       11203.0   \n",
       "85         45529809  02/02/2020 12:09:59 PM  HEAT/HOT WATER       10457.0   \n",
       "168        45531280  02/02/2020 04:55:26 PM  HEAT/HOT WATER       10457.0   \n",
       "179        45528906  02/02/2020 04:12:50 PM  HEAT/HOT WATER       11210.0   \n",
       "...             ...                     ...             ...           ...   \n",
       "6019838    44063685  10/15/2019 10:35:45 AM  HEAT/HOT WATER       10029.0   \n",
       "6019839    44063692  10/15/2019 06:09:28 AM  HEAT/HOT WATER       10461.0   \n",
       "6019840    44063724  10/15/2019 10:54:45 AM  HEAT/HOT WATER       10034.0   \n",
       "6019841    44063726  10/15/2019 02:07:34 PM  HEAT/HOT WATER       10467.0   \n",
       "6019842    44063737  10/15/2019 11:29:01 AM   PAINT/PLASTER       10009.0   \n",
       "\n",
       "                Incident Address      City  Status    Borough  \n",
       "33           2176 TIEBOUT AVENUE     BRONX  Closed      BRONX  \n",
       "82            676 MIDWOOD STREET  BROOKLYN  Closed   BROOKLYN  \n",
       "85           2176 TIEBOUT AVENUE     BRONX  Closed      BRONX  \n",
       "168          2176 TIEBOUT AVENUE     BRONX  Closed      BRONX  \n",
       "179         837 EAST   22 STREET  BROOKLYN  Closed   BROOKLYN  \n",
       "...                          ...       ...     ...        ...  \n",
       "6019838     327 EAST  108 STREET  NEW YORK  Closed  MANHATTAN  \n",
       "6019839  3555 BRUCKNER BOULEVARD     BRONX  Closed      BRONX  \n",
       "6019840       165 SHERMAN AVENUE  NEW YORK  Closed  MANHATTAN  \n",
       "6019841    66 WEST GUN HILL ROAD     BRONX  Closed      BRONX  \n",
       "6019842             143 AVENUE D  NEW YORK  Closed  MANHATTAN  \n",
       "\n",
       "[5886253 rows x 8 columns]"
      ]
     },
     "execution_count": 35,
     "metadata": {},
     "output_type": "execute_result"
    }
   ],
   "source": [
    "closedcases"
   ]
  },
  {
   "cell_type": "code",
   "execution_count": 36,
   "metadata": {},
   "outputs": [
    {
     "data": {
      "text/plain": [
       "array(['HEAT/HOT WATER', 'WATER LEAK', 'ELECTRIC', 'UNSANITARY CONDITION',\n",
       "       'PAINT/PLASTER', 'APPLIANCE', 'SAFETY', 'FLOORING/STAIRS',\n",
       "       'DOOR/WINDOW', 'PLUMBING', 'GENERAL', 'OUTSIDE BUILDING',\n",
       "       'ELEVATOR', 'Unsanitary Condition', 'HPD Literature Request',\n",
       "       'HEATING', 'Safety', 'Electric', 'General', 'Appliance',\n",
       "       'PAINT - PLASTER', 'GENERAL CONSTRUCTION', 'NONCONST',\n",
       "       'CONSTRUCTION', 'AGENCY', 'STRUCTURAL', 'VACANT APARTMENT',\n",
       "       'Outside Building', 'Plumbing'], dtype=object)"
      ]
     },
     "execution_count": 36,
     "metadata": {},
     "output_type": "execute_result"
    }
   ],
   "source": [
    "closedcases['Complaint Type'].unique()"
   ]
  },
  {
   "cell_type": "code",
   "execution_count": 37,
   "metadata": {},
   "outputs": [
    {
     "data": {
      "text/plain": [
       "HEAT/HOT WATER            1256876\n",
       "HEATING                    876455\n",
       "PLUMBING                   685071\n",
       "GENERAL CONSTRUCTION       471240\n",
       "UNSANITARY CONDITION       448141\n",
       "PAINT/PLASTER              344807\n",
       "PAINT - PLASTER            339610\n",
       "ELECTRIC                   298082\n",
       "NONCONST                   245612\n",
       "DOOR/WINDOW                204059\n",
       "WATER LEAK                 192289\n",
       "GENERAL                    150053\n",
       "FLOORING/STAIRS            136595\n",
       "APPLIANCE                  109058\n",
       "HPD Literature Request      51744\n",
       "SAFETY                      51261\n",
       "OUTSIDE BUILDING             7086\n",
       "ELEVATOR                     6631\n",
       "Unsanitary Condition         5253\n",
       "CONSTRUCTION                 4812\n",
       "General                      1067\n",
       "Safety                        405\n",
       "STRUCTURAL                     16\n",
       "Plumbing                       11\n",
       "AGENCY                          9\n",
       "Outside Building                6\n",
       "Appliance                       2\n",
       "VACANT APARTMENT                1\n",
       "Electric                        1\n",
       "Name: Complaint Type, dtype: int64"
      ]
     },
     "execution_count": 37,
     "metadata": {},
     "output_type": "execute_result"
    }
   ],
   "source": [
    "closedcases['Complaint Type'].value_counts()"
   ]
  },
  {
   "cell_type": "code",
   "execution_count": 38,
   "metadata": {},
   "outputs": [
    {
     "name": "stdout",
     "output_type": "stream",
     "text": [
      "Closed heat cases = 2133331\n"
     ]
    }
   ],
   "source": [
    "print('Closed heat cases =',1256876 + 876455)"
   ]
  },
  {
   "cell_type": "markdown",
   "metadata": {},
   "source": [
    "### What does it mean for the ZipCode to be valid?"
   ]
  },
  {
   "cell_type": "code",
   "execution_count": 39,
   "metadata": {},
   "outputs": [
    {
     "data": {
      "text/plain": [
       "array([10019., 11204., 11372., 10458., 11209., 10456., 11226., 11230.,\n",
       "       11207., 10459., 10039., 11433., 11238., 10011., 10026., 10031.,\n",
       "       10473., 11210., 10457., 11216., 10014., 10034., 11203., 10463.,\n",
       "       10462., 10460., 11385., 11219., 10036., 10302., 11373., 11229.,\n",
       "       11233., 11104., 10453., 11235., 10471., 10468., 11217., 10466.,\n",
       "       10024., 10027., 10452., 11214., 11212., 10451., 11225., 10025.,\n",
       "       11213., 11221., 11218., 10033., 11423., 11101., 11223., 10035.,\n",
       "       10461., 10016., 10040., 11102., 11237., 10467., 11231., 11413.,\n",
       "       11377., 10469., 11236., 11692., 10029., 11375., 10472., 11208.,\n",
       "       11211., 11368., 11354., 11691., 10032., 10023., 10002., 10307.,\n",
       "       11369., 10454., 10304., 10128., 11434., 10470., 11374., 11355.,\n",
       "       10455., 10309., 11228., 10022., 10028., 11435., 11378., 11427.,\n",
       "       10030., 10037., 11432., 10003., 10075., 10009., 11232., 11201.,\n",
       "       11361., 11419., 10010., 10314., 11224., 11106., 11412., 11356.,\n",
       "       10474., 10301., 11206., 11417., 11249., 10012., 11694., 10310.,\n",
       "       11429., 11220., 11364., 11415., 10001., 11215., 11234., 10305.,\n",
       "       10021., 11105., 11421., 10013., 11103., 11358., 11416., 11205.,\n",
       "       11222., 11436., 11418., 11420., 11357., 10465., 10004., 10065.,\n",
       "       11693., 11367., 10475., 10017., 11001., 11365.,    nan, 11428.,\n",
       "       11414., 10303., 11239., 11422., 10005., 11426., 10306., 11370.,\n",
       "       11411., 10044., 11379., 11360., 10464., 10308., 10018., 11366.,\n",
       "       10312., 11362., 10280., 11004., 11040., 10006., 10038., 10007.,\n",
       "       10158., 10069., 10282., 11363., 11697., 10112., 11109., 11005.,\n",
       "       10020., 11243., 11430., 10803., 10129., 11241., 10041., 10162.,\n",
       "       10103., 10106., 10279., 10105., 10271., 10121., 10045., 12345.,\n",
       "       10118., 10177., 10169.])"
      ]
     },
     "execution_count": 39,
     "metadata": {},
     "output_type": "execute_result"
    }
   ],
   "source": [
    "df[\"Incident Zip\"].unique()"
   ]
  },
  {
   "cell_type": "code",
   "execution_count": 40,
   "metadata": {},
   "outputs": [
    {
     "data": {
      "text/plain": [
       "202"
      ]
     },
     "execution_count": 40,
     "metadata": {},
     "output_type": "execute_result"
    }
   ],
   "source": [
    "df[\"Incident Zip\"].nunique()"
   ]
  },
  {
   "cell_type": "markdown",
   "metadata": {},
   "source": [
    "### How many Electric complaints can you find in the dataset?"
   ]
  },
  {
   "cell_type": "code",
   "execution_count": 41,
   "metadata": {},
   "outputs": [
    {
     "data": {
      "text/plain": [
       "array(['HEAT/HOT WATER', 'UNSANITARY CONDITION', 'APPLIANCE', 'GENERAL',\n",
       "       'ELECTRIC', 'PLUMBING', 'PAINT/PLASTER', 'WATER LEAK', 'SAFETY',\n",
       "       'DOOR/WINDOW', 'OUTSIDE BUILDING', 'ELEVATOR', 'FLOORING/STAIRS',\n",
       "       'Unsanitary Condition', 'HPD Literature Request', 'HEATING',\n",
       "       'PAINT - PLASTER', 'Safety', 'Electric', 'General', 'Appliance',\n",
       "       'GENERAL CONSTRUCTION', 'NONCONST', 'CONSTRUCTION', 'AGENCY',\n",
       "       'STRUCTURAL', 'VACANT APARTMENT', 'Outside Building', 'Plumbing',\n",
       "       'Mold'], dtype=object)"
      ]
     },
     "execution_count": 41,
     "metadata": {},
     "output_type": "execute_result"
    }
   ],
   "source": [
    "df[\"Complaint Type\"].unique()"
   ]
  },
  {
   "cell_type": "code",
   "execution_count": 42,
   "metadata": {},
   "outputs": [
    {
     "data": {
      "text/plain": [
       "HEAT/HOT WATER            1261574\n",
       "HEATING                    887850\n",
       "PLUMBING                   711130\n",
       "GENERAL CONSTRUCTION       500863\n",
       "UNSANITARY CONDITION       451643\n",
       "PAINT - PLASTER            361257\n",
       "PAINT/PLASTER              346438\n",
       "ELECTRIC                   307310\n",
       "NONCONST                   260890\n",
       "DOOR/WINDOW                205278\n",
       "WATER LEAK                 193631\n",
       "GENERAL                    151308\n",
       "FLOORING/STAIRS            137402\n",
       "APPLIANCE                  112831\n",
       "HPD Literature Request      52824\n",
       "SAFETY                      51529\n",
       "OUTSIDE BUILDING             7142\n",
       "ELEVATOR                     6725\n",
       "Unsanitary Condition         5499\n",
       "CONSTRUCTION                 5078\n",
       "General                      1163\n",
       "Safety                        424\n",
       "STRUCTURAL                     16\n",
       "Plumbing                       11\n",
       "AGENCY                          9\n",
       "Outside Building                6\n",
       "VACANT APARTMENT                6\n",
       "Appliance                       4\n",
       "Mold                            1\n",
       "Electric                        1\n",
       "Name: Complaint Type, dtype: int64"
      ]
     },
     "execution_count": 42,
     "metadata": {},
     "output_type": "execute_result"
    }
   ],
   "source": [
    "df[\"Complaint Type\"].value_counts()"
   ]
  },
  {
   "cell_type": "code",
   "execution_count": 43,
   "metadata": {},
   "outputs": [
    {
     "name": "stdout",
     "output_type": "stream",
     "text": [
      "Electric counts = 307311\n"
     ]
    }
   ],
   "source": [
    "print('Electric counts =', 307310 + 1)"
   ]
  },
  {
   "cell_type": "markdown",
   "metadata": {},
   "source": [
    "### Using 80000 as a threshold, what complaint types do you recommend Dept of Housing Preservation and Development of New York CIty address first?"
   ]
  },
  {
   "cell_type": "code",
   "execution_count": 44,
   "metadata": {},
   "outputs": [],
   "source": [
    "newyorkcity = df[df[\"City\"] == \"NEW YORK\"]"
   ]
  },
  {
   "cell_type": "code",
   "execution_count": 45,
   "metadata": {},
   "outputs": [
    {
     "data": {
      "text/html": [
       "<div>\n",
       "<style scoped>\n",
       "    .dataframe tbody tr th:only-of-type {\n",
       "        vertical-align: middle;\n",
       "    }\n",
       "\n",
       "    .dataframe tbody tr th {\n",
       "        vertical-align: top;\n",
       "    }\n",
       "\n",
       "    .dataframe thead th {\n",
       "        text-align: right;\n",
       "    }\n",
       "</style>\n",
       "<table border=\"1\" class=\"dataframe\">\n",
       "  <thead>\n",
       "    <tr style=\"text-align: right;\">\n",
       "      <th></th>\n",
       "      <th>Unique Key</th>\n",
       "      <th>Created Date</th>\n",
       "      <th>Complaint Type</th>\n",
       "      <th>Incident Zip</th>\n",
       "      <th>Incident Address</th>\n",
       "      <th>City</th>\n",
       "      <th>Status</th>\n",
       "      <th>Borough</th>\n",
       "    </tr>\n",
       "  </thead>\n",
       "  <tbody>\n",
       "    <tr>\n",
       "      <th>0</th>\n",
       "      <td>45531130</td>\n",
       "      <td>02/02/2020 06:09:17 AM</td>\n",
       "      <td>HEAT/HOT WATER</td>\n",
       "      <td>10019.0</td>\n",
       "      <td>426 WEST   52 STREET</td>\n",
       "      <td>NEW YORK</td>\n",
       "      <td>Open</td>\n",
       "      <td>MANHATTAN</td>\n",
       "    </tr>\n",
       "    <tr>\n",
       "      <th>11</th>\n",
       "      <td>45530831</td>\n",
       "      <td>02/02/2020 10:13:57 AM</td>\n",
       "      <td>HEAT/HOT WATER</td>\n",
       "      <td>10039.0</td>\n",
       "      <td>2819 FREDERICK DOUGLASS BOULEVARD</td>\n",
       "      <td>NEW YORK</td>\n",
       "      <td>Open</td>\n",
       "      <td>MANHATTAN</td>\n",
       "    </tr>\n",
       "    <tr>\n",
       "      <th>15</th>\n",
       "      <td>45530802</td>\n",
       "      <td>02/02/2020 03:50:43 PM</td>\n",
       "      <td>HEAT/HOT WATER</td>\n",
       "      <td>10011.0</td>\n",
       "      <td>334 WEST   22 STREET</td>\n",
       "      <td>NEW YORK</td>\n",
       "      <td>Open</td>\n",
       "      <td>MANHATTAN</td>\n",
       "    </tr>\n",
       "    <tr>\n",
       "      <th>17</th>\n",
       "      <td>45528911</td>\n",
       "      <td>02/02/2020 04:32:03 AM</td>\n",
       "      <td>HEAT/HOT WATER</td>\n",
       "      <td>10026.0</td>\n",
       "      <td>225 CENTRAL PARK NORTH</td>\n",
       "      <td>NEW YORK</td>\n",
       "      <td>Open</td>\n",
       "      <td>MANHATTAN</td>\n",
       "    </tr>\n",
       "    <tr>\n",
       "      <th>18</th>\n",
       "      <td>45528877</td>\n",
       "      <td>02/02/2020 11:10:08 AM</td>\n",
       "      <td>HEAT/HOT WATER</td>\n",
       "      <td>10031.0</td>\n",
       "      <td>529 WEST  151 STREET</td>\n",
       "      <td>NEW YORK</td>\n",
       "      <td>Open</td>\n",
       "      <td>MANHATTAN</td>\n",
       "    </tr>\n",
       "    <tr>\n",
       "      <th>...</th>\n",
       "      <td>...</td>\n",
       "      <td>...</td>\n",
       "      <td>...</td>\n",
       "      <td>...</td>\n",
       "      <td>...</td>\n",
       "      <td>...</td>\n",
       "      <td>...</td>\n",
       "      <td>...</td>\n",
       "    </tr>\n",
       "    <tr>\n",
       "      <th>6019828</th>\n",
       "      <td>44063636</td>\n",
       "      <td>10/15/2019 08:03:00 AM</td>\n",
       "      <td>HEAT/HOT WATER</td>\n",
       "      <td>10036.0</td>\n",
       "      <td>510 WEST   45 STREET</td>\n",
       "      <td>NEW YORK</td>\n",
       "      <td>Closed</td>\n",
       "      <td>MANHATTAN</td>\n",
       "    </tr>\n",
       "    <tr>\n",
       "      <th>6019836</th>\n",
       "      <td>44063680</td>\n",
       "      <td>10/15/2019 06:43:56 PM</td>\n",
       "      <td>HEAT/HOT WATER</td>\n",
       "      <td>10029.0</td>\n",
       "      <td>327 EAST  108 STREET</td>\n",
       "      <td>NEW YORK</td>\n",
       "      <td>Closed</td>\n",
       "      <td>MANHATTAN</td>\n",
       "    </tr>\n",
       "    <tr>\n",
       "      <th>6019838</th>\n",
       "      <td>44063685</td>\n",
       "      <td>10/15/2019 10:35:45 AM</td>\n",
       "      <td>HEAT/HOT WATER</td>\n",
       "      <td>10029.0</td>\n",
       "      <td>327 EAST  108 STREET</td>\n",
       "      <td>NEW YORK</td>\n",
       "      <td>Closed</td>\n",
       "      <td>MANHATTAN</td>\n",
       "    </tr>\n",
       "    <tr>\n",
       "      <th>6019840</th>\n",
       "      <td>44063724</td>\n",
       "      <td>10/15/2019 10:54:45 AM</td>\n",
       "      <td>HEAT/HOT WATER</td>\n",
       "      <td>10034.0</td>\n",
       "      <td>165 SHERMAN AVENUE</td>\n",
       "      <td>NEW YORK</td>\n",
       "      <td>Closed</td>\n",
       "      <td>MANHATTAN</td>\n",
       "    </tr>\n",
       "    <tr>\n",
       "      <th>6019842</th>\n",
       "      <td>44063737</td>\n",
       "      <td>10/15/2019 11:29:01 AM</td>\n",
       "      <td>PAINT/PLASTER</td>\n",
       "      <td>10009.0</td>\n",
       "      <td>143 AVENUE D</td>\n",
       "      <td>NEW YORK</td>\n",
       "      <td>Closed</td>\n",
       "      <td>MANHATTAN</td>\n",
       "    </tr>\n",
       "  </tbody>\n",
       "</table>\n",
       "<p>1204417 rows × 8 columns</p>\n",
       "</div>"
      ],
      "text/plain": [
       "         Unique Key            Created Date  Complaint Type  Incident Zip  \\\n",
       "0          45531130  02/02/2020 06:09:17 AM  HEAT/HOT WATER       10019.0   \n",
       "11         45530831  02/02/2020 10:13:57 AM  HEAT/HOT WATER       10039.0   \n",
       "15         45530802  02/02/2020 03:50:43 PM  HEAT/HOT WATER       10011.0   \n",
       "17         45528911  02/02/2020 04:32:03 AM  HEAT/HOT WATER       10026.0   \n",
       "18         45528877  02/02/2020 11:10:08 AM  HEAT/HOT WATER       10031.0   \n",
       "...             ...                     ...             ...           ...   \n",
       "6019828    44063636  10/15/2019 08:03:00 AM  HEAT/HOT WATER       10036.0   \n",
       "6019836    44063680  10/15/2019 06:43:56 PM  HEAT/HOT WATER       10029.0   \n",
       "6019838    44063685  10/15/2019 10:35:45 AM  HEAT/HOT WATER       10029.0   \n",
       "6019840    44063724  10/15/2019 10:54:45 AM  HEAT/HOT WATER       10034.0   \n",
       "6019842    44063737  10/15/2019 11:29:01 AM   PAINT/PLASTER       10009.0   \n",
       "\n",
       "                          Incident Address      City  Status    Borough  \n",
       "0                     426 WEST   52 STREET  NEW YORK    Open  MANHATTAN  \n",
       "11       2819 FREDERICK DOUGLASS BOULEVARD  NEW YORK    Open  MANHATTAN  \n",
       "15                    334 WEST   22 STREET  NEW YORK    Open  MANHATTAN  \n",
       "17                  225 CENTRAL PARK NORTH  NEW YORK    Open  MANHATTAN  \n",
       "18                    529 WEST  151 STREET  NEW YORK    Open  MANHATTAN  \n",
       "...                                    ...       ...     ...        ...  \n",
       "6019828               510 WEST   45 STREET  NEW YORK  Closed  MANHATTAN  \n",
       "6019836               327 EAST  108 STREET  NEW YORK  Closed  MANHATTAN  \n",
       "6019838               327 EAST  108 STREET  NEW YORK  Closed  MANHATTAN  \n",
       "6019840                 165 SHERMAN AVENUE  NEW YORK  Closed  MANHATTAN  \n",
       "6019842                       143 AVENUE D  NEW YORK  Closed  MANHATTAN  \n",
       "\n",
       "[1204417 rows x 8 columns]"
      ]
     },
     "execution_count": 45,
     "metadata": {},
     "output_type": "execute_result"
    }
   ],
   "source": [
    "newyorkcity"
   ]
  },
  {
   "cell_type": "code",
   "execution_count": 46,
   "metadata": {},
   "outputs": [
    {
     "data": {
      "text/plain": [
       "HEAT/HOT WATER          283610\n",
       "HEATING                 193908\n",
       "PLUMBING                134366\n",
       "GENERAL CONSTRUCTION     88549\n",
       "UNSANITARY CONDITION     85242\n",
       "PAINT/PLASTER            71335\n",
       "PAINT - PLASTER          65710\n",
       "ELECTRIC                 51140\n",
       "NONCONST                 44930\n",
       "GENERAL                  41994\n",
       "DOOR/WINDOW              41221\n",
       "WATER LEAK               36699\n",
       "FLOORING/STAIRS          30398\n",
       "APPLIANCE                20463\n",
       "SAFETY                    9390\n",
       "ELEVATOR                  1674\n",
       "OUTSIDE BUILDING          1462\n",
       "Unsanitary Condition      1025\n",
       "CONSTRUCTION               935\n",
       "General                    289\n",
       "Safety                      65\n",
       "VACANT APARTMENT             4\n",
       "STRUCTURAL                   3\n",
       "Plumbing                     2\n",
       "AGENCY                       2\n",
       "Electric                     1\n",
       "Name: Complaint Type, dtype: int64"
      ]
     },
     "execution_count": 46,
     "metadata": {},
     "output_type": "execute_result"
    }
   ],
   "source": [
    "newyorkcity[\"Complaint Type\"].value_counts()"
   ]
  },
  {
   "cell_type": "code",
   "execution_count": 47,
   "metadata": {
    "scrolled": false
   },
   "outputs": [
    {
     "data": {
      "image/png": "[encoded data removed]",
      "text/plain": [
       "<Figure size 1440x720 with 1 Axes>"
      ]
     },
     "metadata": {},
     "output_type": "display_data"
    }
   ],
   "source": [
    "fig = plt.figure(figsize=(20,10))\n",
    "sns.countplot(x=newyorkcity[\"Complaint Type\"])\n",
    "plt.xticks(rotation=90)\n",
    "plt.show()"
   ]
  },
  {
   "cell_type": "markdown",
   "metadata": {},
   "source": [
    "### For the complaint types that you selected in the previous module that had at least 80,000 complaints logged, which address had the highest number of complainted submitted?"
   ]
  },
  {
   "cell_type": "code",
   "execution_count": 48,
   "metadata": {},
   "outputs": [
    {
     "data": {
      "text/html": [
       "<div>\n",
       "<style scoped>\n",
       "    .dataframe tbody tr th:only-of-type {\n",
       "        vertical-align: middle;\n",
       "    }\n",
       "\n",
       "    .dataframe tbody tr th {\n",
       "        vertical-align: top;\n",
       "    }\n",
       "\n",
       "    .dataframe thead th {\n",
       "        text-align: right;\n",
       "    }\n",
       "</style>\n",
       "<table border=\"1\" class=\"dataframe\">\n",
       "  <thead>\n",
       "    <tr style=\"text-align: right;\">\n",
       "      <th></th>\n",
       "      <th>Unique Key</th>\n",
       "      <th>Created Date</th>\n",
       "      <th>Complaint Type</th>\n",
       "      <th>Incident Zip</th>\n",
       "      <th>Incident Address</th>\n",
       "      <th>City</th>\n",
       "      <th>Status</th>\n",
       "      <th>Borough</th>\n",
       "    </tr>\n",
       "  </thead>\n",
       "  <tbody>\n",
       "    <tr>\n",
       "      <th>0</th>\n",
       "      <td>45531130</td>\n",
       "      <td>02/02/2020 06:09:17 AM</td>\n",
       "      <td>HEAT/HOT WATER</td>\n",
       "      <td>10019.0</td>\n",
       "      <td>426 WEST   52 STREET</td>\n",
       "      <td>NEW YORK</td>\n",
       "      <td>Open</td>\n",
       "      <td>MANHATTAN</td>\n",
       "    </tr>\n",
       "    <tr>\n",
       "      <th>11</th>\n",
       "      <td>45530831</td>\n",
       "      <td>02/02/2020 10:13:57 AM</td>\n",
       "      <td>HEAT/HOT WATER</td>\n",
       "      <td>10039.0</td>\n",
       "      <td>2819 FREDERICK DOUGLASS BOULEVARD</td>\n",
       "      <td>NEW YORK</td>\n",
       "      <td>Open</td>\n",
       "      <td>MANHATTAN</td>\n",
       "    </tr>\n",
       "    <tr>\n",
       "      <th>15</th>\n",
       "      <td>45530802</td>\n",
       "      <td>02/02/2020 03:50:43 PM</td>\n",
       "      <td>HEAT/HOT WATER</td>\n",
       "      <td>10011.0</td>\n",
       "      <td>334 WEST   22 STREET</td>\n",
       "      <td>NEW YORK</td>\n",
       "      <td>Open</td>\n",
       "      <td>MANHATTAN</td>\n",
       "    </tr>\n",
       "    <tr>\n",
       "      <th>17</th>\n",
       "      <td>45528911</td>\n",
       "      <td>02/02/2020 04:32:03 AM</td>\n",
       "      <td>HEAT/HOT WATER</td>\n",
       "      <td>10026.0</td>\n",
       "      <td>225 CENTRAL PARK NORTH</td>\n",
       "      <td>NEW YORK</td>\n",
       "      <td>Open</td>\n",
       "      <td>MANHATTAN</td>\n",
       "    </tr>\n",
       "    <tr>\n",
       "      <th>18</th>\n",
       "      <td>45528877</td>\n",
       "      <td>02/02/2020 11:10:08 AM</td>\n",
       "      <td>HEAT/HOT WATER</td>\n",
       "      <td>10031.0</td>\n",
       "      <td>529 WEST  151 STREET</td>\n",
       "      <td>NEW YORK</td>\n",
       "      <td>Open</td>\n",
       "      <td>MANHATTAN</td>\n",
       "    </tr>\n",
       "    <tr>\n",
       "      <th>...</th>\n",
       "      <td>...</td>\n",
       "      <td>...</td>\n",
       "      <td>...</td>\n",
       "      <td>...</td>\n",
       "      <td>...</td>\n",
       "      <td>...</td>\n",
       "      <td>...</td>\n",
       "      <td>...</td>\n",
       "    </tr>\n",
       "    <tr>\n",
       "      <th>6019828</th>\n",
       "      <td>44063636</td>\n",
       "      <td>10/15/2019 08:03:00 AM</td>\n",
       "      <td>HEAT/HOT WATER</td>\n",
       "      <td>10036.0</td>\n",
       "      <td>510 WEST   45 STREET</td>\n",
       "      <td>NEW YORK</td>\n",
       "      <td>Closed</td>\n",
       "      <td>MANHATTAN</td>\n",
       "    </tr>\n",
       "    <tr>\n",
       "      <th>6019836</th>\n",
       "      <td>44063680</td>\n",
       "      <td>10/15/2019 06:43:56 PM</td>\n",
       "      <td>HEAT/HOT WATER</td>\n",
       "      <td>10029.0</td>\n",
       "      <td>327 EAST  108 STREET</td>\n",
       "      <td>NEW YORK</td>\n",
       "      <td>Closed</td>\n",
       "      <td>MANHATTAN</td>\n",
       "    </tr>\n",
       "    <tr>\n",
       "      <th>6019838</th>\n",
       "      <td>44063685</td>\n",
       "      <td>10/15/2019 10:35:45 AM</td>\n",
       "      <td>HEAT/HOT WATER</td>\n",
       "      <td>10029.0</td>\n",
       "      <td>327 EAST  108 STREET</td>\n",
       "      <td>NEW YORK</td>\n",
       "      <td>Closed</td>\n",
       "      <td>MANHATTAN</td>\n",
       "    </tr>\n",
       "    <tr>\n",
       "      <th>6019840</th>\n",
       "      <td>44063724</td>\n",
       "      <td>10/15/2019 10:54:45 AM</td>\n",
       "      <td>HEAT/HOT WATER</td>\n",
       "      <td>10034.0</td>\n",
       "      <td>165 SHERMAN AVENUE</td>\n",
       "      <td>NEW YORK</td>\n",
       "      <td>Closed</td>\n",
       "      <td>MANHATTAN</td>\n",
       "    </tr>\n",
       "    <tr>\n",
       "      <th>6019842</th>\n",
       "      <td>44063737</td>\n",
       "      <td>10/15/2019 11:29:01 AM</td>\n",
       "      <td>PAINT/PLASTER</td>\n",
       "      <td>10009.0</td>\n",
       "      <td>143 AVENUE D</td>\n",
       "      <td>NEW YORK</td>\n",
       "      <td>Closed</td>\n",
       "      <td>MANHATTAN</td>\n",
       "    </tr>\n",
       "  </tbody>\n",
       "</table>\n",
       "<p>1204417 rows × 8 columns</p>\n",
       "</div>"
      ],
      "text/plain": [
       "         Unique Key            Created Date  Complaint Type  Incident Zip  \\\n",
       "0          45531130  02/02/2020 06:09:17 AM  HEAT/HOT WATER       10019.0   \n",
       "11         45530831  02/02/2020 10:13:57 AM  HEAT/HOT WATER       10039.0   \n",
       "15         45530802  02/02/2020 03:50:43 PM  HEAT/HOT WATER       10011.0   \n",
       "17         45528911  02/02/2020 04:32:03 AM  HEAT/HOT WATER       10026.0   \n",
       "18         45528877  02/02/2020 11:10:08 AM  HEAT/HOT WATER       10031.0   \n",
       "...             ...                     ...             ...           ...   \n",
       "6019828    44063636  10/15/2019 08:03:00 AM  HEAT/HOT WATER       10036.0   \n",
       "6019836    44063680  10/15/2019 06:43:56 PM  HEAT/HOT WATER       10029.0   \n",
       "6019838    44063685  10/15/2019 10:35:45 AM  HEAT/HOT WATER       10029.0   \n",
       "6019840    44063724  10/15/2019 10:54:45 AM  HEAT/HOT WATER       10034.0   \n",
       "6019842    44063737  10/15/2019 11:29:01 AM   PAINT/PLASTER       10009.0   \n",
       "\n",
       "                          Incident Address      City  Status    Borough  \n",
       "0                     426 WEST   52 STREET  NEW YORK    Open  MANHATTAN  \n",
       "11       2819 FREDERICK DOUGLASS BOULEVARD  NEW YORK    Open  MANHATTAN  \n",
       "15                    334 WEST   22 STREET  NEW YORK    Open  MANHATTAN  \n",
       "17                  225 CENTRAL PARK NORTH  NEW YORK    Open  MANHATTAN  \n",
       "18                    529 WEST  151 STREET  NEW YORK    Open  MANHATTAN  \n",
       "...                                    ...       ...     ...        ...  \n",
       "6019828               510 WEST   45 STREET  NEW YORK  Closed  MANHATTAN  \n",
       "6019836               327 EAST  108 STREET  NEW YORK  Closed  MANHATTAN  \n",
       "6019838               327 EAST  108 STREET  NEW YORK  Closed  MANHATTAN  \n",
       "6019840                 165 SHERMAN AVENUE  NEW YORK  Closed  MANHATTAN  \n",
       "6019842                       143 AVENUE D  NEW YORK  Closed  MANHATTAN  \n",
       "\n",
       "[1204417 rows x 8 columns]"
      ]
     },
     "execution_count": 48,
     "metadata": {},
     "output_type": "execute_result"
    }
   ],
   "source": [
    "newyorkcity"
   ]
  },
  {
   "cell_type": "code",
   "execution_count": 49,
   "metadata": {},
   "outputs": [],
   "source": [
    "newyorkcity[\"Complaint Type\"] = newyorkcity[\"Complaint Type\"].replace(to_replace=\"HEATING\",value=\"HEAT/HOT WATER\")"
   ]
  },
  {
   "cell_type": "code",
   "execution_count": 50,
   "metadata": {},
   "outputs": [
    {
     "data": {
      "text/plain": [
       "HEAT/HOT WATER          477518\n",
       "PLUMBING                134366\n",
       "GENERAL CONSTRUCTION     88549\n",
       "UNSANITARY CONDITION     85242\n",
       "PAINT/PLASTER            71335\n",
       "PAINT - PLASTER          65710\n",
       "ELECTRIC                 51140\n",
       "NONCONST                 44930\n",
       "GENERAL                  41994\n",
       "DOOR/WINDOW              41221\n",
       "WATER LEAK               36699\n",
       "FLOORING/STAIRS          30398\n",
       "APPLIANCE                20463\n",
       "SAFETY                    9390\n",
       "ELEVATOR                  1674\n",
       "OUTSIDE BUILDING          1462\n",
       "Unsanitary Condition      1025\n",
       "CONSTRUCTION               935\n",
       "General                    289\n",
       "Safety                      65\n",
       "VACANT APARTMENT             4\n",
       "STRUCTURAL                   3\n",
       "Plumbing                     2\n",
       "AGENCY                       2\n",
       "Electric                     1\n",
       "Name: Complaint Type, dtype: int64"
      ]
     },
     "execution_count": 50,
     "metadata": {},
     "output_type": "execute_result"
    }
   ],
   "source": [
    "newyorkcity[\"Complaint Type\"].value_counts()"
   ]
  },
  {
   "cell_type": "markdown",
   "metadata": {},
   "source": [
    "# Which type of complaint should the Department of Housing Preservation and Development of New York City focus on first?"
   ]
  },
  {
   "cell_type": "markdown",
   "metadata": {},
   "source": [
    "## Answer: HEAT/HOT WATER"
   ]
  },
  {
   "cell_type": "code",
   "execution_count": 51,
   "metadata": {},
   "outputs": [],
   "source": [
    "nycheat = newyorkcity[newyorkcity[\"Complaint Type\"] == \"HEAT/HOT WATER\"]"
   ]
  },
  {
   "cell_type": "code",
   "execution_count": 52,
   "metadata": {},
   "outputs": [
    {
     "data": {
      "text/html": [
       "<div>\n",
       "<style scoped>\n",
       "    .dataframe tbody tr th:only-of-type {\n",
       "        vertical-align: middle;\n",
       "    }\n",
       "\n",
       "    .dataframe tbody tr th {\n",
       "        vertical-align: top;\n",
       "    }\n",
       "\n",
       "    .dataframe thead th {\n",
       "        text-align: right;\n",
       "    }\n",
       "</style>\n",
       "<table border=\"1\" class=\"dataframe\">\n",
       "  <thead>\n",
       "    <tr style=\"text-align: right;\">\n",
       "      <th></th>\n",
       "      <th>Unique Key</th>\n",
       "      <th>Created Date</th>\n",
       "      <th>Complaint Type</th>\n",
       "      <th>Incident Zip</th>\n",
       "      <th>Incident Address</th>\n",
       "      <th>City</th>\n",
       "      <th>Status</th>\n",
       "      <th>Borough</th>\n",
       "    </tr>\n",
       "  </thead>\n",
       "  <tbody>\n",
       "    <tr>\n",
       "      <th>0</th>\n",
       "      <td>45531130</td>\n",
       "      <td>02/02/2020 06:09:17 AM</td>\n",
       "      <td>HEAT/HOT WATER</td>\n",
       "      <td>10019.0</td>\n",
       "      <td>426 WEST   52 STREET</td>\n",
       "      <td>NEW YORK</td>\n",
       "      <td>Open</td>\n",
       "      <td>MANHATTAN</td>\n",
       "    </tr>\n",
       "    <tr>\n",
       "      <th>11</th>\n",
       "      <td>45530831</td>\n",
       "      <td>02/02/2020 10:13:57 AM</td>\n",
       "      <td>HEAT/HOT WATER</td>\n",
       "      <td>10039.0</td>\n",
       "      <td>2819 FREDERICK DOUGLASS BOULEVARD</td>\n",
       "      <td>NEW YORK</td>\n",
       "      <td>Open</td>\n",
       "      <td>MANHATTAN</td>\n",
       "    </tr>\n",
       "    <tr>\n",
       "      <th>15</th>\n",
       "      <td>45530802</td>\n",
       "      <td>02/02/2020 03:50:43 PM</td>\n",
       "      <td>HEAT/HOT WATER</td>\n",
       "      <td>10011.0</td>\n",
       "      <td>334 WEST   22 STREET</td>\n",
       "      <td>NEW YORK</td>\n",
       "      <td>Open</td>\n",
       "      <td>MANHATTAN</td>\n",
       "    </tr>\n",
       "    <tr>\n",
       "      <th>17</th>\n",
       "      <td>45528911</td>\n",
       "      <td>02/02/2020 04:32:03 AM</td>\n",
       "      <td>HEAT/HOT WATER</td>\n",
       "      <td>10026.0</td>\n",
       "      <td>225 CENTRAL PARK NORTH</td>\n",
       "      <td>NEW YORK</td>\n",
       "      <td>Open</td>\n",
       "      <td>MANHATTAN</td>\n",
       "    </tr>\n",
       "    <tr>\n",
       "      <th>18</th>\n",
       "      <td>45528877</td>\n",
       "      <td>02/02/2020 11:10:08 AM</td>\n",
       "      <td>HEAT/HOT WATER</td>\n",
       "      <td>10031.0</td>\n",
       "      <td>529 WEST  151 STREET</td>\n",
       "      <td>NEW YORK</td>\n",
       "      <td>Open</td>\n",
       "      <td>MANHATTAN</td>\n",
       "    </tr>\n",
       "    <tr>\n",
       "      <th>...</th>\n",
       "      <td>...</td>\n",
       "      <td>...</td>\n",
       "      <td>...</td>\n",
       "      <td>...</td>\n",
       "      <td>...</td>\n",
       "      <td>...</td>\n",
       "      <td>...</td>\n",
       "      <td>...</td>\n",
       "    </tr>\n",
       "    <tr>\n",
       "      <th>6019826</th>\n",
       "      <td>44063628</td>\n",
       "      <td>10/15/2019 06:18:33 PM</td>\n",
       "      <td>HEAT/HOT WATER</td>\n",
       "      <td>10024.0</td>\n",
       "      <td>2301 BROADWAY</td>\n",
       "      <td>NEW YORK</td>\n",
       "      <td>Closed</td>\n",
       "      <td>MANHATTAN</td>\n",
       "    </tr>\n",
       "    <tr>\n",
       "      <th>6019828</th>\n",
       "      <td>44063636</td>\n",
       "      <td>10/15/2019 08:03:00 AM</td>\n",
       "      <td>HEAT/HOT WATER</td>\n",
       "      <td>10036.0</td>\n",
       "      <td>510 WEST   45 STREET</td>\n",
       "      <td>NEW YORK</td>\n",
       "      <td>Closed</td>\n",
       "      <td>MANHATTAN</td>\n",
       "    </tr>\n",
       "    <tr>\n",
       "      <th>6019836</th>\n",
       "      <td>44063680</td>\n",
       "      <td>10/15/2019 06:43:56 PM</td>\n",
       "      <td>HEAT/HOT WATER</td>\n",
       "      <td>10029.0</td>\n",
       "      <td>327 EAST  108 STREET</td>\n",
       "      <td>NEW YORK</td>\n",
       "      <td>Closed</td>\n",
       "      <td>MANHATTAN</td>\n",
       "    </tr>\n",
       "    <tr>\n",
       "      <th>6019838</th>\n",
       "      <td>44063685</td>\n",
       "      <td>10/15/2019 10:35:45 AM</td>\n",
       "      <td>HEAT/HOT WATER</td>\n",
       "      <td>10029.0</td>\n",
       "      <td>327 EAST  108 STREET</td>\n",
       "      <td>NEW YORK</td>\n",
       "      <td>Closed</td>\n",
       "      <td>MANHATTAN</td>\n",
       "    </tr>\n",
       "    <tr>\n",
       "      <th>6019840</th>\n",
       "      <td>44063724</td>\n",
       "      <td>10/15/2019 10:54:45 AM</td>\n",
       "      <td>HEAT/HOT WATER</td>\n",
       "      <td>10034.0</td>\n",
       "      <td>165 SHERMAN AVENUE</td>\n",
       "      <td>NEW YORK</td>\n",
       "      <td>Closed</td>\n",
       "      <td>MANHATTAN</td>\n",
       "    </tr>\n",
       "  </tbody>\n",
       "</table>\n",
       "<p>477518 rows × 8 columns</p>\n",
       "</div>"
      ],
      "text/plain": [
       "         Unique Key            Created Date  Complaint Type  Incident Zip  \\\n",
       "0          45531130  02/02/2020 06:09:17 AM  HEAT/HOT WATER       10019.0   \n",
       "11         45530831  02/02/2020 10:13:57 AM  HEAT/HOT WATER       10039.0   \n",
       "15         45530802  02/02/2020 03:50:43 PM  HEAT/HOT WATER       10011.0   \n",
       "17         45528911  02/02/2020 04:32:03 AM  HEAT/HOT WATER       10026.0   \n",
       "18         45528877  02/02/2020 11:10:08 AM  HEAT/HOT WATER       10031.0   \n",
       "...             ...                     ...             ...           ...   \n",
       "6019826    44063628  10/15/2019 06:18:33 PM  HEAT/HOT WATER       10024.0   \n",
       "6019828    44063636  10/15/2019 08:03:00 AM  HEAT/HOT WATER       10036.0   \n",
       "6019836    44063680  10/15/2019 06:43:56 PM  HEAT/HOT WATER       10029.0   \n",
       "6019838    44063685  10/15/2019 10:35:45 AM  HEAT/HOT WATER       10029.0   \n",
       "6019840    44063724  10/15/2019 10:54:45 AM  HEAT/HOT WATER       10034.0   \n",
       "\n",
       "                          Incident Address      City  Status    Borough  \n",
       "0                     426 WEST   52 STREET  NEW YORK    Open  MANHATTAN  \n",
       "11       2819 FREDERICK DOUGLASS BOULEVARD  NEW YORK    Open  MANHATTAN  \n",
       "15                    334 WEST   22 STREET  NEW YORK    Open  MANHATTAN  \n",
       "17                  225 CENTRAL PARK NORTH  NEW YORK    Open  MANHATTAN  \n",
       "18                    529 WEST  151 STREET  NEW YORK    Open  MANHATTAN  \n",
       "...                                    ...       ...     ...        ...  \n",
       "6019826                      2301 BROADWAY  NEW YORK  Closed  MANHATTAN  \n",
       "6019828               510 WEST   45 STREET  NEW YORK  Closed  MANHATTAN  \n",
       "6019836               327 EAST  108 STREET  NEW YORK  Closed  MANHATTAN  \n",
       "6019838               327 EAST  108 STREET  NEW YORK  Closed  MANHATTAN  \n",
       "6019840                 165 SHERMAN AVENUE  NEW YORK  Closed  MANHATTAN  \n",
       "\n",
       "[477518 rows x 8 columns]"
      ]
     },
     "execution_count": 52,
     "metadata": {},
     "output_type": "execute_result"
    }
   ],
   "source": [
    "nycheat"
   ]
  },
  {
   "cell_type": "code",
   "execution_count": 53,
   "metadata": {},
   "outputs": [
    {
     "data": {
      "text/plain": [
       "34 ARDEN STREET                 13626\n",
       "97 SHERMAN AVENUE                2540\n",
       "644 RIVERSIDE DRIVE              1411\n",
       "41 TIEMANN PLACE                 1179\n",
       "2300 5 AVENUE                    1176\n",
       "                                ...  \n",
       "164 EAST 100 STREET                 1\n",
       "236 EAST 88 STREET                  1\n",
       "41 WEST 35 STREET                   1\n",
       "61 WEST 89 STREET                   1\n",
       "2380 ADAM C POWELL BOULEVARD        1\n",
       "Name: Incident Address, Length: 25310, dtype: int64"
      ]
     },
     "execution_count": 53,
     "metadata": {},
     "output_type": "execute_result"
    }
   ],
   "source": [
    "nycheat[\"Incident Address\"].value_counts()"
   ]
  },
  {
   "cell_type": "markdown",
   "metadata": {},
   "source": [
    "### For the complaint types that you selected in the previous module that had at least 80,000 complaints logged, which borough had the highest number of complaints submitted?"
   ]
  },
  {
   "cell_type": "code",
   "execution_count": 54,
   "metadata": {},
   "outputs": [
    {
     "data": {
      "text/html": [
       "<div>\n",
       "<style scoped>\n",
       "    .dataframe tbody tr th:only-of-type {\n",
       "        vertical-align: middle;\n",
       "    }\n",
       "\n",
       "    .dataframe tbody tr th {\n",
       "        vertical-align: top;\n",
       "    }\n",
       "\n",
       "    .dataframe thead th {\n",
       "        text-align: right;\n",
       "    }\n",
       "</style>\n",
       "<table border=\"1\" class=\"dataframe\">\n",
       "  <thead>\n",
       "    <tr style=\"text-align: right;\">\n",
       "      <th></th>\n",
       "      <th>Unique Key</th>\n",
       "      <th>Created Date</th>\n",
       "      <th>Complaint Type</th>\n",
       "      <th>Incident Zip</th>\n",
       "      <th>Incident Address</th>\n",
       "      <th>City</th>\n",
       "      <th>Status</th>\n",
       "      <th>Borough</th>\n",
       "    </tr>\n",
       "  </thead>\n",
       "  <tbody>\n",
       "    <tr>\n",
       "      <th>0</th>\n",
       "      <td>45531130</td>\n",
       "      <td>02/02/2020 06:09:17 AM</td>\n",
       "      <td>HEAT/HOT WATER</td>\n",
       "      <td>10019.0</td>\n",
       "      <td>426 WEST   52 STREET</td>\n",
       "      <td>NEW YORK</td>\n",
       "      <td>Open</td>\n",
       "      <td>MANHATTAN</td>\n",
       "    </tr>\n",
       "    <tr>\n",
       "      <th>11</th>\n",
       "      <td>45530831</td>\n",
       "      <td>02/02/2020 10:13:57 AM</td>\n",
       "      <td>HEAT/HOT WATER</td>\n",
       "      <td>10039.0</td>\n",
       "      <td>2819 FREDERICK DOUGLASS BOULEVARD</td>\n",
       "      <td>NEW YORK</td>\n",
       "      <td>Open</td>\n",
       "      <td>MANHATTAN</td>\n",
       "    </tr>\n",
       "    <tr>\n",
       "      <th>15</th>\n",
       "      <td>45530802</td>\n",
       "      <td>02/02/2020 03:50:43 PM</td>\n",
       "      <td>HEAT/HOT WATER</td>\n",
       "      <td>10011.0</td>\n",
       "      <td>334 WEST   22 STREET</td>\n",
       "      <td>NEW YORK</td>\n",
       "      <td>Open</td>\n",
       "      <td>MANHATTAN</td>\n",
       "    </tr>\n",
       "    <tr>\n",
       "      <th>17</th>\n",
       "      <td>45528911</td>\n",
       "      <td>02/02/2020 04:32:03 AM</td>\n",
       "      <td>HEAT/HOT WATER</td>\n",
       "      <td>10026.0</td>\n",
       "      <td>225 CENTRAL PARK NORTH</td>\n",
       "      <td>NEW YORK</td>\n",
       "      <td>Open</td>\n",
       "      <td>MANHATTAN</td>\n",
       "    </tr>\n",
       "    <tr>\n",
       "      <th>18</th>\n",
       "      <td>45528877</td>\n",
       "      <td>02/02/2020 11:10:08 AM</td>\n",
       "      <td>HEAT/HOT WATER</td>\n",
       "      <td>10031.0</td>\n",
       "      <td>529 WEST  151 STREET</td>\n",
       "      <td>NEW YORK</td>\n",
       "      <td>Open</td>\n",
       "      <td>MANHATTAN</td>\n",
       "    </tr>\n",
       "    <tr>\n",
       "      <th>...</th>\n",
       "      <td>...</td>\n",
       "      <td>...</td>\n",
       "      <td>...</td>\n",
       "      <td>...</td>\n",
       "      <td>...</td>\n",
       "      <td>...</td>\n",
       "      <td>...</td>\n",
       "      <td>...</td>\n",
       "    </tr>\n",
       "    <tr>\n",
       "      <th>6019828</th>\n",
       "      <td>44063636</td>\n",
       "      <td>10/15/2019 08:03:00 AM</td>\n",
       "      <td>HEAT/HOT WATER</td>\n",
       "      <td>10036.0</td>\n",
       "      <td>510 WEST   45 STREET</td>\n",
       "      <td>NEW YORK</td>\n",
       "      <td>Closed</td>\n",
       "      <td>MANHATTAN</td>\n",
       "    </tr>\n",
       "    <tr>\n",
       "      <th>6019836</th>\n",
       "      <td>44063680</td>\n",
       "      <td>10/15/2019 06:43:56 PM</td>\n",
       "      <td>HEAT/HOT WATER</td>\n",
       "      <td>10029.0</td>\n",
       "      <td>327 EAST  108 STREET</td>\n",
       "      <td>NEW YORK</td>\n",
       "      <td>Closed</td>\n",
       "      <td>MANHATTAN</td>\n",
       "    </tr>\n",
       "    <tr>\n",
       "      <th>6019838</th>\n",
       "      <td>44063685</td>\n",
       "      <td>10/15/2019 10:35:45 AM</td>\n",
       "      <td>HEAT/HOT WATER</td>\n",
       "      <td>10029.0</td>\n",
       "      <td>327 EAST  108 STREET</td>\n",
       "      <td>NEW YORK</td>\n",
       "      <td>Closed</td>\n",
       "      <td>MANHATTAN</td>\n",
       "    </tr>\n",
       "    <tr>\n",
       "      <th>6019840</th>\n",
       "      <td>44063724</td>\n",
       "      <td>10/15/2019 10:54:45 AM</td>\n",
       "      <td>HEAT/HOT WATER</td>\n",
       "      <td>10034.0</td>\n",
       "      <td>165 SHERMAN AVENUE</td>\n",
       "      <td>NEW YORK</td>\n",
       "      <td>Closed</td>\n",
       "      <td>MANHATTAN</td>\n",
       "    </tr>\n",
       "    <tr>\n",
       "      <th>6019842</th>\n",
       "      <td>44063737</td>\n",
       "      <td>10/15/2019 11:29:01 AM</td>\n",
       "      <td>PAINT/PLASTER</td>\n",
       "      <td>10009.0</td>\n",
       "      <td>143 AVENUE D</td>\n",
       "      <td>NEW YORK</td>\n",
       "      <td>Closed</td>\n",
       "      <td>MANHATTAN</td>\n",
       "    </tr>\n",
       "  </tbody>\n",
       "</table>\n",
       "<p>1204417 rows × 8 columns</p>\n",
       "</div>"
      ],
      "text/plain": [
       "         Unique Key            Created Date  Complaint Type  Incident Zip  \\\n",
       "0          45531130  02/02/2020 06:09:17 AM  HEAT/HOT WATER       10019.0   \n",
       "11         45530831  02/02/2020 10:13:57 AM  HEAT/HOT WATER       10039.0   \n",
       "15         45530802  02/02/2020 03:50:43 PM  HEAT/HOT WATER       10011.0   \n",
       "17         45528911  02/02/2020 04:32:03 AM  HEAT/HOT WATER       10026.0   \n",
       "18         45528877  02/02/2020 11:10:08 AM  HEAT/HOT WATER       10031.0   \n",
       "...             ...                     ...             ...           ...   \n",
       "6019828    44063636  10/15/2019 08:03:00 AM  HEAT/HOT WATER       10036.0   \n",
       "6019836    44063680  10/15/2019 06:43:56 PM  HEAT/HOT WATER       10029.0   \n",
       "6019838    44063685  10/15/2019 10:35:45 AM  HEAT/HOT WATER       10029.0   \n",
       "6019840    44063724  10/15/2019 10:54:45 AM  HEAT/HOT WATER       10034.0   \n",
       "6019842    44063737  10/15/2019 11:29:01 AM   PAINT/PLASTER       10009.0   \n",
       "\n",
       "                          Incident Address      City  Status    Borough  \n",
       "0                     426 WEST   52 STREET  NEW YORK    Open  MANHATTAN  \n",
       "11       2819 FREDERICK DOUGLASS BOULEVARD  NEW YORK    Open  MANHATTAN  \n",
       "15                    334 WEST   22 STREET  NEW YORK    Open  MANHATTAN  \n",
       "17                  225 CENTRAL PARK NORTH  NEW YORK    Open  MANHATTAN  \n",
       "18                    529 WEST  151 STREET  NEW YORK    Open  MANHATTAN  \n",
       "...                                    ...       ...     ...        ...  \n",
       "6019828               510 WEST   45 STREET  NEW YORK  Closed  MANHATTAN  \n",
       "6019836               327 EAST  108 STREET  NEW YORK  Closed  MANHATTAN  \n",
       "6019838               327 EAST  108 STREET  NEW YORK  Closed  MANHATTAN  \n",
       "6019840                 165 SHERMAN AVENUE  NEW YORK  Closed  MANHATTAN  \n",
       "6019842                       143 AVENUE D  NEW YORK  Closed  MANHATTAN  \n",
       "\n",
       "[1204417 rows x 8 columns]"
      ]
     },
     "execution_count": 54,
     "metadata": {},
     "output_type": "execute_result"
    }
   ],
   "source": [
    "newyorkcity"
   ]
  },
  {
   "cell_type": "code",
   "execution_count": 55,
   "metadata": {},
   "outputs": [],
   "source": [
    "df3 = newyorkcity[(newyorkcity[\"Complaint Type\"] == \"HEAT/HOT WATER\") | (newyorkcity[\"Complaint Type\"] == \"PLUMBING\") | (newyorkcity[\"Complaint Type\"] == \"GENERAL CONSTRUCTION\") | (newyorkcity[\"Complaint Type\"] == \"UNSANITARY CONDITION\")]"
   ]
  },
  {
   "cell_type": "code",
   "execution_count": 56,
   "metadata": {},
   "outputs": [
    {
     "data": {
      "text/html": [
       "<div>\n",
       "<style scoped>\n",
       "    .dataframe tbody tr th:only-of-type {\n",
       "        vertical-align: middle;\n",
       "    }\n",
       "\n",
       "    .dataframe tbody tr th {\n",
       "        vertical-align: top;\n",
       "    }\n",
       "\n",
       "    .dataframe thead th {\n",
       "        text-align: right;\n",
       "    }\n",
       "</style>\n",
       "<table border=\"1\" class=\"dataframe\">\n",
       "  <thead>\n",
       "    <tr style=\"text-align: right;\">\n",
       "      <th></th>\n",
       "      <th>Unique Key</th>\n",
       "      <th>Created Date</th>\n",
       "      <th>Complaint Type</th>\n",
       "      <th>Incident Zip</th>\n",
       "      <th>Incident Address</th>\n",
       "      <th>City</th>\n",
       "      <th>Status</th>\n",
       "      <th>Borough</th>\n",
       "    </tr>\n",
       "  </thead>\n",
       "  <tbody>\n",
       "    <tr>\n",
       "      <th>0</th>\n",
       "      <td>45531130</td>\n",
       "      <td>02/02/2020 06:09:17 AM</td>\n",
       "      <td>HEAT/HOT WATER</td>\n",
       "      <td>10019.0</td>\n",
       "      <td>426 WEST   52 STREET</td>\n",
       "      <td>NEW YORK</td>\n",
       "      <td>Open</td>\n",
       "      <td>MANHATTAN</td>\n",
       "    </tr>\n",
       "    <tr>\n",
       "      <th>11</th>\n",
       "      <td>45530831</td>\n",
       "      <td>02/02/2020 10:13:57 AM</td>\n",
       "      <td>HEAT/HOT WATER</td>\n",
       "      <td>10039.0</td>\n",
       "      <td>2819 FREDERICK DOUGLASS BOULEVARD</td>\n",
       "      <td>NEW YORK</td>\n",
       "      <td>Open</td>\n",
       "      <td>MANHATTAN</td>\n",
       "    </tr>\n",
       "    <tr>\n",
       "      <th>15</th>\n",
       "      <td>45530802</td>\n",
       "      <td>02/02/2020 03:50:43 PM</td>\n",
       "      <td>HEAT/HOT WATER</td>\n",
       "      <td>10011.0</td>\n",
       "      <td>334 WEST   22 STREET</td>\n",
       "      <td>NEW YORK</td>\n",
       "      <td>Open</td>\n",
       "      <td>MANHATTAN</td>\n",
       "    </tr>\n",
       "    <tr>\n",
       "      <th>17</th>\n",
       "      <td>45528911</td>\n",
       "      <td>02/02/2020 04:32:03 AM</td>\n",
       "      <td>HEAT/HOT WATER</td>\n",
       "      <td>10026.0</td>\n",
       "      <td>225 CENTRAL PARK NORTH</td>\n",
       "      <td>NEW YORK</td>\n",
       "      <td>Open</td>\n",
       "      <td>MANHATTAN</td>\n",
       "    </tr>\n",
       "    <tr>\n",
       "      <th>18</th>\n",
       "      <td>45528877</td>\n",
       "      <td>02/02/2020 11:10:08 AM</td>\n",
       "      <td>HEAT/HOT WATER</td>\n",
       "      <td>10031.0</td>\n",
       "      <td>529 WEST  151 STREET</td>\n",
       "      <td>NEW YORK</td>\n",
       "      <td>Open</td>\n",
       "      <td>MANHATTAN</td>\n",
       "    </tr>\n",
       "    <tr>\n",
       "      <th>...</th>\n",
       "      <td>...</td>\n",
       "      <td>...</td>\n",
       "      <td>...</td>\n",
       "      <td>...</td>\n",
       "      <td>...</td>\n",
       "      <td>...</td>\n",
       "      <td>...</td>\n",
       "      <td>...</td>\n",
       "    </tr>\n",
       "    <tr>\n",
       "      <th>6019826</th>\n",
       "      <td>44063628</td>\n",
       "      <td>10/15/2019 06:18:33 PM</td>\n",
       "      <td>HEAT/HOT WATER</td>\n",
       "      <td>10024.0</td>\n",
       "      <td>2301 BROADWAY</td>\n",
       "      <td>NEW YORK</td>\n",
       "      <td>Closed</td>\n",
       "      <td>MANHATTAN</td>\n",
       "    </tr>\n",
       "    <tr>\n",
       "      <th>6019828</th>\n",
       "      <td>44063636</td>\n",
       "      <td>10/15/2019 08:03:00 AM</td>\n",
       "      <td>HEAT/HOT WATER</td>\n",
       "      <td>10036.0</td>\n",
       "      <td>510 WEST   45 STREET</td>\n",
       "      <td>NEW YORK</td>\n",
       "      <td>Closed</td>\n",
       "      <td>MANHATTAN</td>\n",
       "    </tr>\n",
       "    <tr>\n",
       "      <th>6019836</th>\n",
       "      <td>44063680</td>\n",
       "      <td>10/15/2019 06:43:56 PM</td>\n",
       "      <td>HEAT/HOT WATER</td>\n",
       "      <td>10029.0</td>\n",
       "      <td>327 EAST  108 STREET</td>\n",
       "      <td>NEW YORK</td>\n",
       "      <td>Closed</td>\n",
       "      <td>MANHATTAN</td>\n",
       "    </tr>\n",
       "    <tr>\n",
       "      <th>6019838</th>\n",
       "      <td>44063685</td>\n",
       "      <td>10/15/2019 10:35:45 AM</td>\n",
       "      <td>HEAT/HOT WATER</td>\n",
       "      <td>10029.0</td>\n",
       "      <td>327 EAST  108 STREET</td>\n",
       "      <td>NEW YORK</td>\n",
       "      <td>Closed</td>\n",
       "      <td>MANHATTAN</td>\n",
       "    </tr>\n",
       "    <tr>\n",
       "      <th>6019840</th>\n",
       "      <td>44063724</td>\n",
       "      <td>10/15/2019 10:54:45 AM</td>\n",
       "      <td>HEAT/HOT WATER</td>\n",
       "      <td>10034.0</td>\n",
       "      <td>165 SHERMAN AVENUE</td>\n",
       "      <td>NEW YORK</td>\n",
       "      <td>Closed</td>\n",
       "      <td>MANHATTAN</td>\n",
       "    </tr>\n",
       "  </tbody>\n",
       "</table>\n",
       "<p>785675 rows × 8 columns</p>\n",
       "</div>"
      ],
      "text/plain": [
       "         Unique Key            Created Date  Complaint Type  Incident Zip  \\\n",
       "0          45531130  02/02/2020 06:09:17 AM  HEAT/HOT WATER       10019.0   \n",
       "11         45530831  02/02/2020 10:13:57 AM  HEAT/HOT WATER       10039.0   \n",
       "15         45530802  02/02/2020 03:50:43 PM  HEAT/HOT WATER       10011.0   \n",
       "17         45528911  02/02/2020 04:32:03 AM  HEAT/HOT WATER       10026.0   \n",
       "18         45528877  02/02/2020 11:10:08 AM  HEAT/HOT WATER       10031.0   \n",
       "...             ...                     ...             ...           ...   \n",
       "6019826    44063628  10/15/2019 06:18:33 PM  HEAT/HOT WATER       10024.0   \n",
       "6019828    44063636  10/15/2019 08:03:00 AM  HEAT/HOT WATER       10036.0   \n",
       "6019836    44063680  10/15/2019 06:43:56 PM  HEAT/HOT WATER       10029.0   \n",
       "6019838    44063685  10/15/2019 10:35:45 AM  HEAT/HOT WATER       10029.0   \n",
       "6019840    44063724  10/15/2019 10:54:45 AM  HEAT/HOT WATER       10034.0   \n",
       "\n",
       "                          Incident Address      City  Status    Borough  \n",
       "0                     426 WEST   52 STREET  NEW YORK    Open  MANHATTAN  \n",
       "11       2819 FREDERICK DOUGLASS BOULEVARD  NEW YORK    Open  MANHATTAN  \n",
       "15                    334 WEST   22 STREET  NEW YORK    Open  MANHATTAN  \n",
       "17                  225 CENTRAL PARK NORTH  NEW YORK    Open  MANHATTAN  \n",
       "18                    529 WEST  151 STREET  NEW YORK    Open  MANHATTAN  \n",
       "...                                    ...       ...     ...        ...  \n",
       "6019826                      2301 BROADWAY  NEW YORK  Closed  MANHATTAN  \n",
       "6019828               510 WEST   45 STREET  NEW YORK  Closed  MANHATTAN  \n",
       "6019836               327 EAST  108 STREET  NEW YORK  Closed  MANHATTAN  \n",
       "6019838               327 EAST  108 STREET  NEW YORK  Closed  MANHATTAN  \n",
       "6019840                 165 SHERMAN AVENUE  NEW YORK  Closed  MANHATTAN  \n",
       "\n",
       "[785675 rows x 8 columns]"
      ]
     },
     "execution_count": 56,
     "metadata": {},
     "output_type": "execute_result"
    }
   ],
   "source": [
    "df3"
   ]
  },
  {
   "cell_type": "code",
   "execution_count": 57,
   "metadata": {},
   "outputs": [
    {
     "data": {
      "text/plain": [
       "array(['HEAT/HOT WATER', 'PLUMBING', 'UNSANITARY CONDITION',\n",
       "       'GENERAL CONSTRUCTION'], dtype=object)"
      ]
     },
     "execution_count": 57,
     "metadata": {},
     "output_type": "execute_result"
    }
   ],
   "source": [
    "df3[\"Complaint Type\"].unique()"
   ]
  },
  {
   "cell_type": "code",
   "execution_count": 58,
   "metadata": {},
   "outputs": [
    {
     "data": {
      "text/plain": [
       "array(['MANHATTAN', 'Unspecified'], dtype=object)"
      ]
     },
     "execution_count": 58,
     "metadata": {},
     "output_type": "execute_result"
    }
   ],
   "source": [
    "df3[\"Borough\"].unique()"
   ]
  },
  {
   "cell_type": "code",
   "execution_count": 59,
   "metadata": {},
   "outputs": [
    {
     "data": {
      "image/png": "[encoded data removed]",
      "text/plain": [
       "<Figure size 1440x720 with 1 Axes>"
      ]
     },
     "metadata": {},
     "output_type": "display_data"
    }
   ],
   "source": [
    "fig = plt.figure(figsize=(20,10))\n",
    "sns.countplot(x=df3[\"Borough\"])\n",
    "plt.xticks(rotation=90)\n",
    "plt.show()"
   ]
  },
  {
   "cell_type": "markdown",
   "metadata": {},
   "source": [
    "### If HEAT/HOT WATER ONLY:"
   ]
  },
  {
   "cell_type": "code",
   "execution_count": 60,
   "metadata": {},
   "outputs": [
    {
     "data": {
      "text/html": [
       "<div>\n",
       "<style scoped>\n",
       "    .dataframe tbody tr th:only-of-type {\n",
       "        vertical-align: middle;\n",
       "    }\n",
       "\n",
       "    .dataframe tbody tr th {\n",
       "        vertical-align: top;\n",
       "    }\n",
       "\n",
       "    .dataframe thead th {\n",
       "        text-align: right;\n",
       "    }\n",
       "</style>\n",
       "<table border=\"1\" class=\"dataframe\">\n",
       "  <thead>\n",
       "    <tr style=\"text-align: right;\">\n",
       "      <th></th>\n",
       "      <th>Unique Key</th>\n",
       "      <th>Created Date</th>\n",
       "      <th>Complaint Type</th>\n",
       "      <th>Incident Zip</th>\n",
       "      <th>Incident Address</th>\n",
       "      <th>City</th>\n",
       "      <th>Status</th>\n",
       "      <th>Borough</th>\n",
       "    </tr>\n",
       "  </thead>\n",
       "  <tbody>\n",
       "    <tr>\n",
       "      <th>0</th>\n",
       "      <td>45531130</td>\n",
       "      <td>02/02/2020 06:09:17 AM</td>\n",
       "      <td>HEAT/HOT WATER</td>\n",
       "      <td>10019.0</td>\n",
       "      <td>426 WEST   52 STREET</td>\n",
       "      <td>NEW YORK</td>\n",
       "      <td>Open</td>\n",
       "      <td>MANHATTAN</td>\n",
       "    </tr>\n",
       "    <tr>\n",
       "      <th>11</th>\n",
       "      <td>45530831</td>\n",
       "      <td>02/02/2020 10:13:57 AM</td>\n",
       "      <td>HEAT/HOT WATER</td>\n",
       "      <td>10039.0</td>\n",
       "      <td>2819 FREDERICK DOUGLASS BOULEVARD</td>\n",
       "      <td>NEW YORK</td>\n",
       "      <td>Open</td>\n",
       "      <td>MANHATTAN</td>\n",
       "    </tr>\n",
       "    <tr>\n",
       "      <th>15</th>\n",
       "      <td>45530802</td>\n",
       "      <td>02/02/2020 03:50:43 PM</td>\n",
       "      <td>HEAT/HOT WATER</td>\n",
       "      <td>10011.0</td>\n",
       "      <td>334 WEST   22 STREET</td>\n",
       "      <td>NEW YORK</td>\n",
       "      <td>Open</td>\n",
       "      <td>MANHATTAN</td>\n",
       "    </tr>\n",
       "    <tr>\n",
       "      <th>17</th>\n",
       "      <td>45528911</td>\n",
       "      <td>02/02/2020 04:32:03 AM</td>\n",
       "      <td>HEAT/HOT WATER</td>\n",
       "      <td>10026.0</td>\n",
       "      <td>225 CENTRAL PARK NORTH</td>\n",
       "      <td>NEW YORK</td>\n",
       "      <td>Open</td>\n",
       "      <td>MANHATTAN</td>\n",
       "    </tr>\n",
       "    <tr>\n",
       "      <th>18</th>\n",
       "      <td>45528877</td>\n",
       "      <td>02/02/2020 11:10:08 AM</td>\n",
       "      <td>HEAT/HOT WATER</td>\n",
       "      <td>10031.0</td>\n",
       "      <td>529 WEST  151 STREET</td>\n",
       "      <td>NEW YORK</td>\n",
       "      <td>Open</td>\n",
       "      <td>MANHATTAN</td>\n",
       "    </tr>\n",
       "    <tr>\n",
       "      <th>...</th>\n",
       "      <td>...</td>\n",
       "      <td>...</td>\n",
       "      <td>...</td>\n",
       "      <td>...</td>\n",
       "      <td>...</td>\n",
       "      <td>...</td>\n",
       "      <td>...</td>\n",
       "      <td>...</td>\n",
       "    </tr>\n",
       "    <tr>\n",
       "      <th>6019826</th>\n",
       "      <td>44063628</td>\n",
       "      <td>10/15/2019 06:18:33 PM</td>\n",
       "      <td>HEAT/HOT WATER</td>\n",
       "      <td>10024.0</td>\n",
       "      <td>2301 BROADWAY</td>\n",
       "      <td>NEW YORK</td>\n",
       "      <td>Closed</td>\n",
       "      <td>MANHATTAN</td>\n",
       "    </tr>\n",
       "    <tr>\n",
       "      <th>6019828</th>\n",
       "      <td>44063636</td>\n",
       "      <td>10/15/2019 08:03:00 AM</td>\n",
       "      <td>HEAT/HOT WATER</td>\n",
       "      <td>10036.0</td>\n",
       "      <td>510 WEST   45 STREET</td>\n",
       "      <td>NEW YORK</td>\n",
       "      <td>Closed</td>\n",
       "      <td>MANHATTAN</td>\n",
       "    </tr>\n",
       "    <tr>\n",
       "      <th>6019836</th>\n",
       "      <td>44063680</td>\n",
       "      <td>10/15/2019 06:43:56 PM</td>\n",
       "      <td>HEAT/HOT WATER</td>\n",
       "      <td>10029.0</td>\n",
       "      <td>327 EAST  108 STREET</td>\n",
       "      <td>NEW YORK</td>\n",
       "      <td>Closed</td>\n",
       "      <td>MANHATTAN</td>\n",
       "    </tr>\n",
       "    <tr>\n",
       "      <th>6019838</th>\n",
       "      <td>44063685</td>\n",
       "      <td>10/15/2019 10:35:45 AM</td>\n",
       "      <td>HEAT/HOT WATER</td>\n",
       "      <td>10029.0</td>\n",
       "      <td>327 EAST  108 STREET</td>\n",
       "      <td>NEW YORK</td>\n",
       "      <td>Closed</td>\n",
       "      <td>MANHATTAN</td>\n",
       "    </tr>\n",
       "    <tr>\n",
       "      <th>6019840</th>\n",
       "      <td>44063724</td>\n",
       "      <td>10/15/2019 10:54:45 AM</td>\n",
       "      <td>HEAT/HOT WATER</td>\n",
       "      <td>10034.0</td>\n",
       "      <td>165 SHERMAN AVENUE</td>\n",
       "      <td>NEW YORK</td>\n",
       "      <td>Closed</td>\n",
       "      <td>MANHATTAN</td>\n",
       "    </tr>\n",
       "  </tbody>\n",
       "</table>\n",
       "<p>477518 rows × 8 columns</p>\n",
       "</div>"
      ],
      "text/plain": [
       "         Unique Key            Created Date  Complaint Type  Incident Zip  \\\n",
       "0          45531130  02/02/2020 06:09:17 AM  HEAT/HOT WATER       10019.0   \n",
       "11         45530831  02/02/2020 10:13:57 AM  HEAT/HOT WATER       10039.0   \n",
       "15         45530802  02/02/2020 03:50:43 PM  HEAT/HOT WATER       10011.0   \n",
       "17         45528911  02/02/2020 04:32:03 AM  HEAT/HOT WATER       10026.0   \n",
       "18         45528877  02/02/2020 11:10:08 AM  HEAT/HOT WATER       10031.0   \n",
       "...             ...                     ...             ...           ...   \n",
       "6019826    44063628  10/15/2019 06:18:33 PM  HEAT/HOT WATER       10024.0   \n",
       "6019828    44063636  10/15/2019 08:03:00 AM  HEAT/HOT WATER       10036.0   \n",
       "6019836    44063680  10/15/2019 06:43:56 PM  HEAT/HOT WATER       10029.0   \n",
       "6019838    44063685  10/15/2019 10:35:45 AM  HEAT/HOT WATER       10029.0   \n",
       "6019840    44063724  10/15/2019 10:54:45 AM  HEAT/HOT WATER       10034.0   \n",
       "\n",
       "                          Incident Address      City  Status    Borough  \n",
       "0                     426 WEST   52 STREET  NEW YORK    Open  MANHATTAN  \n",
       "11       2819 FREDERICK DOUGLASS BOULEVARD  NEW YORK    Open  MANHATTAN  \n",
       "15                    334 WEST   22 STREET  NEW YORK    Open  MANHATTAN  \n",
       "17                  225 CENTRAL PARK NORTH  NEW YORK    Open  MANHATTAN  \n",
       "18                    529 WEST  151 STREET  NEW YORK    Open  MANHATTAN  \n",
       "...                                    ...       ...     ...        ...  \n",
       "6019826                      2301 BROADWAY  NEW YORK  Closed  MANHATTAN  \n",
       "6019828               510 WEST   45 STREET  NEW YORK  Closed  MANHATTAN  \n",
       "6019836               327 EAST  108 STREET  NEW YORK  Closed  MANHATTAN  \n",
       "6019838               327 EAST  108 STREET  NEW YORK  Closed  MANHATTAN  \n",
       "6019840                 165 SHERMAN AVENUE  NEW YORK  Closed  MANHATTAN  \n",
       "\n",
       "[477518 rows x 8 columns]"
      ]
     },
     "execution_count": 60,
     "metadata": {},
     "output_type": "execute_result"
    }
   ],
   "source": [
    "nycheat"
   ]
  },
  {
   "cell_type": "code",
   "execution_count": 61,
   "metadata": {},
   "outputs": [
    {
     "data": {
      "text/plain": [
       "array(['MANHATTAN', 'Unspecified'], dtype=object)"
      ]
     },
     "execution_count": 61,
     "metadata": {},
     "output_type": "execute_result"
    }
   ],
   "source": [
    "nycheat[\"Borough\"].unique()"
   ]
  },
  {
   "cell_type": "markdown",
   "metadata": {},
   "source": [
    "### Correlation"
   ]
  },
  {
   "cell_type": "code",
   "execution_count": 62,
   "metadata": {},
   "outputs": [
    {
     "data": {
      "text/html": [
       "<div>\n",
       "<style scoped>\n",
       "    .dataframe tbody tr th:only-of-type {\n",
       "        vertical-align: middle;\n",
       "    }\n",
       "\n",
       "    .dataframe tbody tr th {\n",
       "        vertical-align: top;\n",
       "    }\n",
       "\n",
       "    .dataframe thead th {\n",
       "        text-align: right;\n",
       "    }\n",
       "</style>\n",
       "<table border=\"1\" class=\"dataframe\">\n",
       "  <thead>\n",
       "    <tr style=\"text-align: right;\">\n",
       "      <th></th>\n",
       "      <th>Unique Key</th>\n",
       "      <th>Incident Zip</th>\n",
       "    </tr>\n",
       "  </thead>\n",
       "  <tbody>\n",
       "    <tr>\n",
       "      <th>Unique Key</th>\n",
       "      <td>1.000000</td>\n",
       "      <td>-0.030457</td>\n",
       "    </tr>\n",
       "    <tr>\n",
       "      <th>Incident Zip</th>\n",
       "      <td>-0.030457</td>\n",
       "      <td>1.000000</td>\n",
       "    </tr>\n",
       "  </tbody>\n",
       "</table>\n",
       "</div>"
      ],
      "text/plain": [
       "              Unique Key  Incident Zip\n",
       "Unique Key      1.000000     -0.030457\n",
       "Incident Zip   -0.030457      1.000000"
      ]
     },
     "execution_count": 62,
     "metadata": {},
     "output_type": "execute_result"
    }
   ],
   "source": [
    "df.corr()"
   ]
  },
  {
   "cell_type": "code",
   "execution_count": 63,
   "metadata": {},
   "outputs": [
    {
     "data": {
      "image/png": "[encoded data removed]",
      "text/plain": [
       "<Figure size 1152x648 with 2 Axes>"
      ]
     },
     "metadata": {},
     "output_type": "display_data"
    }
   ],
   "source": [
    "plt.figure(figsize=(16,9))\n",
    "sns.heatmap(df.corr(),cmap=\"coolwarm\",annot=True,fmt='.2f',linewidths=2)\n",
    "plt.show()"
   ]
  }
 ],
 "metadata": {
  "kernelspec": {
   "display_name": "Python 3",
   "language": "python",
   "name": "python3"
  },
  "language_info": {
   "codemirror_mode": {
    "name": "ipython",
    "version": 3
   },
   "file_extension": ".py",
   "mimetype": "text/x-python",
   "name": "python",
   "nbconvert_exporter": "python",
   "pygments_lexer": "ipython3",
   "version": "3.8.3"
  }
 },
 "nbformat": 4,
 "nbformat_minor": 4
}
