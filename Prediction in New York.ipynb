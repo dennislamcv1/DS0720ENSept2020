{
 "cells": [
  {
   "cell_type": "markdown",
   "metadata": {},
   "source": [
    "### Objective for Exercise"
   ]
  },
  {
   "cell_type": "markdown",
   "metadata": {},
   "source": [
    "Use your machine learning skills to build a predictive model to help a business function more efficiently."
   ]
  },
  {
   "cell_type": "markdown",
   "metadata": {},
   "source": [
    "The goal of this exercise is to do Model Development and Validation to find the answer to the Question 4 of the problem statement:\n",
    "\n",
    "**Can a predictive model be built for future prediction of the possibility of complaints of the specific type that you identified in response to Question 1?**"
   ]
  },
  {
   "cell_type": "markdown",
   "metadata": {},
   "source": [
    "In this exercise, you will use a feature-engineered dataset to determine whether a predictive model can be built to predict the complaint (of the Complaint Type that you decided to focus on in Week 2) by using past data.\n",
    "\n",
    "Using the best model, you need to predict the number of future complaints (of the Complaint Type that you decided to focus on in Question 1)."
   ]
  },
  {
   "cell_type": "markdown",
   "metadata": {},
   "source": [
    "### Import Libraries"
   ]
  },
  {
   "cell_type": "code",
   "execution_count": 1,
   "metadata": {},
   "outputs": [],
   "source": [
    "import numpy as np\n",
    "import pandas as pd\n",
    "import matplotlib.pyplot as plt\n",
    "import seaborn as sns\n",
    "import sklearn\n",
    "import shap\n",
    "\n",
    "import xgboost as xgb\n",
    "from xgboost import XGBClassifier, XGBRegressor\n",
    "from xgboost import to_graphviz, plot_importance, plot_tree\n",
    "\n",
    "from sklearn.ensemble import RandomForestRegressor\n",
    "\n",
    "%matplotlib inline\n",
    "sns.set_style('dark')\n",
    "sns.set(font_scale=1.2)\n",
    "\n",
    "from sklearn.inspection import permutation_importance\n",
    "from sklearn.model_selection import cross_val_score, train_test_split, GridSearchCV, RandomizedSearchCV\n",
    "from sklearn.preprocessing import LabelEncoder, StandardScaler, MinMaxScaler, OneHotEncoder\n",
    "from sklearn.pipeline import Pipeline\n",
    "from sklearn.metrics import confusion_matrix, classification_report, mean_absolute_error, mean_squared_error,r2_score\n",
    "from sklearn.metrics import plot_confusion_matrix, plot_precision_recall_curve, plot_roc_curve, accuracy_score\n",
    "from sklearn.metrics import auc, f1_score, precision_score, recall_score, roc_auc_score\n",
    "\n",
    "import warnings\n",
    "warnings.filterwarnings('ignore')\n",
    "\n",
    "import pickle\n",
    "from pickle import dump, load\n",
    "\n",
    "import feature_engine.missing_data_imputers as mdi\n",
    "from feature_engine.outlier_removers import Winsorizer\n",
    "\n",
    "np.random.seed(0)\n",
    "\n",
    "#from pycaret.classification import *\n",
    "#from pycaret.clustering import *\n",
    "from pycaret.regression import *\n",
    "\n",
    "pd.set_option('display.max_columns',100)\n",
    "#pd.set_option('display.max_rows',100)\n",
    "pd.set_option('display.width', 1000)"
   ]
  },
  {
   "cell_type": "markdown",
   "metadata": {},
   "source": [
    "### Data Exploration and Analysis"
   ]
  },
  {
   "cell_type": "code",
   "execution_count": 2,
   "metadata": {},
   "outputs": [],
   "source": [
    "df = pd.read_csv(\"train.csv\")"
   ]
  },
  {
   "cell_type": "code",
   "execution_count": 3,
   "metadata": {},
   "outputs": [
    {
     "data": {
      "text/html": [
       "<div>\n",
       "<style scoped>\n",
       "    .dataframe tbody tr th:only-of-type {\n",
       "        vertical-align: middle;\n",
       "    }\n",
       "\n",
       "    .dataframe tbody tr th {\n",
       "        vertical-align: top;\n",
       "    }\n",
       "\n",
       "    .dataframe thead th {\n",
       "        text-align: right;\n",
       "    }\n",
       "</style>\n",
       "<table border=\"1\" class=\"dataframe\">\n",
       "  <thead>\n",
       "    <tr style=\"text-align: right;\">\n",
       "      <th></th>\n",
       "      <th>bldgarea</th>\n",
       "      <th>bldgdepth</th>\n",
       "      <th>builtfar</th>\n",
       "      <th>facilfar</th>\n",
       "      <th>lotarea</th>\n",
       "      <th>lotdepth</th>\n",
       "      <th>numbldgs</th>\n",
       "      <th>numfloors</th>\n",
       "      <th>resarea</th>\n",
       "      <th>residfar</th>\n",
       "      <th>age</th>\n",
       "      <th>count</th>\n",
       "    </tr>\n",
       "  </thead>\n",
       "  <tbody>\n",
       "    <tr>\n",
       "      <th>0</th>\n",
       "      <td>3478.0</td>\n",
       "      <td>60.0</td>\n",
       "      <td>1.87</td>\n",
       "      <td>2.0</td>\n",
       "      <td>1862.0</td>\n",
       "      <td>100.0</td>\n",
       "      <td>2</td>\n",
       "      <td>3</td>\n",
       "      <td>3478.0</td>\n",
       "      <td>2.00</td>\n",
       "      <td>2</td>\n",
       "      <td>1979</td>\n",
       "    </tr>\n",
       "    <tr>\n",
       "      <th>1</th>\n",
       "      <td>4124.0</td>\n",
       "      <td>55.0</td>\n",
       "      <td>1.65</td>\n",
       "      <td>4.8</td>\n",
       "      <td>2500.0</td>\n",
       "      <td>100.0</td>\n",
       "      <td>1</td>\n",
       "      <td>3</td>\n",
       "      <td>2750.0</td>\n",
       "      <td>2.43</td>\n",
       "      <td>89</td>\n",
       "      <td>17</td>\n",
       "    </tr>\n",
       "    <tr>\n",
       "      <th>2</th>\n",
       "      <td>7416.0</td>\n",
       "      <td>100.0</td>\n",
       "      <td>2.97</td>\n",
       "      <td>3.0</td>\n",
       "      <td>2500.0</td>\n",
       "      <td>100.0</td>\n",
       "      <td>1</td>\n",
       "      <td>5</td>\n",
       "      <td>7036.0</td>\n",
       "      <td>3.00</td>\n",
       "      <td>62</td>\n",
       "      <td>44</td>\n",
       "    </tr>\n",
       "    <tr>\n",
       "      <th>3</th>\n",
       "      <td>2112.0</td>\n",
       "      <td>48.0</td>\n",
       "      <td>0.60</td>\n",
       "      <td>2.0</td>\n",
       "      <td>3500.0</td>\n",
       "      <td>100.0</td>\n",
       "      <td>1</td>\n",
       "      <td>2</td>\n",
       "      <td>2112.0</td>\n",
       "      <td>1.25</td>\n",
       "      <td>89</td>\n",
       "      <td>1101</td>\n",
       "    </tr>\n",
       "    <tr>\n",
       "      <th>4</th>\n",
       "      <td>1540.0</td>\n",
       "      <td>30.0</td>\n",
       "      <td>0.96</td>\n",
       "      <td>4.8</td>\n",
       "      <td>1600.0</td>\n",
       "      <td>80.0</td>\n",
       "      <td>1</td>\n",
       "      <td>2</td>\n",
       "      <td>1540.0</td>\n",
       "      <td>2.43</td>\n",
       "      <td>119</td>\n",
       "      <td>58</td>\n",
       "    </tr>\n",
       "    <tr>\n",
       "      <th>...</th>\n",
       "      <td>...</td>\n",
       "      <td>...</td>\n",
       "      <td>...</td>\n",
       "      <td>...</td>\n",
       "      <td>...</td>\n",
       "      <td>...</td>\n",
       "      <td>...</td>\n",
       "      <td>...</td>\n",
       "      <td>...</td>\n",
       "      <td>...</td>\n",
       "      <td>...</td>\n",
       "      <td>...</td>\n",
       "    </tr>\n",
       "    <tr>\n",
       "      <th>4410</th>\n",
       "      <td>3600.0</td>\n",
       "      <td>45.0</td>\n",
       "      <td>1.80</td>\n",
       "      <td>2.0</td>\n",
       "      <td>2000.0</td>\n",
       "      <td>100.0</td>\n",
       "      <td>1</td>\n",
       "      <td>3</td>\n",
       "      <td>2700.0</td>\n",
       "      <td>2.00</td>\n",
       "      <td>129</td>\n",
       "      <td>1</td>\n",
       "    </tr>\n",
       "    <tr>\n",
       "      <th>4411</th>\n",
       "      <td>3600.0</td>\n",
       "      <td>45.0</td>\n",
       "      <td>1.80</td>\n",
       "      <td>2.0</td>\n",
       "      <td>2000.0</td>\n",
       "      <td>100.0</td>\n",
       "      <td>1</td>\n",
       "      <td>4</td>\n",
       "      <td>3600.0</td>\n",
       "      <td>2.00</td>\n",
       "      <td>140</td>\n",
       "      <td>264</td>\n",
       "    </tr>\n",
       "    <tr>\n",
       "      <th>4412</th>\n",
       "      <td>3720.0</td>\n",
       "      <td>42.0</td>\n",
       "      <td>1.86</td>\n",
       "      <td>2.0</td>\n",
       "      <td>2000.0</td>\n",
       "      <td>100.0</td>\n",
       "      <td>1</td>\n",
       "      <td>3</td>\n",
       "      <td>2716.0</td>\n",
       "      <td>2.00</td>\n",
       "      <td>135</td>\n",
       "      <td>1</td>\n",
       "    </tr>\n",
       "    <tr>\n",
       "      <th>4413</th>\n",
       "      <td>3600.0</td>\n",
       "      <td>45.0</td>\n",
       "      <td>1.80</td>\n",
       "      <td>2.0</td>\n",
       "      <td>2000.0</td>\n",
       "      <td>100.0</td>\n",
       "      <td>1</td>\n",
       "      <td>3</td>\n",
       "      <td>2700.0</td>\n",
       "      <td>2.00</td>\n",
       "      <td>140</td>\n",
       "      <td>2</td>\n",
       "    </tr>\n",
       "    <tr>\n",
       "      <th>4414</th>\n",
       "      <td>2960.0</td>\n",
       "      <td>40.0</td>\n",
       "      <td>1.60</td>\n",
       "      <td>2.0</td>\n",
       "      <td>1850.0</td>\n",
       "      <td>100.0</td>\n",
       "      <td>1</td>\n",
       "      <td>3</td>\n",
       "      <td>2220.0</td>\n",
       "      <td>2.00</td>\n",
       "      <td>127</td>\n",
       "      <td>4</td>\n",
       "    </tr>\n",
       "  </tbody>\n",
       "</table>\n",
       "<p>4415 rows × 12 columns</p>\n",
       "</div>"
      ],
      "text/plain": [
       "      bldgarea  bldgdepth  builtfar  facilfar  lotarea  lotdepth  numbldgs  numfloors  resarea  residfar  age  count\n",
       "0       3478.0       60.0      1.87       2.0   1862.0     100.0         2          3   3478.0      2.00    2   1979\n",
       "1       4124.0       55.0      1.65       4.8   2500.0     100.0         1          3   2750.0      2.43   89     17\n",
       "2       7416.0      100.0      2.97       3.0   2500.0     100.0         1          5   7036.0      3.00   62     44\n",
       "3       2112.0       48.0      0.60       2.0   3500.0     100.0         1          2   2112.0      1.25   89   1101\n",
       "4       1540.0       30.0      0.96       4.8   1600.0      80.0         1          2   1540.0      2.43  119     58\n",
       "...        ...        ...       ...       ...      ...       ...       ...        ...      ...       ...  ...    ...\n",
       "4410    3600.0       45.0      1.80       2.0   2000.0     100.0         1          3   2700.0      2.00  129      1\n",
       "4411    3600.0       45.0      1.80       2.0   2000.0     100.0         1          4   3600.0      2.00  140    264\n",
       "4412    3720.0       42.0      1.86       2.0   2000.0     100.0         1          3   2716.0      2.00  135      1\n",
       "4413    3600.0       45.0      1.80       2.0   2000.0     100.0         1          3   2700.0      2.00  140      2\n",
       "4414    2960.0       40.0      1.60       2.0   1850.0     100.0         1          3   2220.0      2.00  127      4\n",
       "\n",
       "[4415 rows x 12 columns]"
      ]
     },
     "execution_count": 3,
     "metadata": {},
     "output_type": "execute_result"
    }
   ],
   "source": [
    "df"
   ]
  },
  {
   "cell_type": "code",
   "execution_count": 4,
   "metadata": {},
   "outputs": [
    {
     "name": "stdout",
     "output_type": "stream",
     "text": [
      "<class 'pandas.core.frame.DataFrame'>\n",
      "RangeIndex: 4415 entries, 0 to 4414\n",
      "Data columns (total 12 columns):\n",
      " #   Column     Non-Null Count  Dtype  \n",
      "---  ------     --------------  -----  \n",
      " 0   bldgarea   4415 non-null   float64\n",
      " 1   bldgdepth  4415 non-null   float64\n",
      " 2   builtfar   4415 non-null   float64\n",
      " 3   facilfar   4415 non-null   float64\n",
      " 4   lotarea    4415 non-null   float64\n",
      " 5   lotdepth   4415 non-null   float64\n",
      " 6   numbldgs   4415 non-null   int64  \n",
      " 7   numfloors  4415 non-null   int64  \n",
      " 8   resarea    4415 non-null   float64\n",
      " 9   residfar   4415 non-null   float64\n",
      " 10  age        4415 non-null   int64  \n",
      " 11  count      4415 non-null   int64  \n",
      "dtypes: float64(8), int64(4)\n",
      "memory usage: 414.0 KB\n"
     ]
    }
   ],
   "source": [
    "df.info()"
   ]
  },
  {
   "cell_type": "code",
   "execution_count": 5,
   "metadata": {},
   "outputs": [
    {
     "data": {
      "text/html": [
       "<div>\n",
       "<style scoped>\n",
       "    .dataframe tbody tr th:only-of-type {\n",
       "        vertical-align: middle;\n",
       "    }\n",
       "\n",
       "    .dataframe tbody tr th {\n",
       "        vertical-align: top;\n",
       "    }\n",
       "\n",
       "    .dataframe thead th {\n",
       "        text-align: right;\n",
       "    }\n",
       "</style>\n",
       "<table border=\"1\" class=\"dataframe\">\n",
       "  <thead>\n",
       "    <tr style=\"text-align: right;\">\n",
       "      <th></th>\n",
       "      <th>bldgarea</th>\n",
       "      <th>bldgdepth</th>\n",
       "      <th>builtfar</th>\n",
       "      <th>facilfar</th>\n",
       "      <th>lotarea</th>\n",
       "      <th>lotdepth</th>\n",
       "      <th>numbldgs</th>\n",
       "      <th>numfloors</th>\n",
       "      <th>resarea</th>\n",
       "      <th>residfar</th>\n",
       "      <th>age</th>\n",
       "      <th>count</th>\n",
       "    </tr>\n",
       "  </thead>\n",
       "  <tbody>\n",
       "    <tr>\n",
       "      <th>count</th>\n",
       "      <td>4415.000000</td>\n",
       "      <td>4415.000000</td>\n",
       "      <td>4415.000000</td>\n",
       "      <td>4415.000000</td>\n",
       "      <td>4415.000000</td>\n",
       "      <td>4415.000000</td>\n",
       "      <td>4415.000000</td>\n",
       "      <td>4415.000000</td>\n",
       "      <td>4415.000000</td>\n",
       "      <td>4415.000000</td>\n",
       "      <td>4415.000000</td>\n",
       "      <td>4415.000000</td>\n",
       "    </tr>\n",
       "    <tr>\n",
       "      <th>mean</th>\n",
       "      <td>5045.138618</td>\n",
       "      <td>53.534297</td>\n",
       "      <td>2.063108</td>\n",
       "      <td>3.642559</td>\n",
       "      <td>2486.385730</td>\n",
       "      <td>97.277619</td>\n",
       "      <td>1.066591</td>\n",
       "      <td>3.160815</td>\n",
       "      <td>4377.229672</td>\n",
       "      <td>2.777178</td>\n",
       "      <td>124.306682</td>\n",
       "      <td>164.407022</td>\n",
       "    </tr>\n",
       "    <tr>\n",
       "      <th>std</th>\n",
       "      <td>6281.452795</td>\n",
       "      <td>17.108341</td>\n",
       "      <td>1.159838</td>\n",
       "      <td>1.961428</td>\n",
       "      <td>2570.764718</td>\n",
       "      <td>22.746662</td>\n",
       "      <td>0.349257</td>\n",
       "      <td>1.234769</td>\n",
       "      <td>5964.150780</td>\n",
       "      <td>1.693882</td>\n",
       "      <td>31.312957</td>\n",
       "      <td>449.055041</td>\n",
       "    </tr>\n",
       "    <tr>\n",
       "      <th>min</th>\n",
       "      <td>400.000000</td>\n",
       "      <td>1.000000</td>\n",
       "      <td>0.080000</td>\n",
       "      <td>1.000000</td>\n",
       "      <td>375.000000</td>\n",
       "      <td>16.000000</td>\n",
       "      <td>1.000000</td>\n",
       "      <td>1.000000</td>\n",
       "      <td>350.000000</td>\n",
       "      <td>0.500000</td>\n",
       "      <td>1.000000</td>\n",
       "      <td>1.000000</td>\n",
       "    </tr>\n",
       "    <tr>\n",
       "      <th>25%</th>\n",
       "      <td>2607.000000</td>\n",
       "      <td>45.000000</td>\n",
       "      <td>1.350000</td>\n",
       "      <td>2.000000</td>\n",
       "      <td>1751.000000</td>\n",
       "      <td>95.000000</td>\n",
       "      <td>1.000000</td>\n",
       "      <td>2.000000</td>\n",
       "      <td>2008.000000</td>\n",
       "      <td>2.000000</td>\n",
       "      <td>113.000000</td>\n",
       "      <td>4.000000</td>\n",
       "    </tr>\n",
       "    <tr>\n",
       "      <th>50%</th>\n",
       "      <td>3432.000000</td>\n",
       "      <td>50.000000</td>\n",
       "      <td>1.800000</td>\n",
       "      <td>3.000000</td>\n",
       "      <td>2000.000000</td>\n",
       "      <td>100.000000</td>\n",
       "      <td>1.000000</td>\n",
       "      <td>3.000000</td>\n",
       "      <td>2748.000000</td>\n",
       "      <td>2.430000</td>\n",
       "      <td>127.000000</td>\n",
       "      <td>24.000000</td>\n",
       "    </tr>\n",
       "    <tr>\n",
       "      <th>75%</th>\n",
       "      <td>4942.000000</td>\n",
       "      <td>60.000000</td>\n",
       "      <td>2.555000</td>\n",
       "      <td>4.800000</td>\n",
       "      <td>2380.000000</td>\n",
       "      <td>100.440000</td>\n",
       "      <td>1.000000</td>\n",
       "      <td>4.000000</td>\n",
       "      <td>4342.000000</td>\n",
       "      <td>3.440000</td>\n",
       "      <td>139.000000</td>\n",
       "      <td>146.000000</td>\n",
       "    </tr>\n",
       "    <tr>\n",
       "      <th>max</th>\n",
       "      <td>65020.000000</td>\n",
       "      <td>200.000000</td>\n",
       "      <td>12.560000</td>\n",
       "      <td>15.000000</td>\n",
       "      <td>64300.000000</td>\n",
       "      <td>962.000000</td>\n",
       "      <td>12.000000</td>\n",
       "      <td>19.000000</td>\n",
       "      <td>65020.000000</td>\n",
       "      <td>10.000000</td>\n",
       "      <td>220.000000</td>\n",
       "      <td>13291.000000</td>\n",
       "    </tr>\n",
       "  </tbody>\n",
       "</table>\n",
       "</div>"
      ],
      "text/plain": [
       "           bldgarea    bldgdepth     builtfar     facilfar       lotarea     lotdepth     numbldgs    numfloors       resarea     residfar          age         count\n",
       "count   4415.000000  4415.000000  4415.000000  4415.000000   4415.000000  4415.000000  4415.000000  4415.000000   4415.000000  4415.000000  4415.000000   4415.000000\n",
       "mean    5045.138618    53.534297     2.063108     3.642559   2486.385730    97.277619     1.066591     3.160815   4377.229672     2.777178   124.306682    164.407022\n",
       "std     6281.452795    17.108341     1.159838     1.961428   2570.764718    22.746662     0.349257     1.234769   5964.150780     1.693882    31.312957    449.055041\n",
       "min      400.000000     1.000000     0.080000     1.000000    375.000000    16.000000     1.000000     1.000000    350.000000     0.500000     1.000000      1.000000\n",
       "25%     2607.000000    45.000000     1.350000     2.000000   1751.000000    95.000000     1.000000     2.000000   2008.000000     2.000000   113.000000      4.000000\n",
       "50%     3432.000000    50.000000     1.800000     3.000000   2000.000000   100.000000     1.000000     3.000000   2748.000000     2.430000   127.000000     24.000000\n",
       "75%     4942.000000    60.000000     2.555000     4.800000   2380.000000   100.440000     1.000000     4.000000   4342.000000     3.440000   139.000000    146.000000\n",
       "max    65020.000000   200.000000    12.560000    15.000000  64300.000000   962.000000    12.000000    19.000000  65020.000000    10.000000   220.000000  13291.000000"
      ]
     },
     "execution_count": 5,
     "metadata": {},
     "output_type": "execute_result"
    }
   ],
   "source": [
    "df.describe(include='all')"
   ]
  },
  {
   "cell_type": "code",
   "execution_count": 6,
   "metadata": {},
   "outputs": [
    {
     "data": {
      "text/plain": [
       "(4415, 12)"
      ]
     },
     "execution_count": 6,
     "metadata": {},
     "output_type": "execute_result"
    }
   ],
   "source": [
    "df.shape"
   ]
  },
  {
   "cell_type": "code",
   "execution_count": 7,
   "metadata": {},
   "outputs": [
    {
     "data": {
      "text/plain": [
       "Index(['bldgarea', 'bldgdepth', 'builtfar', 'facilfar', 'lotarea', 'lotdepth', 'numbldgs', 'numfloors', 'resarea', 'residfar', 'age', 'count'], dtype='object')"
      ]
     },
     "execution_count": 7,
     "metadata": {},
     "output_type": "execute_result"
    }
   ],
   "source": [
    "df.columns"
   ]
  },
  {
   "cell_type": "markdown",
   "metadata": {},
   "source": [
    "### Treat Duplicate Values"
   ]
  },
  {
   "cell_type": "code",
   "execution_count": 8,
   "metadata": {},
   "outputs": [
    {
     "data": {
      "text/plain": [
       "26"
      ]
     },
     "execution_count": 8,
     "metadata": {},
     "output_type": "execute_result"
    }
   ],
   "source": [
    "df.duplicated(keep='first').sum()"
   ]
  },
  {
   "cell_type": "code",
   "execution_count": 9,
   "metadata": {},
   "outputs": [
    {
     "data": {
      "text/html": [
       "<div>\n",
       "<style scoped>\n",
       "    .dataframe tbody tr th:only-of-type {\n",
       "        vertical-align: middle;\n",
       "    }\n",
       "\n",
       "    .dataframe tbody tr th {\n",
       "        vertical-align: top;\n",
       "    }\n",
       "\n",
       "    .dataframe thead th {\n",
       "        text-align: right;\n",
       "    }\n",
       "</style>\n",
       "<table border=\"1\" class=\"dataframe\">\n",
       "  <thead>\n",
       "    <tr style=\"text-align: right;\">\n",
       "      <th></th>\n",
       "      <th>bldgarea</th>\n",
       "      <th>bldgdepth</th>\n",
       "      <th>builtfar</th>\n",
       "      <th>facilfar</th>\n",
       "      <th>lotarea</th>\n",
       "      <th>lotdepth</th>\n",
       "      <th>numbldgs</th>\n",
       "      <th>numfloors</th>\n",
       "      <th>resarea</th>\n",
       "      <th>residfar</th>\n",
       "      <th>age</th>\n",
       "      <th>count</th>\n",
       "    </tr>\n",
       "  </thead>\n",
       "  <tbody>\n",
       "    <tr>\n",
       "      <th>724</th>\n",
       "      <td>2016.0</td>\n",
       "      <td>32.0</td>\n",
       "      <td>1.30</td>\n",
       "      <td>3.0</td>\n",
       "      <td>1550.0</td>\n",
       "      <td>77.50</td>\n",
       "      <td>1</td>\n",
       "      <td>2</td>\n",
       "      <td>1328.0</td>\n",
       "      <td>3.00</td>\n",
       "      <td>121</td>\n",
       "      <td>1</td>\n",
       "    </tr>\n",
       "    <tr>\n",
       "      <th>738</th>\n",
       "      <td>2016.0</td>\n",
       "      <td>32.0</td>\n",
       "      <td>1.30</td>\n",
       "      <td>3.0</td>\n",
       "      <td>1550.0</td>\n",
       "      <td>77.50</td>\n",
       "      <td>1</td>\n",
       "      <td>2</td>\n",
       "      <td>1328.0</td>\n",
       "      <td>3.00</td>\n",
       "      <td>121</td>\n",
       "      <td>1</td>\n",
       "    </tr>\n",
       "    <tr>\n",
       "      <th>1555</th>\n",
       "      <td>3400.0</td>\n",
       "      <td>50.0</td>\n",
       "      <td>2.00</td>\n",
       "      <td>6.5</td>\n",
       "      <td>1699.0</td>\n",
       "      <td>99.94</td>\n",
       "      <td>1</td>\n",
       "      <td>3</td>\n",
       "      <td>2550.0</td>\n",
       "      <td>3.44</td>\n",
       "      <td>132</td>\n",
       "      <td>1</td>\n",
       "    </tr>\n",
       "    <tr>\n",
       "      <th>1560</th>\n",
       "      <td>3400.0</td>\n",
       "      <td>50.0</td>\n",
       "      <td>2.00</td>\n",
       "      <td>6.5</td>\n",
       "      <td>1699.0</td>\n",
       "      <td>99.94</td>\n",
       "      <td>1</td>\n",
       "      <td>3</td>\n",
       "      <td>2550.0</td>\n",
       "      <td>3.44</td>\n",
       "      <td>132</td>\n",
       "      <td>1</td>\n",
       "    </tr>\n",
       "    <tr>\n",
       "      <th>2492</th>\n",
       "      <td>2820.0</td>\n",
       "      <td>45.0</td>\n",
       "      <td>1.41</td>\n",
       "      <td>2.0</td>\n",
       "      <td>2003.0</td>\n",
       "      <td>100.20</td>\n",
       "      <td>1</td>\n",
       "      <td>2</td>\n",
       "      <td>1880.0</td>\n",
       "      <td>2.00</td>\n",
       "      <td>122</td>\n",
       "      <td>1</td>\n",
       "    </tr>\n",
       "    <tr>\n",
       "      <th>2493</th>\n",
       "      <td>2820.0</td>\n",
       "      <td>45.0</td>\n",
       "      <td>1.41</td>\n",
       "      <td>2.0</td>\n",
       "      <td>2003.0</td>\n",
       "      <td>100.20</td>\n",
       "      <td>1</td>\n",
       "      <td>2</td>\n",
       "      <td>1880.0</td>\n",
       "      <td>2.00</td>\n",
       "      <td>122</td>\n",
       "      <td>1</td>\n",
       "    </tr>\n",
       "    <tr>\n",
       "      <th>2563</th>\n",
       "      <td>3074.0</td>\n",
       "      <td>50.0</td>\n",
       "      <td>1.53</td>\n",
       "      <td>2.0</td>\n",
       "      <td>2003.0</td>\n",
       "      <td>100.20</td>\n",
       "      <td>1</td>\n",
       "      <td>2</td>\n",
       "      <td>2009.0</td>\n",
       "      <td>2.00</td>\n",
       "      <td>126</td>\n",
       "      <td>7</td>\n",
       "    </tr>\n",
       "    <tr>\n",
       "      <th>2564</th>\n",
       "      <td>3074.0</td>\n",
       "      <td>50.0</td>\n",
       "      <td>1.53</td>\n",
       "      <td>2.0</td>\n",
       "      <td>2003.0</td>\n",
       "      <td>100.20</td>\n",
       "      <td>1</td>\n",
       "      <td>2</td>\n",
       "      <td>2009.0</td>\n",
       "      <td>2.00</td>\n",
       "      <td>126</td>\n",
       "      <td>7</td>\n",
       "    </tr>\n",
       "    <tr>\n",
       "      <th>2622</th>\n",
       "      <td>3600.0</td>\n",
       "      <td>45.0</td>\n",
       "      <td>1.80</td>\n",
       "      <td>2.0</td>\n",
       "      <td>2000.0</td>\n",
       "      <td>100.00</td>\n",
       "      <td>1</td>\n",
       "      <td>3</td>\n",
       "      <td>2700.0</td>\n",
       "      <td>2.00</td>\n",
       "      <td>140</td>\n",
       "      <td>8</td>\n",
       "    </tr>\n",
       "    <tr>\n",
       "      <th>2698</th>\n",
       "      <td>3600.0</td>\n",
       "      <td>45.0</td>\n",
       "      <td>1.80</td>\n",
       "      <td>3.0</td>\n",
       "      <td>2000.0</td>\n",
       "      <td>100.00</td>\n",
       "      <td>1</td>\n",
       "      <td>3</td>\n",
       "      <td>3600.0</td>\n",
       "      <td>3.00</td>\n",
       "      <td>139</td>\n",
       "      <td>6</td>\n",
       "    </tr>\n",
       "    <tr>\n",
       "      <th>2705</th>\n",
       "      <td>3600.0</td>\n",
       "      <td>45.0</td>\n",
       "      <td>1.80</td>\n",
       "      <td>3.0</td>\n",
       "      <td>2000.0</td>\n",
       "      <td>100.00</td>\n",
       "      <td>1</td>\n",
       "      <td>3</td>\n",
       "      <td>3600.0</td>\n",
       "      <td>3.00</td>\n",
       "      <td>139</td>\n",
       "      <td>6</td>\n",
       "    </tr>\n",
       "    <tr>\n",
       "      <th>2868</th>\n",
       "      <td>3840.0</td>\n",
       "      <td>45.0</td>\n",
       "      <td>1.92</td>\n",
       "      <td>2.0</td>\n",
       "      <td>2000.0</td>\n",
       "      <td>100.00</td>\n",
       "      <td>1</td>\n",
       "      <td>3</td>\n",
       "      <td>2820.0</td>\n",
       "      <td>2.00</td>\n",
       "      <td>122</td>\n",
       "      <td>1</td>\n",
       "    </tr>\n",
       "    <tr>\n",
       "      <th>2876</th>\n",
       "      <td>3840.0</td>\n",
       "      <td>45.0</td>\n",
       "      <td>1.92</td>\n",
       "      <td>2.0</td>\n",
       "      <td>2000.0</td>\n",
       "      <td>100.00</td>\n",
       "      <td>1</td>\n",
       "      <td>3</td>\n",
       "      <td>2820.0</td>\n",
       "      <td>2.00</td>\n",
       "      <td>122</td>\n",
       "      <td>1</td>\n",
       "    </tr>\n",
       "    <tr>\n",
       "      <th>2904</th>\n",
       "      <td>7790.0</td>\n",
       "      <td>70.0</td>\n",
       "      <td>2.41</td>\n",
       "      <td>3.0</td>\n",
       "      <td>3230.0</td>\n",
       "      <td>95.00</td>\n",
       "      <td>1</td>\n",
       "      <td>4</td>\n",
       "      <td>7790.0</td>\n",
       "      <td>3.00</td>\n",
       "      <td>111</td>\n",
       "      <td>2</td>\n",
       "    </tr>\n",
       "    <tr>\n",
       "      <th>2906</th>\n",
       "      <td>7790.0</td>\n",
       "      <td>70.0</td>\n",
       "      <td>2.41</td>\n",
       "      <td>3.0</td>\n",
       "      <td>3230.0</td>\n",
       "      <td>95.00</td>\n",
       "      <td>1</td>\n",
       "      <td>4</td>\n",
       "      <td>7790.0</td>\n",
       "      <td>3.00</td>\n",
       "      <td>111</td>\n",
       "      <td>2</td>\n",
       "    </tr>\n",
       "    <tr>\n",
       "      <th>2939</th>\n",
       "      <td>2712.0</td>\n",
       "      <td>48.0</td>\n",
       "      <td>1.68</td>\n",
       "      <td>3.0</td>\n",
       "      <td>1615.0</td>\n",
       "      <td>95.00</td>\n",
       "      <td>1</td>\n",
       "      <td>3</td>\n",
       "      <td>2712.0</td>\n",
       "      <td>3.00</td>\n",
       "      <td>112</td>\n",
       "      <td>2</td>\n",
       "    </tr>\n",
       "    <tr>\n",
       "      <th>2940</th>\n",
       "      <td>2712.0</td>\n",
       "      <td>48.0</td>\n",
       "      <td>1.68</td>\n",
       "      <td>3.0</td>\n",
       "      <td>1615.0</td>\n",
       "      <td>95.00</td>\n",
       "      <td>1</td>\n",
       "      <td>3</td>\n",
       "      <td>2712.0</td>\n",
       "      <td>3.00</td>\n",
       "      <td>112</td>\n",
       "      <td>2</td>\n",
       "    </tr>\n",
       "    <tr>\n",
       "      <th>3006</th>\n",
       "      <td>4800.0</td>\n",
       "      <td>60.0</td>\n",
       "      <td>3.00</td>\n",
       "      <td>3.0</td>\n",
       "      <td>1600.0</td>\n",
       "      <td>80.00</td>\n",
       "      <td>1</td>\n",
       "      <td>4</td>\n",
       "      <td>3600.0</td>\n",
       "      <td>3.00</td>\n",
       "      <td>132</td>\n",
       "      <td>2</td>\n",
       "    </tr>\n",
       "    <tr>\n",
       "      <th>3007</th>\n",
       "      <td>4800.0</td>\n",
       "      <td>60.0</td>\n",
       "      <td>3.00</td>\n",
       "      <td>3.0</td>\n",
       "      <td>1600.0</td>\n",
       "      <td>80.00</td>\n",
       "      <td>1</td>\n",
       "      <td>4</td>\n",
       "      <td>3600.0</td>\n",
       "      <td>3.00</td>\n",
       "      <td>132</td>\n",
       "      <td>2</td>\n",
       "    </tr>\n",
       "    <tr>\n",
       "      <th>3013</th>\n",
       "      <td>2296.0</td>\n",
       "      <td>45.0</td>\n",
       "      <td>1.32</td>\n",
       "      <td>2.0</td>\n",
       "      <td>1733.0</td>\n",
       "      <td>100.00</td>\n",
       "      <td>1</td>\n",
       "      <td>2</td>\n",
       "      <td>1530.0</td>\n",
       "      <td>2.00</td>\n",
       "      <td>136</td>\n",
       "      <td>2</td>\n",
       "    </tr>\n",
       "    <tr>\n",
       "      <th>3038</th>\n",
       "      <td>2296.0</td>\n",
       "      <td>45.0</td>\n",
       "      <td>1.32</td>\n",
       "      <td>2.0</td>\n",
       "      <td>1733.0</td>\n",
       "      <td>100.00</td>\n",
       "      <td>1</td>\n",
       "      <td>2</td>\n",
       "      <td>1530.0</td>\n",
       "      <td>2.00</td>\n",
       "      <td>136</td>\n",
       "      <td>2</td>\n",
       "    </tr>\n",
       "    <tr>\n",
       "      <th>3042</th>\n",
       "      <td>3060.0</td>\n",
       "      <td>45.0</td>\n",
       "      <td>1.80</td>\n",
       "      <td>2.0</td>\n",
       "      <td>1700.0</td>\n",
       "      <td>100.00</td>\n",
       "      <td>1</td>\n",
       "      <td>3</td>\n",
       "      <td>2296.0</td>\n",
       "      <td>2.00</td>\n",
       "      <td>134</td>\n",
       "      <td>2</td>\n",
       "    </tr>\n",
       "    <tr>\n",
       "      <th>3049</th>\n",
       "      <td>3060.0</td>\n",
       "      <td>45.0</td>\n",
       "      <td>1.80</td>\n",
       "      <td>2.0</td>\n",
       "      <td>1700.0</td>\n",
       "      <td>100.00</td>\n",
       "      <td>1</td>\n",
       "      <td>3</td>\n",
       "      <td>2296.0</td>\n",
       "      <td>2.00</td>\n",
       "      <td>134</td>\n",
       "      <td>2</td>\n",
       "    </tr>\n",
       "    <tr>\n",
       "      <th>3117</th>\n",
       "      <td>2700.0</td>\n",
       "      <td>45.0</td>\n",
       "      <td>1.35</td>\n",
       "      <td>2.0</td>\n",
       "      <td>2000.0</td>\n",
       "      <td>100.00</td>\n",
       "      <td>1</td>\n",
       "      <td>3</td>\n",
       "      <td>2700.0</td>\n",
       "      <td>2.00</td>\n",
       "      <td>131</td>\n",
       "      <td>1</td>\n",
       "    </tr>\n",
       "    <tr>\n",
       "      <th>3202</th>\n",
       "      <td>2870.0</td>\n",
       "      <td>45.0</td>\n",
       "      <td>1.44</td>\n",
       "      <td>2.0</td>\n",
       "      <td>2000.0</td>\n",
       "      <td>100.00</td>\n",
       "      <td>1</td>\n",
       "      <td>2</td>\n",
       "      <td>1905.0</td>\n",
       "      <td>2.00</td>\n",
       "      <td>124</td>\n",
       "      <td>1</td>\n",
       "    </tr>\n",
       "    <tr>\n",
       "      <th>3209</th>\n",
       "      <td>2870.0</td>\n",
       "      <td>45.0</td>\n",
       "      <td>1.44</td>\n",
       "      <td>2.0</td>\n",
       "      <td>2000.0</td>\n",
       "      <td>100.00</td>\n",
       "      <td>1</td>\n",
       "      <td>2</td>\n",
       "      <td>1905.0</td>\n",
       "      <td>2.00</td>\n",
       "      <td>124</td>\n",
       "      <td>1</td>\n",
       "    </tr>\n",
       "    <tr>\n",
       "      <th>3230</th>\n",
       "      <td>3600.0</td>\n",
       "      <td>45.0</td>\n",
       "      <td>1.80</td>\n",
       "      <td>2.0</td>\n",
       "      <td>2000.0</td>\n",
       "      <td>100.00</td>\n",
       "      <td>1</td>\n",
       "      <td>3</td>\n",
       "      <td>2700.0</td>\n",
       "      <td>2.00</td>\n",
       "      <td>140</td>\n",
       "      <td>8</td>\n",
       "    </tr>\n",
       "    <tr>\n",
       "      <th>3311</th>\n",
       "      <td>1760.0</td>\n",
       "      <td>40.0</td>\n",
       "      <td>0.88</td>\n",
       "      <td>2.0</td>\n",
       "      <td>2000.0</td>\n",
       "      <td>100.00</td>\n",
       "      <td>2</td>\n",
       "      <td>2</td>\n",
       "      <td>1760.0</td>\n",
       "      <td>0.75</td>\n",
       "      <td>95</td>\n",
       "      <td>4</td>\n",
       "    </tr>\n",
       "    <tr>\n",
       "      <th>3333</th>\n",
       "      <td>1760.0</td>\n",
       "      <td>40.0</td>\n",
       "      <td>0.88</td>\n",
       "      <td>2.0</td>\n",
       "      <td>2000.0</td>\n",
       "      <td>100.00</td>\n",
       "      <td>2</td>\n",
       "      <td>2</td>\n",
       "      <td>1760.0</td>\n",
       "      <td>0.75</td>\n",
       "      <td>95</td>\n",
       "      <td>4</td>\n",
       "    </tr>\n",
       "    <tr>\n",
       "      <th>3357</th>\n",
       "      <td>2430.0</td>\n",
       "      <td>45.0</td>\n",
       "      <td>1.03</td>\n",
       "      <td>2.0</td>\n",
       "      <td>2358.0</td>\n",
       "      <td>131.00</td>\n",
       "      <td>1</td>\n",
       "      <td>2</td>\n",
       "      <td>1620.0</td>\n",
       "      <td>2.00</td>\n",
       "      <td>128</td>\n",
       "      <td>1</td>\n",
       "    </tr>\n",
       "    <tr>\n",
       "      <th>3369</th>\n",
       "      <td>2430.0</td>\n",
       "      <td>45.0</td>\n",
       "      <td>1.03</td>\n",
       "      <td>2.0</td>\n",
       "      <td>2358.0</td>\n",
       "      <td>131.00</td>\n",
       "      <td>1</td>\n",
       "      <td>2</td>\n",
       "      <td>1620.0</td>\n",
       "      <td>2.00</td>\n",
       "      <td>128</td>\n",
       "      <td>1</td>\n",
       "    </tr>\n",
       "    <tr>\n",
       "      <th>3429</th>\n",
       "      <td>2590.0</td>\n",
       "      <td>45.0</td>\n",
       "      <td>1.09</td>\n",
       "      <td>2.0</td>\n",
       "      <td>2380.0</td>\n",
       "      <td>131.00</td>\n",
       "      <td>1</td>\n",
       "      <td>2</td>\n",
       "      <td>1700.0</td>\n",
       "      <td>2.00</td>\n",
       "      <td>126</td>\n",
       "      <td>1</td>\n",
       "    </tr>\n",
       "    <tr>\n",
       "      <th>3434</th>\n",
       "      <td>2590.0</td>\n",
       "      <td>45.0</td>\n",
       "      <td>1.09</td>\n",
       "      <td>2.0</td>\n",
       "      <td>2380.0</td>\n",
       "      <td>131.00</td>\n",
       "      <td>1</td>\n",
       "      <td>2</td>\n",
       "      <td>1700.0</td>\n",
       "      <td>2.00</td>\n",
       "      <td>126</td>\n",
       "      <td>1</td>\n",
       "    </tr>\n",
       "    <tr>\n",
       "      <th>3465</th>\n",
       "      <td>3100.0</td>\n",
       "      <td>38.0</td>\n",
       "      <td>1.45</td>\n",
       "      <td>4.8</td>\n",
       "      <td>2144.0</td>\n",
       "      <td>107.20</td>\n",
       "      <td>1</td>\n",
       "      <td>3</td>\n",
       "      <td>2310.0</td>\n",
       "      <td>2.43</td>\n",
       "      <td>145</td>\n",
       "      <td>1</td>\n",
       "    </tr>\n",
       "    <tr>\n",
       "      <th>3472</th>\n",
       "      <td>3100.0</td>\n",
       "      <td>38.0</td>\n",
       "      <td>1.45</td>\n",
       "      <td>4.8</td>\n",
       "      <td>2144.0</td>\n",
       "      <td>107.20</td>\n",
       "      <td>1</td>\n",
       "      <td>3</td>\n",
       "      <td>2310.0</td>\n",
       "      <td>2.43</td>\n",
       "      <td>145</td>\n",
       "      <td>1</td>\n",
       "    </tr>\n",
       "    <tr>\n",
       "      <th>3537</th>\n",
       "      <td>3080.0</td>\n",
       "      <td>45.0</td>\n",
       "      <td>1.72</td>\n",
       "      <td>4.8</td>\n",
       "      <td>1786.0</td>\n",
       "      <td>107.20</td>\n",
       "      <td>1</td>\n",
       "      <td>3</td>\n",
       "      <td>2260.0</td>\n",
       "      <td>2.43</td>\n",
       "      <td>132</td>\n",
       "      <td>27</td>\n",
       "    </tr>\n",
       "    <tr>\n",
       "      <th>3553</th>\n",
       "      <td>3080.0</td>\n",
       "      <td>45.0</td>\n",
       "      <td>1.72</td>\n",
       "      <td>4.8</td>\n",
       "      <td>1786.0</td>\n",
       "      <td>107.20</td>\n",
       "      <td>1</td>\n",
       "      <td>3</td>\n",
       "      <td>2260.0</td>\n",
       "      <td>2.43</td>\n",
       "      <td>132</td>\n",
       "      <td>27</td>\n",
       "    </tr>\n",
       "    <tr>\n",
       "      <th>3568</th>\n",
       "      <td>2670.0</td>\n",
       "      <td>45.0</td>\n",
       "      <td>1.59</td>\n",
       "      <td>4.8</td>\n",
       "      <td>1674.0</td>\n",
       "      <td>93.00</td>\n",
       "      <td>1</td>\n",
       "      <td>2</td>\n",
       "      <td>1740.0</td>\n",
       "      <td>2.43</td>\n",
       "      <td>123</td>\n",
       "      <td>2</td>\n",
       "    </tr>\n",
       "    <tr>\n",
       "      <th>3577</th>\n",
       "      <td>2670.0</td>\n",
       "      <td>45.0</td>\n",
       "      <td>1.59</td>\n",
       "      <td>4.8</td>\n",
       "      <td>1674.0</td>\n",
       "      <td>93.00</td>\n",
       "      <td>1</td>\n",
       "      <td>2</td>\n",
       "      <td>1740.0</td>\n",
       "      <td>2.43</td>\n",
       "      <td>123</td>\n",
       "      <td>2</td>\n",
       "    </tr>\n",
       "    <tr>\n",
       "      <th>3613</th>\n",
       "      <td>3448.0</td>\n",
       "      <td>45.0</td>\n",
       "      <td>1.84</td>\n",
       "      <td>4.8</td>\n",
       "      <td>1875.0</td>\n",
       "      <td>100.00</td>\n",
       "      <td>1</td>\n",
       "      <td>3</td>\n",
       "      <td>2542.0</td>\n",
       "      <td>2.43</td>\n",
       "      <td>125</td>\n",
       "      <td>1</td>\n",
       "    </tr>\n",
       "    <tr>\n",
       "      <th>3619</th>\n",
       "      <td>3448.0</td>\n",
       "      <td>45.0</td>\n",
       "      <td>1.84</td>\n",
       "      <td>4.8</td>\n",
       "      <td>1875.0</td>\n",
       "      <td>100.00</td>\n",
       "      <td>1</td>\n",
       "      <td>3</td>\n",
       "      <td>2542.0</td>\n",
       "      <td>2.43</td>\n",
       "      <td>125</td>\n",
       "      <td>1</td>\n",
       "    </tr>\n",
       "    <tr>\n",
       "      <th>3720</th>\n",
       "      <td>2388.0</td>\n",
       "      <td>42.0</td>\n",
       "      <td>1.27</td>\n",
       "      <td>4.8</td>\n",
       "      <td>1875.0</td>\n",
       "      <td>100.00</td>\n",
       "      <td>1</td>\n",
       "      <td>2</td>\n",
       "      <td>1584.0</td>\n",
       "      <td>2.43</td>\n",
       "      <td>131</td>\n",
       "      <td>1</td>\n",
       "    </tr>\n",
       "    <tr>\n",
       "      <th>3727</th>\n",
       "      <td>2388.0</td>\n",
       "      <td>42.0</td>\n",
       "      <td>1.27</td>\n",
       "      <td>4.8</td>\n",
       "      <td>1875.0</td>\n",
       "      <td>100.00</td>\n",
       "      <td>1</td>\n",
       "      <td>2</td>\n",
       "      <td>1584.0</td>\n",
       "      <td>2.43</td>\n",
       "      <td>131</td>\n",
       "      <td>1</td>\n",
       "    </tr>\n",
       "    <tr>\n",
       "      <th>3867</th>\n",
       "      <td>2128.0</td>\n",
       "      <td>52.0</td>\n",
       "      <td>1.06</td>\n",
       "      <td>2.0</td>\n",
       "      <td>2000.0</td>\n",
       "      <td>100.00</td>\n",
       "      <td>1</td>\n",
       "      <td>2</td>\n",
       "      <td>2128.0</td>\n",
       "      <td>1.25</td>\n",
       "      <td>109</td>\n",
       "      <td>1</td>\n",
       "    </tr>\n",
       "    <tr>\n",
       "      <th>3870</th>\n",
       "      <td>2128.0</td>\n",
       "      <td>52.0</td>\n",
       "      <td>1.06</td>\n",
       "      <td>2.0</td>\n",
       "      <td>2000.0</td>\n",
       "      <td>100.00</td>\n",
       "      <td>1</td>\n",
       "      <td>2</td>\n",
       "      <td>2128.0</td>\n",
       "      <td>1.25</td>\n",
       "      <td>109</td>\n",
       "      <td>1</td>\n",
       "    </tr>\n",
       "    <tr>\n",
       "      <th>3876</th>\n",
       "      <td>1680.0</td>\n",
       "      <td>40.0</td>\n",
       "      <td>0.84</td>\n",
       "      <td>4.8</td>\n",
       "      <td>2000.0</td>\n",
       "      <td>100.00</td>\n",
       "      <td>1</td>\n",
       "      <td>2</td>\n",
       "      <td>1680.0</td>\n",
       "      <td>3.44</td>\n",
       "      <td>111</td>\n",
       "      <td>1</td>\n",
       "    </tr>\n",
       "    <tr>\n",
       "      <th>3883</th>\n",
       "      <td>1680.0</td>\n",
       "      <td>40.0</td>\n",
       "      <td>0.84</td>\n",
       "      <td>4.8</td>\n",
       "      <td>2000.0</td>\n",
       "      <td>100.00</td>\n",
       "      <td>1</td>\n",
       "      <td>2</td>\n",
       "      <td>1680.0</td>\n",
       "      <td>3.44</td>\n",
       "      <td>111</td>\n",
       "      <td>1</td>\n",
       "    </tr>\n",
       "    <tr>\n",
       "      <th>3892</th>\n",
       "      <td>5400.0</td>\n",
       "      <td>72.0</td>\n",
       "      <td>2.03</td>\n",
       "      <td>2.0</td>\n",
       "      <td>2664.0</td>\n",
       "      <td>106.50</td>\n",
       "      <td>1</td>\n",
       "      <td>3</td>\n",
       "      <td>5400.0</td>\n",
       "      <td>1.25</td>\n",
       "      <td>113</td>\n",
       "      <td>1</td>\n",
       "    </tr>\n",
       "    <tr>\n",
       "      <th>3913</th>\n",
       "      <td>5400.0</td>\n",
       "      <td>72.0</td>\n",
       "      <td>2.03</td>\n",
       "      <td>2.0</td>\n",
       "      <td>2664.0</td>\n",
       "      <td>106.50</td>\n",
       "      <td>1</td>\n",
       "      <td>3</td>\n",
       "      <td>5400.0</td>\n",
       "      <td>1.25</td>\n",
       "      <td>113</td>\n",
       "      <td>1</td>\n",
       "    </tr>\n",
       "    <tr>\n",
       "      <th>4050</th>\n",
       "      <td>2700.0</td>\n",
       "      <td>45.0</td>\n",
       "      <td>1.35</td>\n",
       "      <td>2.0</td>\n",
       "      <td>2000.0</td>\n",
       "      <td>100.00</td>\n",
       "      <td>1</td>\n",
       "      <td>3</td>\n",
       "      <td>2700.0</td>\n",
       "      <td>2.00</td>\n",
       "      <td>131</td>\n",
       "      <td>1</td>\n",
       "    </tr>\n",
       "    <tr>\n",
       "      <th>4341</th>\n",
       "      <td>3600.0</td>\n",
       "      <td>45.0</td>\n",
       "      <td>1.80</td>\n",
       "      <td>2.0</td>\n",
       "      <td>2000.0</td>\n",
       "      <td>100.00</td>\n",
       "      <td>1</td>\n",
       "      <td>3</td>\n",
       "      <td>2700.0</td>\n",
       "      <td>2.00</td>\n",
       "      <td>128</td>\n",
       "      <td>1</td>\n",
       "    </tr>\n",
       "    <tr>\n",
       "      <th>4363</th>\n",
       "      <td>3600.0</td>\n",
       "      <td>45.0</td>\n",
       "      <td>1.80</td>\n",
       "      <td>2.0</td>\n",
       "      <td>2000.0</td>\n",
       "      <td>100.00</td>\n",
       "      <td>1</td>\n",
       "      <td>3</td>\n",
       "      <td>2700.0</td>\n",
       "      <td>2.00</td>\n",
       "      <td>128</td>\n",
       "      <td>1</td>\n",
       "    </tr>\n",
       "  </tbody>\n",
       "</table>\n",
       "</div>"
      ],
      "text/plain": [
       "      bldgarea  bldgdepth  builtfar  facilfar  lotarea  lotdepth  numbldgs  numfloors  resarea  residfar  age  count\n",
       "724     2016.0       32.0      1.30       3.0   1550.0     77.50         1          2   1328.0      3.00  121      1\n",
       "738     2016.0       32.0      1.30       3.0   1550.0     77.50         1          2   1328.0      3.00  121      1\n",
       "1555    3400.0       50.0      2.00       6.5   1699.0     99.94         1          3   2550.0      3.44  132      1\n",
       "1560    3400.0       50.0      2.00       6.5   1699.0     99.94         1          3   2550.0      3.44  132      1\n",
       "2492    2820.0       45.0      1.41       2.0   2003.0    100.20         1          2   1880.0      2.00  122      1\n",
       "2493    2820.0       45.0      1.41       2.0   2003.0    100.20         1          2   1880.0      2.00  122      1\n",
       "2563    3074.0       50.0      1.53       2.0   2003.0    100.20         1          2   2009.0      2.00  126      7\n",
       "2564    3074.0       50.0      1.53       2.0   2003.0    100.20         1          2   2009.0      2.00  126      7\n",
       "2622    3600.0       45.0      1.80       2.0   2000.0    100.00         1          3   2700.0      2.00  140      8\n",
       "2698    3600.0       45.0      1.80       3.0   2000.0    100.00         1          3   3600.0      3.00  139      6\n",
       "2705    3600.0       45.0      1.80       3.0   2000.0    100.00         1          3   3600.0      3.00  139      6\n",
       "2868    3840.0       45.0      1.92       2.0   2000.0    100.00         1          3   2820.0      2.00  122      1\n",
       "2876    3840.0       45.0      1.92       2.0   2000.0    100.00         1          3   2820.0      2.00  122      1\n",
       "2904    7790.0       70.0      2.41       3.0   3230.0     95.00         1          4   7790.0      3.00  111      2\n",
       "2906    7790.0       70.0      2.41       3.0   3230.0     95.00         1          4   7790.0      3.00  111      2\n",
       "2939    2712.0       48.0      1.68       3.0   1615.0     95.00         1          3   2712.0      3.00  112      2\n",
       "2940    2712.0       48.0      1.68       3.0   1615.0     95.00         1          3   2712.0      3.00  112      2\n",
       "3006    4800.0       60.0      3.00       3.0   1600.0     80.00         1          4   3600.0      3.00  132      2\n",
       "3007    4800.0       60.0      3.00       3.0   1600.0     80.00         1          4   3600.0      3.00  132      2\n",
       "3013    2296.0       45.0      1.32       2.0   1733.0    100.00         1          2   1530.0      2.00  136      2\n",
       "3038    2296.0       45.0      1.32       2.0   1733.0    100.00         1          2   1530.0      2.00  136      2\n",
       "3042    3060.0       45.0      1.80       2.0   1700.0    100.00         1          3   2296.0      2.00  134      2\n",
       "3049    3060.0       45.0      1.80       2.0   1700.0    100.00         1          3   2296.0      2.00  134      2\n",
       "3117    2700.0       45.0      1.35       2.0   2000.0    100.00         1          3   2700.0      2.00  131      1\n",
       "3202    2870.0       45.0      1.44       2.0   2000.0    100.00         1          2   1905.0      2.00  124      1\n",
       "3209    2870.0       45.0      1.44       2.0   2000.0    100.00         1          2   1905.0      2.00  124      1\n",
       "3230    3600.0       45.0      1.80       2.0   2000.0    100.00         1          3   2700.0      2.00  140      8\n",
       "3311    1760.0       40.0      0.88       2.0   2000.0    100.00         2          2   1760.0      0.75   95      4\n",
       "3333    1760.0       40.0      0.88       2.0   2000.0    100.00         2          2   1760.0      0.75   95      4\n",
       "3357    2430.0       45.0      1.03       2.0   2358.0    131.00         1          2   1620.0      2.00  128      1\n",
       "3369    2430.0       45.0      1.03       2.0   2358.0    131.00         1          2   1620.0      2.00  128      1\n",
       "3429    2590.0       45.0      1.09       2.0   2380.0    131.00         1          2   1700.0      2.00  126      1\n",
       "3434    2590.0       45.0      1.09       2.0   2380.0    131.00         1          2   1700.0      2.00  126      1\n",
       "3465    3100.0       38.0      1.45       4.8   2144.0    107.20         1          3   2310.0      2.43  145      1\n",
       "3472    3100.0       38.0      1.45       4.8   2144.0    107.20         1          3   2310.0      2.43  145      1\n",
       "3537    3080.0       45.0      1.72       4.8   1786.0    107.20         1          3   2260.0      2.43  132     27\n",
       "3553    3080.0       45.0      1.72       4.8   1786.0    107.20         1          3   2260.0      2.43  132     27\n",
       "3568    2670.0       45.0      1.59       4.8   1674.0     93.00         1          2   1740.0      2.43  123      2\n",
       "3577    2670.0       45.0      1.59       4.8   1674.0     93.00         1          2   1740.0      2.43  123      2\n",
       "3613    3448.0       45.0      1.84       4.8   1875.0    100.00         1          3   2542.0      2.43  125      1\n",
       "3619    3448.0       45.0      1.84       4.8   1875.0    100.00         1          3   2542.0      2.43  125      1\n",
       "3720    2388.0       42.0      1.27       4.8   1875.0    100.00         1          2   1584.0      2.43  131      1\n",
       "3727    2388.0       42.0      1.27       4.8   1875.0    100.00         1          2   1584.0      2.43  131      1\n",
       "3867    2128.0       52.0      1.06       2.0   2000.0    100.00         1          2   2128.0      1.25  109      1\n",
       "3870    2128.0       52.0      1.06       2.0   2000.0    100.00         1          2   2128.0      1.25  109      1\n",
       "3876    1680.0       40.0      0.84       4.8   2000.0    100.00         1          2   1680.0      3.44  111      1\n",
       "3883    1680.0       40.0      0.84       4.8   2000.0    100.00         1          2   1680.0      3.44  111      1\n",
       "3892    5400.0       72.0      2.03       2.0   2664.0    106.50         1          3   5400.0      1.25  113      1\n",
       "3913    5400.0       72.0      2.03       2.0   2664.0    106.50         1          3   5400.0      1.25  113      1\n",
       "4050    2700.0       45.0      1.35       2.0   2000.0    100.00         1          3   2700.0      2.00  131      1\n",
       "4341    3600.0       45.0      1.80       2.0   2000.0    100.00         1          3   2700.0      2.00  128      1\n",
       "4363    3600.0       45.0      1.80       2.0   2000.0    100.00         1          3   2700.0      2.00  128      1"
      ]
     },
     "execution_count": 9,
     "metadata": {},
     "output_type": "execute_result"
    }
   ],
   "source": [
    "df[df.duplicated(keep=False)] #Check duplicate values"
   ]
  },
  {
   "cell_type": "code",
   "execution_count": 10,
   "metadata": {},
   "outputs": [],
   "source": [
    "df.drop_duplicates(ignore_index=True, inplace=True)"
   ]
  },
  {
   "cell_type": "code",
   "execution_count": 11,
   "metadata": {},
   "outputs": [
    {
     "data": {
      "text/html": [
       "<div>\n",
       "<style scoped>\n",
       "    .dataframe tbody tr th:only-of-type {\n",
       "        vertical-align: middle;\n",
       "    }\n",
       "\n",
       "    .dataframe tbody tr th {\n",
       "        vertical-align: top;\n",
       "    }\n",
       "\n",
       "    .dataframe thead th {\n",
       "        text-align: right;\n",
       "    }\n",
       "</style>\n",
       "<table border=\"1\" class=\"dataframe\">\n",
       "  <thead>\n",
       "    <tr style=\"text-align: right;\">\n",
       "      <th></th>\n",
       "      <th>bldgarea</th>\n",
       "      <th>bldgdepth</th>\n",
       "      <th>builtfar</th>\n",
       "      <th>facilfar</th>\n",
       "      <th>lotarea</th>\n",
       "      <th>lotdepth</th>\n",
       "      <th>numbldgs</th>\n",
       "      <th>numfloors</th>\n",
       "      <th>resarea</th>\n",
       "      <th>residfar</th>\n",
       "      <th>age</th>\n",
       "      <th>count</th>\n",
       "    </tr>\n",
       "  </thead>\n",
       "  <tbody>\n",
       "    <tr>\n",
       "      <th>0</th>\n",
       "      <td>3478.0</td>\n",
       "      <td>60.0</td>\n",
       "      <td>1.87</td>\n",
       "      <td>2.0</td>\n",
       "      <td>1862.0</td>\n",
       "      <td>100.0</td>\n",
       "      <td>2</td>\n",
       "      <td>3</td>\n",
       "      <td>3478.0</td>\n",
       "      <td>2.00</td>\n",
       "      <td>2</td>\n",
       "      <td>1979</td>\n",
       "    </tr>\n",
       "    <tr>\n",
       "      <th>1</th>\n",
       "      <td>4124.0</td>\n",
       "      <td>55.0</td>\n",
       "      <td>1.65</td>\n",
       "      <td>4.8</td>\n",
       "      <td>2500.0</td>\n",
       "      <td>100.0</td>\n",
       "      <td>1</td>\n",
       "      <td>3</td>\n",
       "      <td>2750.0</td>\n",
       "      <td>2.43</td>\n",
       "      <td>89</td>\n",
       "      <td>17</td>\n",
       "    </tr>\n",
       "    <tr>\n",
       "      <th>2</th>\n",
       "      <td>7416.0</td>\n",
       "      <td>100.0</td>\n",
       "      <td>2.97</td>\n",
       "      <td>3.0</td>\n",
       "      <td>2500.0</td>\n",
       "      <td>100.0</td>\n",
       "      <td>1</td>\n",
       "      <td>5</td>\n",
       "      <td>7036.0</td>\n",
       "      <td>3.00</td>\n",
       "      <td>62</td>\n",
       "      <td>44</td>\n",
       "    </tr>\n",
       "    <tr>\n",
       "      <th>3</th>\n",
       "      <td>2112.0</td>\n",
       "      <td>48.0</td>\n",
       "      <td>0.60</td>\n",
       "      <td>2.0</td>\n",
       "      <td>3500.0</td>\n",
       "      <td>100.0</td>\n",
       "      <td>1</td>\n",
       "      <td>2</td>\n",
       "      <td>2112.0</td>\n",
       "      <td>1.25</td>\n",
       "      <td>89</td>\n",
       "      <td>1101</td>\n",
       "    </tr>\n",
       "    <tr>\n",
       "      <th>4</th>\n",
       "      <td>1540.0</td>\n",
       "      <td>30.0</td>\n",
       "      <td>0.96</td>\n",
       "      <td>4.8</td>\n",
       "      <td>1600.0</td>\n",
       "      <td>80.0</td>\n",
       "      <td>1</td>\n",
       "      <td>2</td>\n",
       "      <td>1540.0</td>\n",
       "      <td>2.43</td>\n",
       "      <td>119</td>\n",
       "      <td>58</td>\n",
       "    </tr>\n",
       "    <tr>\n",
       "      <th>...</th>\n",
       "      <td>...</td>\n",
       "      <td>...</td>\n",
       "      <td>...</td>\n",
       "      <td>...</td>\n",
       "      <td>...</td>\n",
       "      <td>...</td>\n",
       "      <td>...</td>\n",
       "      <td>...</td>\n",
       "      <td>...</td>\n",
       "      <td>...</td>\n",
       "      <td>...</td>\n",
       "      <td>...</td>\n",
       "    </tr>\n",
       "    <tr>\n",
       "      <th>4384</th>\n",
       "      <td>3600.0</td>\n",
       "      <td>45.0</td>\n",
       "      <td>1.80</td>\n",
       "      <td>2.0</td>\n",
       "      <td>2000.0</td>\n",
       "      <td>100.0</td>\n",
       "      <td>1</td>\n",
       "      <td>3</td>\n",
       "      <td>2700.0</td>\n",
       "      <td>2.00</td>\n",
       "      <td>129</td>\n",
       "      <td>1</td>\n",
       "    </tr>\n",
       "    <tr>\n",
       "      <th>4385</th>\n",
       "      <td>3600.0</td>\n",
       "      <td>45.0</td>\n",
       "      <td>1.80</td>\n",
       "      <td>2.0</td>\n",
       "      <td>2000.0</td>\n",
       "      <td>100.0</td>\n",
       "      <td>1</td>\n",
       "      <td>4</td>\n",
       "      <td>3600.0</td>\n",
       "      <td>2.00</td>\n",
       "      <td>140</td>\n",
       "      <td>264</td>\n",
       "    </tr>\n",
       "    <tr>\n",
       "      <th>4386</th>\n",
       "      <td>3720.0</td>\n",
       "      <td>42.0</td>\n",
       "      <td>1.86</td>\n",
       "      <td>2.0</td>\n",
       "      <td>2000.0</td>\n",
       "      <td>100.0</td>\n",
       "      <td>1</td>\n",
       "      <td>3</td>\n",
       "      <td>2716.0</td>\n",
       "      <td>2.00</td>\n",
       "      <td>135</td>\n",
       "      <td>1</td>\n",
       "    </tr>\n",
       "    <tr>\n",
       "      <th>4387</th>\n",
       "      <td>3600.0</td>\n",
       "      <td>45.0</td>\n",
       "      <td>1.80</td>\n",
       "      <td>2.0</td>\n",
       "      <td>2000.0</td>\n",
       "      <td>100.0</td>\n",
       "      <td>1</td>\n",
       "      <td>3</td>\n",
       "      <td>2700.0</td>\n",
       "      <td>2.00</td>\n",
       "      <td>140</td>\n",
       "      <td>2</td>\n",
       "    </tr>\n",
       "    <tr>\n",
       "      <th>4388</th>\n",
       "      <td>2960.0</td>\n",
       "      <td>40.0</td>\n",
       "      <td>1.60</td>\n",
       "      <td>2.0</td>\n",
       "      <td>1850.0</td>\n",
       "      <td>100.0</td>\n",
       "      <td>1</td>\n",
       "      <td>3</td>\n",
       "      <td>2220.0</td>\n",
       "      <td>2.00</td>\n",
       "      <td>127</td>\n",
       "      <td>4</td>\n",
       "    </tr>\n",
       "  </tbody>\n",
       "</table>\n",
       "<p>4389 rows × 12 columns</p>\n",
       "</div>"
      ],
      "text/plain": [
       "      bldgarea  bldgdepth  builtfar  facilfar  lotarea  lotdepth  numbldgs  numfloors  resarea  residfar  age  count\n",
       "0       3478.0       60.0      1.87       2.0   1862.0     100.0         2          3   3478.0      2.00    2   1979\n",
       "1       4124.0       55.0      1.65       4.8   2500.0     100.0         1          3   2750.0      2.43   89     17\n",
       "2       7416.0      100.0      2.97       3.0   2500.0     100.0         1          5   7036.0      3.00   62     44\n",
       "3       2112.0       48.0      0.60       2.0   3500.0     100.0         1          2   2112.0      1.25   89   1101\n",
       "4       1540.0       30.0      0.96       4.8   1600.0      80.0         1          2   1540.0      2.43  119     58\n",
       "...        ...        ...       ...       ...      ...       ...       ...        ...      ...       ...  ...    ...\n",
       "4384    3600.0       45.0      1.80       2.0   2000.0     100.0         1          3   2700.0      2.00  129      1\n",
       "4385    3600.0       45.0      1.80       2.0   2000.0     100.0         1          4   3600.0      2.00  140    264\n",
       "4386    3720.0       42.0      1.86       2.0   2000.0     100.0         1          3   2716.0      2.00  135      1\n",
       "4387    3600.0       45.0      1.80       2.0   2000.0     100.0         1          3   2700.0      2.00  140      2\n",
       "4388    2960.0       40.0      1.60       2.0   1850.0     100.0         1          3   2220.0      2.00  127      4\n",
       "\n",
       "[4389 rows x 12 columns]"
      ]
     },
     "execution_count": 11,
     "metadata": {},
     "output_type": "execute_result"
    }
   ],
   "source": [
    "df"
   ]
  },
  {
   "cell_type": "markdown",
   "metadata": {},
   "source": [
    "### Treat Outliers"
   ]
  },
  {
   "cell_type": "code",
   "execution_count": 13,
   "metadata": {},
   "outputs": [
    {
     "data": {
      "image/png": "[encoded data removed]",
      "text/plain": [
       "<Figure size 432x288 with 1 Axes>"
      ]
     },
     "metadata": {},
     "output_type": "display_data"
    }
   ],
   "source": [
    "sns.distplot(df.bldgarea);"
   ]
  },
  {
   "cell_type": "code",
   "execution_count": 14,
   "metadata": {},
   "outputs": [
    {
     "data": {
      "image/png": "[encoded data removed]",
      "text/plain": [
       "<Figure size 432x288 with 1 Axes>"
      ]
     },
     "metadata": {},
     "output_type": "display_data"
    }
   ],
   "source": [
    "sns.distplot(df.lotarea);"
   ]
  },
  {
   "cell_type": "code",
   "execution_count": 15,
   "metadata": {},
   "outputs": [
    {
     "data": {
      "image/png": "[encoded data removed]",
      "text/plain": [
       "<Figure size 432x288 with 1 Axes>"
      ]
     },
     "metadata": {},
     "output_type": "display_data"
    }
   ],
   "source": [
    "sns.distplot(df.lotdepth);"
   ]
  },
  {
   "cell_type": "code",
   "execution_count": 16,
   "metadata": {},
   "outputs": [
    {
     "data": {
      "image/png": "[encoded data removed]",
      "text/plain": [
       "<Figure size 432x288 with 1 Axes>"
      ]
     },
     "metadata": {},
     "output_type": "display_data"
    }
   ],
   "source": [
    "sns.distplot(df.resarea);"
   ]
  },
  {
   "cell_type": "code",
   "execution_count": 19,
   "metadata": {},
   "outputs": [],
   "source": [
    "windsorizer = Winsorizer(distribution='skewed',tail='right',fold=3, variables=['bldgarea','lotarea', \n",
    "                                                                               'lotdepth','resarea'])"
   ]
  },
  {
   "cell_type": "code",
   "execution_count": 20,
   "metadata": {},
   "outputs": [
    {
     "data": {
      "text/plain": [
       "Winsorizer(distribution='skewed',\n",
       "           variables=['bldgarea', 'lotarea', 'lotdepth', 'resarea'])"
      ]
     },
     "execution_count": 20,
     "metadata": {},
     "output_type": "execute_result"
    }
   ],
   "source": [
    "windsorizer.fit(df)"
   ]
  },
  {
   "cell_type": "code",
   "execution_count": 21,
   "metadata": {},
   "outputs": [],
   "source": [
    "df2 = windsorizer.transform(df)"
   ]
  },
  {
   "cell_type": "code",
   "execution_count": 22,
   "metadata": {},
   "outputs": [
    {
     "data": {
      "text/html": [
       "<div>\n",
       "<style scoped>\n",
       "    .dataframe tbody tr th:only-of-type {\n",
       "        vertical-align: middle;\n",
       "    }\n",
       "\n",
       "    .dataframe tbody tr th {\n",
       "        vertical-align: top;\n",
       "    }\n",
       "\n",
       "    .dataframe thead th {\n",
       "        text-align: right;\n",
       "    }\n",
       "</style>\n",
       "<table border=\"1\" class=\"dataframe\">\n",
       "  <thead>\n",
       "    <tr style=\"text-align: right;\">\n",
       "      <th></th>\n",
       "      <th>bldgarea</th>\n",
       "      <th>bldgdepth</th>\n",
       "      <th>builtfar</th>\n",
       "      <th>facilfar</th>\n",
       "      <th>lotarea</th>\n",
       "      <th>lotdepth</th>\n",
       "      <th>numbldgs</th>\n",
       "      <th>numfloors</th>\n",
       "      <th>resarea</th>\n",
       "      <th>residfar</th>\n",
       "      <th>age</th>\n",
       "      <th>count</th>\n",
       "    </tr>\n",
       "  </thead>\n",
       "  <tbody>\n",
       "    <tr>\n",
       "      <th>0</th>\n",
       "      <td>3478.0</td>\n",
       "      <td>60.0</td>\n",
       "      <td>1.87</td>\n",
       "      <td>2.0</td>\n",
       "      <td>1862.0</td>\n",
       "      <td>100.0</td>\n",
       "      <td>2</td>\n",
       "      <td>3</td>\n",
       "      <td>3478.0</td>\n",
       "      <td>2.00</td>\n",
       "      <td>2</td>\n",
       "      <td>1979</td>\n",
       "    </tr>\n",
       "    <tr>\n",
       "      <th>1</th>\n",
       "      <td>4124.0</td>\n",
       "      <td>55.0</td>\n",
       "      <td>1.65</td>\n",
       "      <td>4.8</td>\n",
       "      <td>2500.0</td>\n",
       "      <td>100.0</td>\n",
       "      <td>1</td>\n",
       "      <td>3</td>\n",
       "      <td>2750.0</td>\n",
       "      <td>2.43</td>\n",
       "      <td>89</td>\n",
       "      <td>17</td>\n",
       "    </tr>\n",
       "    <tr>\n",
       "      <th>2</th>\n",
       "      <td>7416.0</td>\n",
       "      <td>100.0</td>\n",
       "      <td>2.97</td>\n",
       "      <td>3.0</td>\n",
       "      <td>2500.0</td>\n",
       "      <td>100.0</td>\n",
       "      <td>1</td>\n",
       "      <td>5</td>\n",
       "      <td>7036.0</td>\n",
       "      <td>3.00</td>\n",
       "      <td>62</td>\n",
       "      <td>44</td>\n",
       "    </tr>\n",
       "    <tr>\n",
       "      <th>3</th>\n",
       "      <td>2112.0</td>\n",
       "      <td>48.0</td>\n",
       "      <td>0.60</td>\n",
       "      <td>2.0</td>\n",
       "      <td>3500.0</td>\n",
       "      <td>100.0</td>\n",
       "      <td>1</td>\n",
       "      <td>2</td>\n",
       "      <td>2112.0</td>\n",
       "      <td>1.25</td>\n",
       "      <td>89</td>\n",
       "      <td>1101</td>\n",
       "    </tr>\n",
       "    <tr>\n",
       "      <th>4</th>\n",
       "      <td>1540.0</td>\n",
       "      <td>30.0</td>\n",
       "      <td>0.96</td>\n",
       "      <td>4.8</td>\n",
       "      <td>1600.0</td>\n",
       "      <td>80.0</td>\n",
       "      <td>1</td>\n",
       "      <td>2</td>\n",
       "      <td>1540.0</td>\n",
       "      <td>2.43</td>\n",
       "      <td>119</td>\n",
       "      <td>58</td>\n",
       "    </tr>\n",
       "    <tr>\n",
       "      <th>...</th>\n",
       "      <td>...</td>\n",
       "      <td>...</td>\n",
       "      <td>...</td>\n",
       "      <td>...</td>\n",
       "      <td>...</td>\n",
       "      <td>...</td>\n",
       "      <td>...</td>\n",
       "      <td>...</td>\n",
       "      <td>...</td>\n",
       "      <td>...</td>\n",
       "      <td>...</td>\n",
       "      <td>...</td>\n",
       "    </tr>\n",
       "    <tr>\n",
       "      <th>4384</th>\n",
       "      <td>3600.0</td>\n",
       "      <td>45.0</td>\n",
       "      <td>1.80</td>\n",
       "      <td>2.0</td>\n",
       "      <td>2000.0</td>\n",
       "      <td>100.0</td>\n",
       "      <td>1</td>\n",
       "      <td>3</td>\n",
       "      <td>2700.0</td>\n",
       "      <td>2.00</td>\n",
       "      <td>129</td>\n",
       "      <td>1</td>\n",
       "    </tr>\n",
       "    <tr>\n",
       "      <th>4385</th>\n",
       "      <td>3600.0</td>\n",
       "      <td>45.0</td>\n",
       "      <td>1.80</td>\n",
       "      <td>2.0</td>\n",
       "      <td>2000.0</td>\n",
       "      <td>100.0</td>\n",
       "      <td>1</td>\n",
       "      <td>4</td>\n",
       "      <td>3600.0</td>\n",
       "      <td>2.00</td>\n",
       "      <td>140</td>\n",
       "      <td>264</td>\n",
       "    </tr>\n",
       "    <tr>\n",
       "      <th>4386</th>\n",
       "      <td>3720.0</td>\n",
       "      <td>42.0</td>\n",
       "      <td>1.86</td>\n",
       "      <td>2.0</td>\n",
       "      <td>2000.0</td>\n",
       "      <td>100.0</td>\n",
       "      <td>1</td>\n",
       "      <td>3</td>\n",
       "      <td>2716.0</td>\n",
       "      <td>2.00</td>\n",
       "      <td>135</td>\n",
       "      <td>1</td>\n",
       "    </tr>\n",
       "    <tr>\n",
       "      <th>4387</th>\n",
       "      <td>3600.0</td>\n",
       "      <td>45.0</td>\n",
       "      <td>1.80</td>\n",
       "      <td>2.0</td>\n",
       "      <td>2000.0</td>\n",
       "      <td>100.0</td>\n",
       "      <td>1</td>\n",
       "      <td>3</td>\n",
       "      <td>2700.0</td>\n",
       "      <td>2.00</td>\n",
       "      <td>140</td>\n",
       "      <td>2</td>\n",
       "    </tr>\n",
       "    <tr>\n",
       "      <th>4388</th>\n",
       "      <td>2960.0</td>\n",
       "      <td>40.0</td>\n",
       "      <td>1.60</td>\n",
       "      <td>2.0</td>\n",
       "      <td>1850.0</td>\n",
       "      <td>100.0</td>\n",
       "      <td>1</td>\n",
       "      <td>3</td>\n",
       "      <td>2220.0</td>\n",
       "      <td>2.00</td>\n",
       "      <td>127</td>\n",
       "      <td>4</td>\n",
       "    </tr>\n",
       "  </tbody>\n",
       "</table>\n",
       "<p>4389 rows × 12 columns</p>\n",
       "</div>"
      ],
      "text/plain": [
       "      bldgarea  bldgdepth  builtfar  facilfar  lotarea  lotdepth  numbldgs  numfloors  resarea  residfar  age  count\n",
       "0       3478.0       60.0      1.87       2.0   1862.0     100.0         2          3   3478.0      2.00    2   1979\n",
       "1       4124.0       55.0      1.65       4.8   2500.0     100.0         1          3   2750.0      2.43   89     17\n",
       "2       7416.0      100.0      2.97       3.0   2500.0     100.0         1          5   7036.0      3.00   62     44\n",
       "3       2112.0       48.0      0.60       2.0   3500.0     100.0         1          2   2112.0      1.25   89   1101\n",
       "4       1540.0       30.0      0.96       4.8   1600.0      80.0         1          2   1540.0      2.43  119     58\n",
       "...        ...        ...       ...       ...      ...       ...       ...        ...      ...       ...  ...    ...\n",
       "4384    3600.0       45.0      1.80       2.0   2000.0     100.0         1          3   2700.0      2.00  129      1\n",
       "4385    3600.0       45.0      1.80       2.0   2000.0     100.0         1          4   3600.0      2.00  140    264\n",
       "4386    3720.0       42.0      1.86       2.0   2000.0     100.0         1          3   2716.0      2.00  135      1\n",
       "4387    3600.0       45.0      1.80       2.0   2000.0     100.0         1          3   2700.0      2.00  140      2\n",
       "4388    2960.0       40.0      1.60       2.0   1850.0     100.0         1          3   2220.0      2.00  127      4\n",
       "\n",
       "[4389 rows x 12 columns]"
      ]
     },
     "execution_count": 22,
     "metadata": {},
     "output_type": "execute_result"
    }
   ],
   "source": [
    "df2"
   ]
  },
  {
   "cell_type": "code",
   "execution_count": 23,
   "metadata": {},
   "outputs": [
    {
     "data": {
      "text/html": [
       "<div>\n",
       "<style scoped>\n",
       "    .dataframe tbody tr th:only-of-type {\n",
       "        vertical-align: middle;\n",
       "    }\n",
       "\n",
       "    .dataframe tbody tr th {\n",
       "        vertical-align: top;\n",
       "    }\n",
       "\n",
       "    .dataframe thead th {\n",
       "        text-align: right;\n",
       "    }\n",
       "</style>\n",
       "<table border=\"1\" class=\"dataframe\">\n",
       "  <thead>\n",
       "    <tr style=\"text-align: right;\">\n",
       "      <th></th>\n",
       "      <th>bldgarea</th>\n",
       "      <th>bldgdepth</th>\n",
       "      <th>builtfar</th>\n",
       "      <th>facilfar</th>\n",
       "      <th>lotarea</th>\n",
       "      <th>lotdepth</th>\n",
       "      <th>numbldgs</th>\n",
       "      <th>numfloors</th>\n",
       "      <th>resarea</th>\n",
       "      <th>residfar</th>\n",
       "      <th>age</th>\n",
       "      <th>count</th>\n",
       "    </tr>\n",
       "  </thead>\n",
       "  <tbody>\n",
       "    <tr>\n",
       "      <th>count</th>\n",
       "      <td>4389.000000</td>\n",
       "      <td>4389.000000</td>\n",
       "      <td>4389.000000</td>\n",
       "      <td>4389.000000</td>\n",
       "      <td>4389.000000</td>\n",
       "      <td>4389.000000</td>\n",
       "      <td>4389.000000</td>\n",
       "      <td>4389.000000</td>\n",
       "      <td>4389.000000</td>\n",
       "      <td>4389.000000</td>\n",
       "      <td>4389.000000</td>\n",
       "      <td>4389.000000</td>\n",
       "    </tr>\n",
       "    <tr>\n",
       "      <th>mean</th>\n",
       "      <td>4301.542265</td>\n",
       "      <td>53.572550</td>\n",
       "      <td>2.065906</td>\n",
       "      <td>3.646298</td>\n",
       "      <td>2177.691046</td>\n",
       "      <td>95.595840</td>\n",
       "      <td>1.066758</td>\n",
       "      <td>3.164046</td>\n",
       "      <td>3715.464798</td>\n",
       "      <td>2.780123</td>\n",
       "      <td>124.303030</td>\n",
       "      <td>165.362953</td>\n",
       "    </tr>\n",
       "    <tr>\n",
       "      <th>std</th>\n",
       "      <td>2683.991206</td>\n",
       "      <td>17.139401</td>\n",
       "      <td>1.162139</td>\n",
       "      <td>1.963978</td>\n",
       "      <td>765.291628</td>\n",
       "      <td>15.090192</td>\n",
       "      <td>0.349971</td>\n",
       "      <td>1.236770</td>\n",
       "      <td>2640.813698</td>\n",
       "      <td>1.697740</td>\n",
       "      <td>31.394079</td>\n",
       "      <td>450.210944</td>\n",
       "    </tr>\n",
       "    <tr>\n",
       "      <th>min</th>\n",
       "      <td>400.000000</td>\n",
       "      <td>1.000000</td>\n",
       "      <td>0.080000</td>\n",
       "      <td>1.000000</td>\n",
       "      <td>375.000000</td>\n",
       "      <td>16.000000</td>\n",
       "      <td>1.000000</td>\n",
       "      <td>1.000000</td>\n",
       "      <td>350.000000</td>\n",
       "      <td>0.500000</td>\n",
       "      <td>1.000000</td>\n",
       "      <td>1.000000</td>\n",
       "    </tr>\n",
       "    <tr>\n",
       "      <th>25%</th>\n",
       "      <td>2608.000000</td>\n",
       "      <td>45.000000</td>\n",
       "      <td>1.350000</td>\n",
       "      <td>2.000000</td>\n",
       "      <td>1752.000000</td>\n",
       "      <td>94.940000</td>\n",
       "      <td>1.000000</td>\n",
       "      <td>2.000000</td>\n",
       "      <td>2009.000000</td>\n",
       "      <td>2.000000</td>\n",
       "      <td>113.000000</td>\n",
       "      <td>4.000000</td>\n",
       "    </tr>\n",
       "    <tr>\n",
       "      <th>50%</th>\n",
       "      <td>3436.000000</td>\n",
       "      <td>50.000000</td>\n",
       "      <td>1.800000</td>\n",
       "      <td>3.000000</td>\n",
       "      <td>2000.000000</td>\n",
       "      <td>100.000000</td>\n",
       "      <td>1.000000</td>\n",
       "      <td>3.000000</td>\n",
       "      <td>2752.000000</td>\n",
       "      <td>2.430000</td>\n",
       "      <td>127.000000</td>\n",
       "      <td>25.000000</td>\n",
       "    </tr>\n",
       "    <tr>\n",
       "      <th>75%</th>\n",
       "      <td>4950.000000</td>\n",
       "      <td>60.000000</td>\n",
       "      <td>2.560000</td>\n",
       "      <td>4.800000</td>\n",
       "      <td>2392.000000</td>\n",
       "      <td>100.440000</td>\n",
       "      <td>1.000000</td>\n",
       "      <td>4.000000</td>\n",
       "      <td>4370.000000</td>\n",
       "      <td>3.440000</td>\n",
       "      <td>139.000000</td>\n",
       "      <td>147.000000</td>\n",
       "    </tr>\n",
       "    <tr>\n",
       "      <th>max</th>\n",
       "      <td>11976.000000</td>\n",
       "      <td>200.000000</td>\n",
       "      <td>12.560000</td>\n",
       "      <td>15.000000</td>\n",
       "      <td>4312.000000</td>\n",
       "      <td>116.940000</td>\n",
       "      <td>12.000000</td>\n",
       "      <td>19.000000</td>\n",
       "      <td>11453.000000</td>\n",
       "      <td>10.000000</td>\n",
       "      <td>220.000000</td>\n",
       "      <td>13291.000000</td>\n",
       "    </tr>\n",
       "  </tbody>\n",
       "</table>\n",
       "</div>"
      ],
      "text/plain": [
       "           bldgarea    bldgdepth     builtfar     facilfar      lotarea     lotdepth     numbldgs    numfloors       resarea     residfar          age         count\n",
       "count   4389.000000  4389.000000  4389.000000  4389.000000  4389.000000  4389.000000  4389.000000  4389.000000   4389.000000  4389.000000  4389.000000   4389.000000\n",
       "mean    4301.542265    53.572550     2.065906     3.646298  2177.691046    95.595840     1.066758     3.164046   3715.464798     2.780123   124.303030    165.362953\n",
       "std     2683.991206    17.139401     1.162139     1.963978   765.291628    15.090192     0.349971     1.236770   2640.813698     1.697740    31.394079    450.210944\n",
       "min      400.000000     1.000000     0.080000     1.000000   375.000000    16.000000     1.000000     1.000000    350.000000     0.500000     1.000000      1.000000\n",
       "25%     2608.000000    45.000000     1.350000     2.000000  1752.000000    94.940000     1.000000     2.000000   2009.000000     2.000000   113.000000      4.000000\n",
       "50%     3436.000000    50.000000     1.800000     3.000000  2000.000000   100.000000     1.000000     3.000000   2752.000000     2.430000   127.000000     25.000000\n",
       "75%     4950.000000    60.000000     2.560000     4.800000  2392.000000   100.440000     1.000000     4.000000   4370.000000     3.440000   139.000000    147.000000\n",
       "max    11976.000000   200.000000    12.560000    15.000000  4312.000000   116.940000    12.000000    19.000000  11453.000000    10.000000   220.000000  13291.000000"
      ]
     },
     "execution_count": 23,
     "metadata": {},
     "output_type": "execute_result"
    }
   ],
   "source": [
    "df2.describe()"
   ]
  },
  {
   "cell_type": "code",
   "execution_count": 24,
   "metadata": {},
   "outputs": [
    {
     "data": {
      "text/plain": [
       "{}"
      ]
     },
     "execution_count": 24,
     "metadata": {},
     "output_type": "execute_result"
    }
   ],
   "source": [
    "windsorizer.left_tail_caps_"
   ]
  },
  {
   "cell_type": "code",
   "execution_count": 25,
   "metadata": {},
   "outputs": [
    {
     "data": {
      "text/plain": [
       "{'bldgarea': 11976.0,\n",
       " 'lotarea': 4312.0,\n",
       " 'lotdepth': 116.94,\n",
       " 'resarea': 11453.0}"
      ]
     },
     "execution_count": 25,
     "metadata": {},
     "output_type": "execute_result"
    }
   ],
   "source": [
    "windsorizer.right_tail_caps_"
   ]
  },
  {
   "cell_type": "code",
   "execution_count": 26,
   "metadata": {},
   "outputs": [],
   "source": [
    "#Save as csv\n",
    "#df2.to_csv(\"train2.csv\",index=False)"
   ]
  },
  {
   "cell_type": "markdown",
   "metadata": {},
   "source": [
    "### Train Test Split"
   ]
  },
  {
   "cell_type": "code",
   "execution_count": 27,
   "metadata": {},
   "outputs": [],
   "source": [
    "X = df2.iloc[:,0:11]\n",
    "y = df2.iloc[:,11]"
   ]
  },
  {
   "cell_type": "code",
   "execution_count": 28,
   "metadata": {},
   "outputs": [
    {
     "data": {
      "text/plain": [
       "(array([[3.478e+03, 6.000e+01, 1.870e+00, ..., 3.478e+03, 2.000e+00,\n",
       "         2.000e+00],\n",
       "        [4.124e+03, 5.500e+01, 1.650e+00, ..., 2.750e+03, 2.430e+00,\n",
       "         8.900e+01],\n",
       "        [7.416e+03, 1.000e+02, 2.970e+00, ..., 7.036e+03, 3.000e+00,\n",
       "         6.200e+01],\n",
       "        ...,\n",
       "        [3.720e+03, 4.200e+01, 1.860e+00, ..., 2.716e+03, 2.000e+00,\n",
       "         1.350e+02],\n",
       "        [3.600e+03, 4.500e+01, 1.800e+00, ..., 2.700e+03, 2.000e+00,\n",
       "         1.400e+02],\n",
       "        [2.960e+03, 4.000e+01, 1.600e+00, ..., 2.220e+03, 2.000e+00,\n",
       "         1.270e+02]]),\n",
       " array([1979,   17,   44, ...,    1,    2,    4], dtype=int64))"
      ]
     },
     "execution_count": 28,
     "metadata": {},
     "output_type": "execute_result"
    }
   ],
   "source": [
    "X.values, y.values"
   ]
  },
  {
   "cell_type": "code",
   "execution_count": 29,
   "metadata": {},
   "outputs": [],
   "source": [
    "X_train, X_test, y_train, y_test = train_test_split(X, y, test_size=0.2, random_state=0)"
   ]
  },
  {
   "cell_type": "code",
   "execution_count": 30,
   "metadata": {},
   "outputs": [
    {
     "data": {
      "text/plain": [
       "((3511, 11), (878, 11), (3511,), (878,))"
      ]
     },
     "execution_count": 30,
     "metadata": {},
     "output_type": "execute_result"
    }
   ],
   "source": [
    "X_train.shape, X_test.shape, y_train.shape, y_test.shape"
   ]
  },
  {
   "cell_type": "markdown",
   "metadata": {},
   "source": [
    "### Feature Scaling"
   ]
  },
  {
   "cell_type": "code",
   "execution_count": 31,
   "metadata": {},
   "outputs": [
    {
     "data": {
      "text/html": [
       "<div>\n",
       "<style scoped>\n",
       "    .dataframe tbody tr th:only-of-type {\n",
       "        vertical-align: middle;\n",
       "    }\n",
       "\n",
       "    .dataframe tbody tr th {\n",
       "        vertical-align: top;\n",
       "    }\n",
       "\n",
       "    .dataframe thead th {\n",
       "        text-align: right;\n",
       "    }\n",
       "</style>\n",
       "<table border=\"1\" class=\"dataframe\">\n",
       "  <thead>\n",
       "    <tr style=\"text-align: right;\">\n",
       "      <th></th>\n",
       "      <th>bldgarea</th>\n",
       "      <th>bldgdepth</th>\n",
       "      <th>builtfar</th>\n",
       "      <th>facilfar</th>\n",
       "      <th>lotarea</th>\n",
       "      <th>lotdepth</th>\n",
       "      <th>numbldgs</th>\n",
       "      <th>numfloors</th>\n",
       "      <th>resarea</th>\n",
       "      <th>residfar</th>\n",
       "      <th>age</th>\n",
       "    </tr>\n",
       "  </thead>\n",
       "  <tbody>\n",
       "    <tr>\n",
       "      <th>2100</th>\n",
       "      <td>4420.0</td>\n",
       "      <td>100.0</td>\n",
       "      <td>2.21</td>\n",
       "      <td>4.8</td>\n",
       "      <td>2000.0</td>\n",
       "      <td>100.0</td>\n",
       "      <td>1</td>\n",
       "      <td>3</td>\n",
       "      <td>4320.0</td>\n",
       "      <td>2.43</td>\n",
       "      <td>141</td>\n",
       "    </tr>\n",
       "    <tr>\n",
       "      <th>1625</th>\n",
       "      <td>11976.0</td>\n",
       "      <td>85.0</td>\n",
       "      <td>4.33</td>\n",
       "      <td>6.5</td>\n",
       "      <td>4312.0</td>\n",
       "      <td>100.0</td>\n",
       "      <td>1</td>\n",
       "      <td>6</td>\n",
       "      <td>11453.0</td>\n",
       "      <td>6.02</td>\n",
       "      <td>107</td>\n",
       "    </tr>\n",
       "    <tr>\n",
       "      <th>1969</th>\n",
       "      <td>3100.0</td>\n",
       "      <td>40.0</td>\n",
       "      <td>1.60</td>\n",
       "      <td>2.0</td>\n",
       "      <td>1942.0</td>\n",
       "      <td>100.0</td>\n",
       "      <td>1</td>\n",
       "      <td>3</td>\n",
       "      <td>2400.0</td>\n",
       "      <td>2.00</td>\n",
       "      <td>149</td>\n",
       "    </tr>\n",
       "    <tr>\n",
       "      <th>4311</th>\n",
       "      <td>3600.0</td>\n",
       "      <td>45.0</td>\n",
       "      <td>2.25</td>\n",
       "      <td>2.0</td>\n",
       "      <td>1600.0</td>\n",
       "      <td>80.0</td>\n",
       "      <td>1</td>\n",
       "      <td>3</td>\n",
       "      <td>2700.0</td>\n",
       "      <td>2.00</td>\n",
       "      <td>134</td>\n",
       "    </tr>\n",
       "    <tr>\n",
       "      <th>3456</th>\n",
       "      <td>11976.0</td>\n",
       "      <td>76.0</td>\n",
       "      <td>2.59</td>\n",
       "      <td>4.8</td>\n",
       "      <td>4312.0</td>\n",
       "      <td>100.0</td>\n",
       "      <td>1</td>\n",
       "      <td>4</td>\n",
       "      <td>11453.0</td>\n",
       "      <td>2.43</td>\n",
       "      <td>97</td>\n",
       "    </tr>\n",
       "    <tr>\n",
       "      <th>...</th>\n",
       "      <td>...</td>\n",
       "      <td>...</td>\n",
       "      <td>...</td>\n",
       "      <td>...</td>\n",
       "      <td>...</td>\n",
       "      <td>...</td>\n",
       "      <td>...</td>\n",
       "      <td>...</td>\n",
       "      <td>...</td>\n",
       "      <td>...</td>\n",
       "      <td>...</td>\n",
       "    </tr>\n",
       "    <tr>\n",
       "      <th>1033</th>\n",
       "      <td>2160.0</td>\n",
       "      <td>54.0</td>\n",
       "      <td>0.86</td>\n",
       "      <td>2.0</td>\n",
       "      <td>2500.0</td>\n",
       "      <td>100.0</td>\n",
       "      <td>1</td>\n",
       "      <td>2</td>\n",
       "      <td>2160.0</td>\n",
       "      <td>0.75</td>\n",
       "      <td>100</td>\n",
       "    </tr>\n",
       "    <tr>\n",
       "      <th>3264</th>\n",
       "      <td>3060.0</td>\n",
       "      <td>45.0</td>\n",
       "      <td>1.80</td>\n",
       "      <td>2.0</td>\n",
       "      <td>1700.0</td>\n",
       "      <td>100.0</td>\n",
       "      <td>1</td>\n",
       "      <td>3</td>\n",
       "      <td>2296.0</td>\n",
       "      <td>2.00</td>\n",
       "      <td>141</td>\n",
       "    </tr>\n",
       "    <tr>\n",
       "      <th>1653</th>\n",
       "      <td>11976.0</td>\n",
       "      <td>84.0</td>\n",
       "      <td>4.50</td>\n",
       "      <td>3.0</td>\n",
       "      <td>4312.0</td>\n",
       "      <td>100.0</td>\n",
       "      <td>1</td>\n",
       "      <td>6</td>\n",
       "      <td>11453.0</td>\n",
       "      <td>3.00</td>\n",
       "      <td>114</td>\n",
       "    </tr>\n",
       "    <tr>\n",
       "      <th>2607</th>\n",
       "      <td>3600.0</td>\n",
       "      <td>45.0</td>\n",
       "      <td>1.80</td>\n",
       "      <td>2.0</td>\n",
       "      <td>2000.0</td>\n",
       "      <td>100.0</td>\n",
       "      <td>1</td>\n",
       "      <td>3</td>\n",
       "      <td>3600.0</td>\n",
       "      <td>2.00</td>\n",
       "      <td>148</td>\n",
       "    </tr>\n",
       "    <tr>\n",
       "      <th>2732</th>\n",
       "      <td>3124.0</td>\n",
       "      <td>50.0</td>\n",
       "      <td>1.76</td>\n",
       "      <td>3.0</td>\n",
       "      <td>1770.0</td>\n",
       "      <td>90.0</td>\n",
       "      <td>1</td>\n",
       "      <td>2</td>\n",
       "      <td>2082.0</td>\n",
       "      <td>3.00</td>\n",
       "      <td>118</td>\n",
       "    </tr>\n",
       "  </tbody>\n",
       "</table>\n",
       "<p>3511 rows × 11 columns</p>\n",
       "</div>"
      ],
      "text/plain": [
       "      bldgarea  bldgdepth  builtfar  facilfar  lotarea  lotdepth  numbldgs  numfloors  resarea  residfar  age\n",
       "2100    4420.0      100.0      2.21       4.8   2000.0     100.0         1          3   4320.0      2.43  141\n",
       "1625   11976.0       85.0      4.33       6.5   4312.0     100.0         1          6  11453.0      6.02  107\n",
       "1969    3100.0       40.0      1.60       2.0   1942.0     100.0         1          3   2400.0      2.00  149\n",
       "4311    3600.0       45.0      2.25       2.0   1600.0      80.0         1          3   2700.0      2.00  134\n",
       "3456   11976.0       76.0      2.59       4.8   4312.0     100.0         1          4  11453.0      2.43   97\n",
       "...        ...        ...       ...       ...      ...       ...       ...        ...      ...       ...  ...\n",
       "1033    2160.0       54.0      0.86       2.0   2500.0     100.0         1          2   2160.0      0.75  100\n",
       "3264    3060.0       45.0      1.80       2.0   1700.0     100.0         1          3   2296.0      2.00  141\n",
       "1653   11976.0       84.0      4.50       3.0   4312.0     100.0         1          6  11453.0      3.00  114\n",
       "2607    3600.0       45.0      1.80       2.0   2000.0     100.0         1          3   3600.0      2.00  148\n",
       "2732    3124.0       50.0      1.76       3.0   1770.0      90.0         1          2   2082.0      3.00  118\n",
       "\n",
       "[3511 rows x 11 columns]"
      ]
     },
     "execution_count": 31,
     "metadata": {},
     "output_type": "execute_result"
    }
   ],
   "source": [
    "X_train"
   ]
  },
  {
   "cell_type": "code",
   "execution_count": 32,
   "metadata": {},
   "outputs": [],
   "source": [
    "scaler = StandardScaler()"
   ]
  },
  {
   "cell_type": "code",
   "execution_count": 33,
   "metadata": {},
   "outputs": [],
   "source": [
    "X_train_scaled = scaler.fit_transform(X_train)"
   ]
  },
  {
   "cell_type": "code",
   "execution_count": 34,
   "metadata": {},
   "outputs": [],
   "source": [
    "X_test_scaled = scaler.transform(X_test)"
   ]
  },
  {
   "cell_type": "code",
   "execution_count": 35,
   "metadata": {},
   "outputs": [
    {
     "data": {
      "text/plain": [
       "array([[ 0.05601348,  2.75221413,  0.13997368, ...,  0.24570851,\n",
       "        -0.20028069,  0.53332803],\n",
       "       [ 2.91221658,  1.8679562 ,  2.03314479, ...,  2.9910485 ,\n",
       "         1.92916446, -0.55130008],\n",
       "       [-0.44295265, -0.78481757, -0.40475952, ..., -0.49325865,\n",
       "        -0.45533958,  0.78853465],\n",
       "       ...,\n",
       "       [ 2.91221658,  1.80900568,  2.18495568, ...,  2.9910485 ,\n",
       "         0.13782063, -0.32799429],\n",
       "       [-0.25395032, -0.49006493, -0.22615847, ..., -0.03140418,\n",
       "        -0.45533958,  0.75663382],\n",
       "       [-0.43388054, -0.19531228, -0.26187868, ..., -0.61565009,\n",
       "         0.13782063, -0.20039098]])"
      ]
     },
     "execution_count": 35,
     "metadata": {},
     "output_type": "execute_result"
    }
   ],
   "source": [
    "X_train_scaled"
   ]
  },
  {
   "cell_type": "code",
   "execution_count": 36,
   "metadata": {},
   "outputs": [
    {
     "data": {
      "text/plain": [
       "array([[ 0.04845339,  0.09944036,  0.12211357, ..., -0.14686779,\n",
       "         0.39881112,  0.27812142],\n",
       "       [-0.61229873, -0.07741123, -0.44940978, ..., -0.39626921,\n",
       "         0.39881112,  0.18241894],\n",
       "       [-0.93738272, -0.19531228, -1.02986319, ..., -0.72726492,\n",
       "        -0.20028069, -0.93411   ],\n",
       "       ...,\n",
       "       [-0.27209455, -0.31321334, -0.11006779, ..., -0.50557477,\n",
       "        -0.20028069, -0.35989512],\n",
       "       [-0.54879395, -0.49006493, -0.57443052, ..., -0.69339559,\n",
       "        -0.45533958, -0.13658933],\n",
       "       [-0.7075559 , -0.19531228, -0.03862737, ..., -0.72418589,\n",
       "        -0.20028069,  0.69283217]])"
      ]
     },
     "execution_count": 36,
     "metadata": {},
     "output_type": "execute_result"
    }
   ],
   "source": [
    "X_test_scaled"
   ]
  },
  {
   "cell_type": "markdown",
   "metadata": {},
   "source": [
    "### Model Training"
   ]
  },
  {
   "cell_type": "markdown",
   "metadata": {},
   "source": [
    "### Random Forest Regressor"
   ]
  },
  {
   "cell_type": "code",
   "execution_count": 37,
   "metadata": {},
   "outputs": [],
   "source": [
    "rf = RandomForestRegressor(random_state=0)"
   ]
  },
  {
   "cell_type": "code",
   "execution_count": 38,
   "metadata": {},
   "outputs": [
    {
     "data": {
      "text/plain": [
       "RandomForestRegressor(random_state=0)"
      ]
     },
     "execution_count": 38,
     "metadata": {},
     "output_type": "execute_result"
    }
   ],
   "source": [
    "rf.fit(X_train_scaled,y_train)"
   ]
  },
  {
   "cell_type": "code",
   "execution_count": 39,
   "metadata": {},
   "outputs": [],
   "source": [
    "rf_pred = rf.predict(X_test_scaled)"
   ]
  },
  {
   "cell_type": "code",
   "execution_count": 40,
   "metadata": {},
   "outputs": [
    {
     "data": {
      "text/plain": [
       "array([118.28      ,  80.73      ,  99.49207143,  18.06166667,\n",
       "       182.25666667,  60.3685    , 253.69333333, 436.29616667,\n",
       "       131.01719048, 211.27666667])"
      ]
     },
     "execution_count": 40,
     "metadata": {},
     "output_type": "execute_result"
    }
   ],
   "source": [
    "rf_pred[:10]"
   ]
  },
  {
   "cell_type": "markdown",
   "metadata": {},
   "source": [
    "### Model Evaluation"
   ]
  },
  {
   "cell_type": "code",
   "execution_count": 41,
   "metadata": {},
   "outputs": [
    {
     "data": {
      "text/plain": [
       "354043.1408204935"
      ]
     },
     "execution_count": 41,
     "metadata": {},
     "output_type": "execute_result"
    }
   ],
   "source": [
    "mse = mean_squared_error(y_test,rf_pred)\n",
    "mse"
   ]
  },
  {
   "cell_type": "code",
   "execution_count": 42,
   "metadata": {},
   "outputs": [
    {
     "data": {
      "text/plain": [
       "595.0152441916875"
      ]
     },
     "execution_count": 42,
     "metadata": {},
     "output_type": "execute_result"
    }
   ],
   "source": [
    "rmse = np.sqrt(mse)\n",
    "rmse"
   ]
  },
  {
   "cell_type": "code",
   "execution_count": 43,
   "metadata": {},
   "outputs": [
    {
     "data": {
      "text/plain": [
       "-0.12546430831647126"
      ]
     },
     "execution_count": 43,
     "metadata": {},
     "output_type": "execute_result"
    }
   ],
   "source": [
    "r2score = r2_score(y_test,rf_pred)\n",
    "r2score"
   ]
  },
  {
   "cell_type": "code",
   "execution_count": 44,
   "metadata": {},
   "outputs": [
    {
     "data": {
      "image/png": "[encoded data removed]",
      "text/plain": [
       "<Figure size 720x576 with 1 Axes>"
      ]
     },
     "metadata": {},
     "output_type": "display_data"
    }
   ],
   "source": [
    "fig, ax = plt.subplots(figsize=(10,8))\n",
    "sns.regplot(x=y_test, y=rf_pred, ax=ax)\n",
    "plt.title(\"Plot to compare actual vs predicted\")\n",
    "plt.ylabel(\"Predicted\")\n",
    "plt.xlabel(\"Actual\")\n",
    "plt.show()"
   ]
  },
  {
   "cell_type": "code",
   "execution_count": 45,
   "metadata": {},
   "outputs": [
    {
     "data": {
      "text/plain": [
       "array([0.12986064, 0.0863876 , 0.17290243, 0.03268872, 0.11131659,\n",
       "       0.07876256, 0.00462001, 0.02438925, 0.16518615, 0.04095756,\n",
       "       0.15292849])"
      ]
     },
     "execution_count": 45,
     "metadata": {},
     "output_type": "execute_result"
    }
   ],
   "source": [
    "rf.feature_importances_"
   ]
  },
  {
   "cell_type": "markdown",
   "metadata": {},
   "source": [
    "Load the feature importances into a pandas series indexed by your column names, then use its plot method. e.g. for an sklearn RF classifier/regressor model trained using df: "
   ]
  },
  {
   "cell_type": "code",
   "execution_count": 46,
   "metadata": {},
   "outputs": [],
   "source": [
    "feat_importances = pd.Series(rf.feature_importances_, index=X.columns)"
   ]
  },
  {
   "cell_type": "code",
   "execution_count": 47,
   "metadata": {},
   "outputs": [
    {
     "data": {
      "text/plain": [
       "bldgarea     0.129861\n",
       "bldgdepth    0.086388\n",
       "builtfar     0.172902\n",
       "facilfar     0.032689\n",
       "lotarea      0.111317\n",
       "lotdepth     0.078763\n",
       "numbldgs     0.004620\n",
       "numfloors    0.024389\n",
       "resarea      0.165186\n",
       "residfar     0.040958\n",
       "age          0.152928\n",
       "dtype: float64"
      ]
     },
     "execution_count": 47,
     "metadata": {},
     "output_type": "execute_result"
    }
   ],
   "source": [
    "feat_importances"
   ]
  },
  {
   "cell_type": "code",
   "execution_count": 48,
   "metadata": {},
   "outputs": [
    {
     "data": {
      "image/png": "[encoded data removed]",
      "text/plain": [
       "<Figure size 720x720 with 1 Axes>"
      ]
     },
     "metadata": {},
     "output_type": "display_data"
    }
   ],
   "source": [
    "feat_importances.nlargest(10).plot(kind='barh', figsize=(10,10))\n",
    "plt.title('Feature Importances')\n",
    "plt.show()"
   ]
  },
  {
   "cell_type": "markdown",
   "metadata": {},
   "source": [
    "### The permutation based importance"
   ]
  },
  {
   "cell_type": "code",
   "execution_count": 49,
   "metadata": {},
   "outputs": [],
   "source": [
    "perm_importance = permutation_importance(rf,X_test,y_test, random_state=0, scoring='neg_mean_squared_error')"
   ]
  },
  {
   "cell_type": "code",
   "execution_count": 50,
   "metadata": {},
   "outputs": [
    {
     "data": {
      "image/png": "[encoded data removed]",
      "text/plain": [
       "<Figure size 720x720 with 1 Axes>"
      ]
     },
     "metadata": {},
     "output_type": "display_data"
    }
   ],
   "source": [
    "sorted_idx = perm_importance.importances_mean.argsort()\n",
    "plt.figure(figsize=(10,10))\n",
    "plt.title(\"Permutation-based Importance\")\n",
    "plt.barh(X.columns[sorted_idx], perm_importance.importances_mean[sorted_idx])\n",
    "plt.xlabel(\"Permutation Importance\")\n",
    "plt.show()"
   ]
  },
  {
   "cell_type": "code",
   "execution_count": 51,
   "metadata": {},
   "outputs": [
    {
     "data": {
      "text/plain": [
       "array([ 3,  0,  4,  5,  8, 10,  7,  6,  1,  2,  9], dtype=int64)"
      ]
     },
     "execution_count": 51,
     "metadata": {},
     "output_type": "execute_result"
    }
   ],
   "source": [
    "perm_importance.importances_mean.argsort()"
   ]
  },
  {
   "cell_type": "markdown",
   "metadata": {},
   "source": [
    "### Compute Importance from SHAP Values"
   ]
  },
  {
   "cell_type": "code",
   "execution_count": 52,
   "metadata": {},
   "outputs": [],
   "source": [
    "explainer = shap.TreeExplainer(rf)"
   ]
  },
  {
   "cell_type": "code",
   "execution_count": 53,
   "metadata": {},
   "outputs": [],
   "source": [
    "shap_values = explainer.shap_values(X_test)"
   ]
  },
  {
   "cell_type": "code",
   "execution_count": 54,
   "metadata": {},
   "outputs": [
    {
     "data": {
      "image/png": "[encoded data removed]",
      "text/plain": [
       "<Figure size 576x424.8 with 1 Axes>"
      ]
     },
     "metadata": {},
     "output_type": "display_data"
    }
   ],
   "source": [
    "shap.summary_plot(shap_values, X_test, plot_type=\"bar\")"
   ]
  },
  {
   "cell_type": "code",
   "execution_count": 55,
   "metadata": {},
   "outputs": [
    {
     "data": {
      "image/png": "[encoded data removed]",
      "text/plain": [
       "<Figure size 576x424.8 with 2 Axes>"
      ]
     },
     "metadata": {},
     "output_type": "display_data"
    }
   ],
   "source": [
    "shap.summary_plot(shap_values, X_test)"
   ]
  },
  {
   "cell_type": "markdown",
   "metadata": {},
   "source": [
    "### Using XGBoost (Scikit-Learn)"
   ]
  },
  {
   "cell_type": "markdown",
   "metadata": {},
   "source": [
    "### Using RandomSearchCV"
   ]
  },
  {
   "cell_type": "code",
   "execution_count": 56,
   "metadata": {},
   "outputs": [],
   "source": [
    "model = XGBRegressor(random_state=0, n_estimators=100, objective='reg:squarederror')"
   ]
  },
  {
   "cell_type": "code",
   "execution_count": 57,
   "metadata": {},
   "outputs": [],
   "source": [
    "parameters = {'max_depth': np.arange(3,10,1),\n",
    "              'learning rate': np.arange(0.05,0.3,0.05),\n",
    "              'n_estimators':np.arange(100,1000,100),\n",
    "              'min_child_weight': np.arange(1,4,1),\n",
    "              'gamma':np.arange(0,10,2),\n",
    "              'subsample':np.arange(0.5,0.9,0.1),\n",
    "              'colsample_bytree':np.arange(0.5,0.9,0.1),\n",
    "              'reg_alpha':np.arange(0,1,0.1),\n",
    "              'reg_lambda':np.arange(0,1,0.1)\n",
    "             }"
   ]
  },
  {
   "cell_type": "code",
   "execution_count": 58,
   "metadata": {},
   "outputs": [],
   "source": [
    "randm = RandomizedSearchCV(estimator=model, param_distributions = parameters, cv = 5, n_iter = 10, \n",
    "                           n_jobs=-1, scoring='neg_mean_squared_error')"
   ]
  },
  {
   "cell_type": "code",
   "execution_count": 59,
   "metadata": {},
   "outputs": [
    {
     "name": "stdout",
     "output_type": "stream",
     "text": [
      "[12:46:01] WARNING: C:\\Users\\Administrator\\workspace\\xgboost-win64_release_1.1.0\\src\\learner.cc:480: \n",
      "Parameters: { learning rate } might not be used.\n",
      "\n",
      "  This may not be accurate due to some parameters are only used in language bindings but\n",
      "  passed down to XGBoost core.  Or some parameters are not used but slip through this\n",
      "  verification. Please open an issue if you find above cases.\n",
      "\n",
      "\n"
     ]
    },
    {
     "data": {
      "text/plain": [
       "RandomizedSearchCV(cv=5,\n",
       "                   estimator=XGBRegressor(base_score=None, booster=None,\n",
       "                                          colsample_bylevel=None,\n",
       "                                          colsample_bynode=None,\n",
       "                                          colsample_bytree=None, gamma=None,\n",
       "                                          gpu_id=None, importance_type='gain',\n",
       "                                          interaction_constraints=None,\n",
       "                                          learning_rate=None,\n",
       "                                          max_delta_step=None, max_depth=None,\n",
       "                                          min_child_weight=None, missing=nan,\n",
       "                                          monotone_constraints=None,\n",
       "                                          n_estimators=100, n...\n",
       "                                        'learning rate': array([0.05, 0.1 , 0.15, 0.2 , 0.25]),\n",
       "                                        'max_depth': array([3, 4, 5, 6, 7, 8, 9]),\n",
       "                                        'min_child_weight': array([1, 2, 3]),\n",
       "                                        'n_estimators': array([100, 200, 300, 400, 500, 600, 700, 800, 900]),\n",
       "                                        'reg_alpha': array([0. , 0.1, 0.2, 0.3, 0.4, 0.5, 0.6, 0.7, 0.8, 0.9]),\n",
       "                                        'reg_lambda': array([0. , 0.1, 0.2, 0.3, 0.4, 0.5, 0.6, 0.7, 0.8, 0.9]),\n",
       "                                        'subsample': array([0.5, 0.6, 0.7, 0.8])},\n",
       "                   scoring='neg_mean_squared_error')"
      ]
     },
     "execution_count": 59,
     "metadata": {},
     "output_type": "execute_result"
    }
   ],
   "source": [
    "randm.fit(X_train_scaled, y_train)"
   ]
  },
  {
   "cell_type": "code",
   "execution_count": 60,
   "metadata": {},
   "outputs": [
    {
     "data": {
      "text/plain": [
       "XGBRegressor(base_score=0.5, booster='gbtree', colsample_bylevel=1,\n",
       "             colsample_bynode=1, colsample_bytree=0.7999999999999999, gamma=2,\n",
       "             gpu_id=-1, importance_type='gain', interaction_constraints='',\n",
       "             learning rate=0.1, learning_rate=0.300000012, max_delta_step=0,\n",
       "             max_depth=4, min_child_weight=2, missing=nan,\n",
       "             monotone_constraints='()', n_estimators=200, n_jobs=0,\n",
       "             num_parallel_tree=1, random_state=0, reg_alpha=0.1, reg_lambda=0.4,\n",
       "             scale_pos_weight=1, subsample=0.7, tree_method='exact',\n",
       "             validate_parameters=1, verbosity=None)"
      ]
     },
     "execution_count": 60,
     "metadata": {},
     "output_type": "execute_result"
    }
   ],
   "source": [
    "randm.best_estimator_"
   ]
  },
  {
   "cell_type": "code",
   "execution_count": 61,
   "metadata": {},
   "outputs": [
    {
     "data": {
      "text/plain": [
       "-230002.7735839106"
      ]
     },
     "execution_count": 61,
     "metadata": {},
     "output_type": "execute_result"
    }
   ],
   "source": [
    "randm.best_score_"
   ]
  },
  {
   "cell_type": "code",
   "execution_count": 62,
   "metadata": {},
   "outputs": [
    {
     "data": {
      "text/plain": [
       "{'subsample': 0.7,\n",
       " 'reg_lambda': 0.4,\n",
       " 'reg_alpha': 0.1,\n",
       " 'n_estimators': 200,\n",
       " 'min_child_weight': 2,\n",
       " 'max_depth': 4,\n",
       " 'learning rate': 0.1,\n",
       " 'gamma': 2,\n",
       " 'colsample_bytree': 0.7999999999999999}"
      ]
     },
     "execution_count": 62,
     "metadata": {},
     "output_type": "execute_result"
    }
   ],
   "source": [
    "randm.best_params_"
   ]
  },
  {
   "cell_type": "markdown",
   "metadata": {},
   "source": [
    "### Final Model"
   ]
  },
  {
   "cell_type": "code",
   "execution_count": 63,
   "metadata": {},
   "outputs": [],
   "source": [
    "xgbmodel = XGBRegressor(random_state=0, n_estimators=200, objective='reg:squarederror',\n",
    "                       subsample=0.7,reg_lambda=0.4,reg_alpha=0.1, min_child_weight=2,\n",
    "                       max_depth=4,learning_rate=0.1,gamma=2,colsample_bytree=0.8)"
   ]
  },
  {
   "cell_type": "code",
   "execution_count": 64,
   "metadata": {},
   "outputs": [
    {
     "name": "stdout",
     "output_type": "stream",
     "text": [
      "[0]\tvalidation_0-rmse:581.16949\n",
      "Will train until validation_0-rmse hasn't improved in 10 rounds.\n",
      "[1]\tvalidation_0-rmse:577.41956\n",
      "[2]\tvalidation_0-rmse:574.34070\n",
      "[3]\tvalidation_0-rmse:571.89447\n",
      "[4]\tvalidation_0-rmse:570.37207\n",
      "[5]\tvalidation_0-rmse:568.44763\n",
      "[6]\tvalidation_0-rmse:566.30102\n",
      "[7]\tvalidation_0-rmse:564.98608\n",
      "[8]\tvalidation_0-rmse:563.79584\n",
      "[9]\tvalidation_0-rmse:563.10999\n",
      "[10]\tvalidation_0-rmse:562.66553\n",
      "[11]\tvalidation_0-rmse:562.31842\n",
      "[12]\tvalidation_0-rmse:561.70868\n",
      "[13]\tvalidation_0-rmse:561.21704\n",
      "[14]\tvalidation_0-rmse:560.95245\n",
      "[15]\tvalidation_0-rmse:560.38721\n",
      "[16]\tvalidation_0-rmse:560.18939\n",
      "[17]\tvalidation_0-rmse:559.99323\n",
      "[18]\tvalidation_0-rmse:560.13062\n",
      "[19]\tvalidation_0-rmse:560.02460\n",
      "[20]\tvalidation_0-rmse:560.05023\n",
      "[21]\tvalidation_0-rmse:560.13751\n",
      "[22]\tvalidation_0-rmse:560.14557\n",
      "[23]\tvalidation_0-rmse:560.79010\n",
      "[24]\tvalidation_0-rmse:560.72162\n",
      "[25]\tvalidation_0-rmse:560.86694\n",
      "[26]\tvalidation_0-rmse:560.75458\n",
      "[27]\tvalidation_0-rmse:560.48291\n",
      "Stopping. Best iteration:\n",
      "[17]\tvalidation_0-rmse:559.99323\n",
      "\n"
     ]
    },
    {
     "data": {
      "text/plain": [
       "XGBRegressor(base_score=0.5, booster='gbtree', colsample_bylevel=1,\n",
       "             colsample_bynode=1, colsample_bytree=0.8, gamma=2, gpu_id=-1,\n",
       "             importance_type='gain', interaction_constraints='',\n",
       "             learning_rate=0.1, max_delta_step=0, max_depth=4,\n",
       "             min_child_weight=2, missing=nan, monotone_constraints='()',\n",
       "             n_estimators=200, n_jobs=0, num_parallel_tree=1, random_state=0,\n",
       "             reg_alpha=0.1, reg_lambda=0.4, scale_pos_weight=1, subsample=0.7,\n",
       "             tree_method='exact', validate_parameters=1, verbosity=None)"
      ]
     },
     "execution_count": 64,
     "metadata": {},
     "output_type": "execute_result"
    }
   ],
   "source": [
    "xgbmodel.fit(X_train_scaled,y_train,eval_set=[(X_test_scaled,y_test)],eval_metric='rmse',early_stopping_rounds=10)"
   ]
  },
  {
   "cell_type": "code",
   "execution_count": 65,
   "metadata": {},
   "outputs": [],
   "source": [
    "y_pred = xgbmodel.predict(X_test_scaled)"
   ]
  },
  {
   "cell_type": "code",
   "execution_count": 66,
   "metadata": {},
   "outputs": [
    {
     "data": {
      "text/plain": [
       "array([115.54847 , 166.31055 , 145.09831 ,  79.259674, 148.02193 ,\n",
       "       132.56909 , 127.13591 , 212.13889 , 127.82784 , 199.47765 ,\n",
       "       156.6543  , 107.54765 , 133.5453  , 127.08834 , 123.64424 ,\n",
       "       165.04895 , 133.10078 , 353.06223 , 140.4309  , 225.70865 ,\n",
       "       114.20239 , 155.89034 , 166.02477 , 169.40277 , 169.80363 ,\n",
       "       124.06277 , 104.07128 , 122.540146, 174.56303 , 149.26144 ,\n",
       "       141.9219  , 140.03075 , 133.26784 , 173.45462 , 133.49704 ,\n",
       "        99.53059 , 140.03075 , 128.83746 , 133.49704 , 118.260735,\n",
       "       133.95956 , 134.25624 , 129.84258 , 114.236084, 141.58218 ,\n",
       "       155.89034 , 172.46188 , 129.79912 , 116.38448 , 128.00816 ,\n",
       "       231.91997 , 180.08775 , 222.60959 , 142.12833 , 146.67096 ,\n",
       "       275.46243 ,  74.811195, 125.615746, 139.50092 ,  86.8762  ,\n",
       "       153.88533 , 142.12833 , 122.46012 , 187.49335 , 122.78533 ,\n",
       "       155.26237 , 148.72475 , 125.63329 , 146.25409 , 147.40472 ,\n",
       "       123.39206 ,  96.99566 , 196.79094 , 120.68408 , 121.74743 ,\n",
       "       199.14601 , 141.22958 , 131.27667 , 264.46597 , 130.2282  ,\n",
       "        95.78136 , 159.61423 , 113.33084 , 123.88663 , 133.49704 ,\n",
       "       196.17465 ,  83.38861 , 101.10392 , 128.17589 ,  87.687386,\n",
       "       151.92711 , 128.83746 , 126.85405 , 128.29288 ,  80.73326 ,\n",
       "       128.95439 , 365.18115 , 145.73761 , 204.76733 ,  97.29268 ,\n",
       "       138.82741 , 214.1427  , 115.54847 , 109.03207 ,  95.98692 ,\n",
       "       110.72212 ,  86.02129 , 177.01549 , 169.93483 , 332.19617 ,\n",
       "        83.38861 , 141.56006 , 113.574715, 324.07318 ,  92.223076,\n",
       "       230.82297 , 135.70027 , 288.6193  , 109.03207 , 135.98396 ,\n",
       "       169.80363 , 133.07162 , 177.24437 , 118.35784 , 216.00398 ,\n",
       "       232.29979 , 167.09982 , 161.24255 , 111.0098  , 167.48355 ,\n",
       "       172.41046 ,  83.107765, 127.36003 , 130.76242 , 120.28441 ,\n",
       "       116.02877 , 206.58488 , 105.54448 ,  97.37699 , 130.7806  ,\n",
       "       167.48355 , 127.5487  , 129.7136  , 158.29651 , 113.574715,\n",
       "       108.31205 ,  95.26133 , 194.20842 , 122.95571 , 134.90375 ,\n",
       "       133.10078 , 128.19977 , 145.26616 , 159.4787  , 129.63007 ,\n",
       "       124.085335,  93.52302 , 147.91913 , 101.531364, 132.94588 ,\n",
       "        90.22209 , 115.54847 ,  98.67583 ,  90.98618 , 145.90233 ,\n",
       "       118.172745, 143.19022 , 111.05285 , 138.73233 ,  98.60155 ,\n",
       "       130.87582 , 128.14987 , 157.59987 , 127.0951  , 127.6199  ,\n",
       "       111.05285 , 117.56354 , 129.7136  , 288.57007 , 143.33981 ,\n",
       "       129.7136  , 166.02477 ,  77.09092 , 123.01416 , 136.28758 ,\n",
       "       179.40945 , 127.08834 , 103.86416 , 110.29835 , 130.94394 ,\n",
       "       162.07532 , 116.51493 , 131.09906 , 178.47398 , 371.02084 ,\n",
       "       115.54847 , 123.00299 , 213.67004 ,  83.67389 , 136.73561 ,\n",
       "       107.44343 , 292.78418 , 165.75212 , 144.67227 , 138.76428 ,\n",
       "       109.03207 , 126.786674, 130.5198  , 123.94625 , 134.94563 ,\n",
       "       158.09735 , 137.26129 , 114.576485, 156.70152 , 110.84979 ,\n",
       "       272.01245 , 158.07033 , 127.5487  , 401.99823 ,  99.53059 ,\n",
       "       135.04538 , 136.15356 ,  83.38861 , 165.5414  , 151.92711 ,\n",
       "       153.24623 , 128.44183 , 130.76242 , 116.40652 , 159.9481  ,\n",
       "       160.07933 , 122.71535 ,  98.104164, 144.46494 , 128.16144 ,\n",
       "       203.68925 , 132.54492 , 111.05285 , 134.72629 ,  95.99586 ,\n",
       "       161.07135 , 130.7806  , 133.28845 , 142.48068 , 259.10516 ,\n",
       "       131.05211 , 125.315926,  91.68504 , 131.5346  , 169.47025 ,\n",
       "       109.49454 , 190.89665 , 112.46115 , 129.69415 , 120.21182 ,\n",
       "       165.5414  , 127.069496, 117.803185, 118.957924, 168.17554 ,\n",
       "       124.21845 , 167.48355 , 111.497185, 121.18428 , 121.142456,\n",
       "       157.45001 , 121.90916 , 189.75974 , 151.5724  , 100.150925,\n",
       "       132.21837 , 132.998   , 116.22933 , 103.7371  , 167.48091 ,\n",
       "        97.82179 , 117.87349 , 131.77509 , 157.45001 , 169.67412 ,\n",
       "       101.24787 , 105.177155, 143.47928 ,  88.12455 , 112.56076 ,\n",
       "       155.57416 , 130.76242 , 112.373604, 126.3352  , 245.41689 ,\n",
       "       130.76242 , 103.31872 , 150.56886 , 115.326614, 106.27107 ,\n",
       "        93.52302 , 392.9033  , 179.40945 ,  87.11425 , 154.90968 ,\n",
       "       150.15007 , 120.63686 , 146.25389 , 134.3287  , 100.401825,\n",
       "       115.79596 , 189.32716 , 167.86806 , 140.03075 , 207.25536 ,\n",
       "       190.79524 ,  97.665016, 164.46693 , 111.16753 , 117.87349 ,\n",
       "       110.36845 , 127.22965 , 119.86495 , 436.85864 , 118.75891 ,\n",
       "       124.21845 , 168.99292 , 147.45995 , 132.53427 , 149.81439 ,\n",
       "       154.50009 , 197.24393 , 193.30334 , 119.88823 , 155.88147 ,\n",
       "       187.49335 , 122.46012 ,  68.902145, 190.89665 , 129.80434 ,\n",
       "        95.396355, 129.82043 , 130.94394 , 151.23068 , 133.0076  ,\n",
       "       322.40552 , 130.54924 , 109.03207 ,  92.2067  ,  97.218735,\n",
       "       163.5537  , 114.6528  , 118.172745, 110.29835 , 104.53088 ,\n",
       "       153.67638 , 113.574715, 164.21103 , 183.87868 , 137.50208 ,\n",
       "       124.21845 , 139.02538 , 100.94736 , 113.00293 , 259.10516 ,\n",
       "       190.89665 , 133.95956 , 142.12833 , 160.1891  , 109.70588 ,\n",
       "       113.574715, 119.259674, 148.5674  , 118.35784 , 109.03207 ,\n",
       "       165.68398 , 170.69293 , 152.40276 , 292.8907  , 345.90836 ,\n",
       "       124.21845 , 159.92662 , 142.18071 , 118.31065 , 128.7611  ,\n",
       "       116.83228 , 103.08214 , 178.23067 , 152.01648 , 158.97597 ,\n",
       "       137.2085  , 112.957306,  97.53339 ,  93.073685, 127.08834 ,\n",
       "       148.10182 , 109.5624  , 206.32495 , 110.8687  , 214.1427  ,\n",
       "       193.77641 , 104.88003 , 122.39589 , 146.64697 , 227.45578 ,\n",
       "       170.49908 , 129.7136  , 135.81932 , 181.88394 , 120.69834 ,\n",
       "        83.38861 , 138.86913 , 151.5724  , 133.39154 ,  85.92332 ,\n",
       "       128.83746 , 154.95605 , 102.96717 , 181.7414  , 130.89061 ,\n",
       "       143.88942 , 133.49704 , 190.89665 , 113.76523 , 261.49466 ,\n",
       "       124.44001 ,  86.8762  ,  80.53702 , 118.715385, 112.79162 ,\n",
       "       143.88942 , 164.35823 , 185.5889  , 117.41284 , 114.41537 ,\n",
       "       153.7904  , 190.80261 , 126.52249 , 103.6569  , 127.36003 ,\n",
       "       102.424675,  97.94312 , 119.15906 , 141.63235 , 131.49014 ,\n",
       "        96.697296, 165.32417 , 133.14604 ,  96.51193 ,  97.038376,\n",
       "       140.4309  , 137.80264 , 137.06601 , 138.73233 ,  92.223076,\n",
       "       149.6433  , 140.46376 , 261.14166 , 155.89034 , 103.32942 ,\n",
       "       131.6699  , 131.68906 , 136.36357 , 113.33084 , 118.339264,\n",
       "       143.81064 , 120.365685, 113.574715, 119.70949 , 125.15174 ,\n",
       "       109.03207 , 143.66714 , 140.03075 , 169.80363 , 134.94513 ,\n",
       "        95.71762 , 190.89665 , 140.82446 , 155.12889 , 108.69311 ,\n",
       "       130.67569 , 284.45016 , 112.957306, 135.74295 , 121.9127  ,\n",
       "       192.6471  , 172.83577 , 137.27151 , 196.16896 , 129.1354  ,\n",
       "       142.12833 , 140.46376 , 130.87582 , 134.05014 ,  98.83623 ,\n",
       "       206.58488 , 145.3431  , 125.315926, 152.52916 , 208.84248 ,\n",
       "       147.43579 , 125.80428 , 148.96964 , 345.90836 , 142.86208 ,\n",
       "       201.89478 , 131.61307 , 131.74968 , 142.12833 , 123.04072 ,\n",
       "       147.28307 ,  90.22209 , 229.3856  ,  93.52302 , 128.83746 ,\n",
       "        93.52302 , 149.65103 , 251.25702 ,  84.43266 ,  83.38861 ,\n",
       "       132.54492 , 347.77368 ,  85.576256, 244.25935 , 146.98251 ,\n",
       "       117.23546 ,  92.223076, 162.6464  , 167.46625 , 182.1182  ,\n",
       "       145.59502 , 146.01859 , 140.9283  , 109.85183 ,  94.52431 ,\n",
       "       136.23    , 160.1891  , 179.40945 ,  85.92332 , 157.7735  ,\n",
       "       151.20668 , 129.69415 , 107.732124, 124.483864, 143.89124 ,\n",
       "       122.203896, 167.48355 , 117.61168 , 124.71557 , 121.00519 ,\n",
       "       158.45702 , 107.716156, 115.54847 , 118.168884, 106.87421 ,\n",
       "       146.67096 ,  99.3269  , 362.8794  , 102.37558 ,  93.50601 ,\n",
       "       133.99971 , 154.90968 , 126.233955, 232.94778 , 142.51295 ,\n",
       "       143.35982 ,  97.13779 , 190.89665 , 147.99657 , 155.89034 ,\n",
       "       116.38448 , 109.03207 ,  80.53702 , 131.13565 , 131.61307 ,\n",
       "       106.70332 , 169.47025 , 129.84213 ,  86.23612 , 143.34988 ,\n",
       "       150.22458 , 200.63383 , 132.4356  , 149.78523 ,  79.8703  ,\n",
       "       134.21475 , 189.69646 , 264.7059  , 152.11644 , 123.88663 ,\n",
       "       113.768005, 145.26616 , 137.18419 ,  92.47069 ,  96.805145,\n",
       "        91.17497 , 139.72392 , 126.59465 , 147.28307 , 142.89316 ,\n",
       "       120.83034 , 124.483864, 142.12833 , 116.018234, 139.02505 ,\n",
       "       169.07703 , 124.21845 , 162.28387 , 155.4543  , 110.06763 ,\n",
       "       107.54765 , 162.09885 , 114.54649 , 157.53395 , 100.58125 ,\n",
       "       134.34535 ,  90.22209 , 143.30563 , 155.13048 , 118.734375,\n",
       "        87.687386, 186.84946 , 100.892975, 179.78142 ,  93.073685,\n",
       "       182.42722 , 100.734   ,  85.92332 , 114.52895 , 107.518234,\n",
       "       146.53606 , 118.31065 , 120.82423 , 306.24783 , 136.26065 ,\n",
       "        91.747696, 109.01009 , 148.86038 , 114.17205 , 116.090294,\n",
       "       115.79596 , 115.54847 , 125.98898 , 114.17205 , 302.8515  ,\n",
       "       138.86913 ,  90.82937 ,  93.52302 , 131.82263 , 131.09906 ,\n",
       "       332.19617 , 107.31408 , 136.07726 , 129.52448 , 119.55787 ,\n",
       "       107.518234, 111.6559  , 170.52007 , 225.16988 , 153.24623 ,\n",
       "       114.20239 ,  95.51357 , 116.869225, 107.357124, 159.44446 ,\n",
       "       188.6467  , 139.02538 , 130.31364 ,  94.166046, 134.67117 ,\n",
       "       170.43001 , 122.53327 , 207.61525 , 223.39473 , 143.35982 ,\n",
       "       141.03915 , 142.90913 , 131.61307 , 227.09416 , 129.3352  ,\n",
       "       130.7806  , 113.33084 , 137.02274 , 192.6471  ,  91.17497 ,\n",
       "       125.63329 , 167.48355 , 130.76242 , 196.79094 , 119.99312 ,\n",
       "       146.721   , 118.31065 , 150.94574 , 131.72731 , 142.12833 ,\n",
       "       147.16084 , 126.22601 , 147.53217 , 121.552864, 154.48135 ,\n",
       "       103.43496 , 129.7136  , 193.02899 , 142.86208 , 152.04599 ,\n",
       "       129.58755 , 178.26157 , 127.90786 ,  86.02129 , 145.31993 ,\n",
       "       119.00318 , 155.89034 , 120.11369 , 107.62197 , 174.84286 ,\n",
       "       118.31065 ,  85.92332 , 241.30824 , 100.90765 , 223.88591 ,\n",
       "       139.52928 , 173.31686 , 108.90683 , 113.33084 ,  95.71762 ,\n",
       "        96.697296, 107.16355 ,  95.71762 , 144.78084 , 127.069496,\n",
       "       124.99408 , 272.18433 , 165.55489 , 173.53593 , 122.39589 ,\n",
       "       170.91295 , 172.63197 , 162.27939 , 137.00252 ,  87.71972 ,\n",
       "       117.94097 , 101.10392 , 135.6453  , 132.90683 , 196.58453 ,\n",
       "       142.12833 , 115.040375, 146.12422 ,  97.218735, 143.4823  ,\n",
       "       123.002144, 138.73233 , 146.06183 , 115.16625 , 105.332855,\n",
       "       145.57175 , 102.7846  , 173.72278 , 125.11671 , 144.72249 ,\n",
       "       114.89547 , 139.99168 , 155.4543  , 112.617   , 169.80363 ,\n",
       "       155.89034 , 131.5346  , 154.2395  , 127.22965 , 110.06647 ,\n",
       "        93.50601 , 140.46376 , 150.24806 , 124.83649 , 160.1891  ,\n",
       "        85.44307 , 123.18402 , 153.64339 , 104.434944, 151.44965 ,\n",
       "       127.88201 , 153.6972  , 200.84323 , 135.11383 , 104.88003 ,\n",
       "       652.5541  , 126.68916 , 142.69852 , 146.18263 , 151.87378 ,\n",
       "       130.36157 ,  98.668396, 169.31204 , 421.10065 , 103.390564,\n",
       "       122.02573 , 142.86208 , 168.17558 , 123.0038  , 120.82347 ,\n",
       "       113.574715, 131.77509 , 149.58087 , 131.74968 ,  90.82937 ,\n",
       "       123.60093 , 165.75212 , 146.06183 , 173.20618 , 114.89547 ,\n",
       "       113.33084 , 136.27054 , 153.46321 , 144.69937 , 149.81439 ,\n",
       "       231.01079 ,  78.626785,  96.697296, 163.95192 , 145.88922 ,\n",
       "       150.38925 , 236.22559 , 140.03075 , 159.12085 , 138.07993 ,\n",
       "        90.82937 , 196.22205 ,  96.51193 , 108.62889 , 134.94513 ,\n",
       "       145.73761 ,  98.54498 , 138.70966 , 225.94884 , 229.15826 ,\n",
       "       130.7806  , 166.21791 , 118.31065 , 141.60971 , 109.03207 ,\n",
       "       173.39659 , 170.69293 ,  98.73168 , 101.714355, 135.66965 ,\n",
       "       154.96736 , 104.37999 , 302.72098 , 281.0053  , 120.25303 ,\n",
       "       132.1577  , 139.98671 ,  94.99376 , 233.13824 , 159.48041 ,\n",
       "       128.71924 , 132.28522 , 143.17548 , 136.27054 , 173.39659 ,\n",
       "       137.13428 , 215.37656 , 151.5724  , 163.66216 , 163.57224 ,\n",
       "       127.86493 , 206.37073 , 138.55006 , 224.10023 , 119.43875 ,\n",
       "       161.11719 , 190.89665 , 182.5115  , 127.22965 , 106.46858 ,\n",
       "        85.92332 , 291.59723 , 102.95433 , 160.07933 , 135.98396 ,\n",
       "       163.81067 , 165.75212 , 103.7613  ], dtype=float32)"
      ]
     },
     "execution_count": 66,
     "metadata": {},
     "output_type": "execute_result"
    }
   ],
   "source": [
    "y_pred"
   ]
  },
  {
   "cell_type": "markdown",
   "metadata": {},
   "source": [
    "### Model Evaluation"
   ]
  },
  {
   "cell_type": "code",
   "execution_count": 67,
   "metadata": {},
   "outputs": [
    {
     "data": {
      "text/plain": [
       "313592.4101101216"
      ]
     },
     "execution_count": 67,
     "metadata": {},
     "output_type": "execute_result"
    }
   ],
   "source": [
    "mse = mean_squared_error(y_test,y_pred)\n",
    "mse"
   ]
  },
  {
   "cell_type": "code",
   "execution_count": 68,
   "metadata": {},
   "outputs": [
    {
     "data": {
      "text/plain": [
       "559.993223271605"
      ]
     },
     "execution_count": 68,
     "metadata": {},
     "output_type": "execute_result"
    }
   ],
   "source": [
    "rmse = np.sqrt(mse)\n",
    "rmse"
   ]
  },
  {
   "cell_type": "code",
   "execution_count": 69,
   "metadata": {},
   "outputs": [
    {
     "data": {
      "text/plain": [
       "0.003124127415791933"
      ]
     },
     "execution_count": 69,
     "metadata": {},
     "output_type": "execute_result"
    }
   ],
   "source": [
    "r2score = r2_score(y_test,y_pred)\n",
    "r2score"
   ]
  },
  {
   "cell_type": "code",
   "execution_count": 70,
   "metadata": {},
   "outputs": [
    {
     "data": {
      "image/png": "[encoded data removed]",
      "text/plain": [
       "<Figure size 720x576 with 1 Axes>"
      ]
     },
     "metadata": {},
     "output_type": "display_data"
    }
   ],
   "source": [
    "fig, ax = plt.subplots(figsize=(10,8))\n",
    "sns.regplot(x=y_test, y=y_pred, ax=ax)\n",
    "plt.title(\"Plot to compare actual vs predicted\")\n",
    "plt.ylabel(\"Predicted\")\n",
    "plt.xlabel(\"Actual\")\n",
    "plt.show()"
   ]
  },
  {
   "cell_type": "markdown",
   "metadata": {},
   "source": [
    "### Available importance_types = [‘weight’, ‘gain’, ‘cover’, ‘total_gain’, ‘total_cover’]"
   ]
  },
  {
   "cell_type": "code",
   "execution_count": 73,
   "metadata": {},
   "outputs": [
    {
     "data": {
      "text/plain": [
       "Index(['bldgarea', 'bldgdepth', 'builtfar', 'facilfar', 'lotarea', 'lotdepth', 'numbldgs', 'numfloors', 'resarea', 'residfar', 'age'], dtype='object')"
      ]
     },
     "execution_count": 73,
     "metadata": {},
     "output_type": "execute_result"
    }
   ],
   "source": [
    "X.columns"
   ]
  },
  {
   "cell_type": "code",
   "execution_count": 74,
   "metadata": {},
   "outputs": [],
   "source": [
    "xgbmodel.get_booster().feature_names = ['bldgarea', 'bldgdepth', 'builtfar', 'facilfar', 'lotarea', 'lotdepth', 'numbldgs', 'numfloors', 'resarea', 'residfar', 'age']"
   ]
  },
  {
   "cell_type": "code",
   "execution_count": 75,
   "metadata": {},
   "outputs": [
    {
     "data": {
      "image/png": "[encoded data removed]",
      "text/plain": [
       "<Figure size 1440x720 with 1 Axes>"
      ]
     },
     "metadata": {},
     "output_type": "display_data"
    }
   ],
   "source": [
    "fig, ax = plt.subplots(figsize=(20,10))\n",
    "xgb.plot_importance(xgbmodel.get_booster(),ax=ax)\n",
    "plt.show()"
   ]
  },
  {
   "cell_type": "code",
   "execution_count": 79,
   "metadata": {},
   "outputs": [
    {
     "data": {
      "image/png": "[encoded data removed]",
      "text/plain": [
       "<Figure size 1440x720 with 1 Axes>"
      ]
     },
     "metadata": {},
     "output_type": "display_data"
    }
   ],
   "source": [
    "fig, ax = plt.subplots(figsize=(20,10))\n",
    "plot_importance(xgbmodel, importance_type='gain', ax=ax)\n",
    "plt.show()"
   ]
  },
  {
   "cell_type": "code",
   "execution_count": 80,
   "metadata": {},
   "outputs": [
    {
     "data": {
      "image/png": "[encoded data removed]",
      "text/plain": [
       "<Figure size 1440x720 with 1 Axes>"
      ]
     },
     "metadata": {},
     "output_type": "display_data"
    }
   ],
   "source": [
    "fig, ax = plt.subplots(figsize=(20,10))\n",
    "plot_importance(xgbmodel, importance_type='weight', ax=ax)\n",
    "plt.show()"
   ]
  },
  {
   "cell_type": "markdown",
   "metadata": {},
   "source": [
    "### Cross-Validation"
   ]
  },
  {
   "cell_type": "code",
   "execution_count": 81,
   "metadata": {},
   "outputs": [
    {
     "name": "stderr",
     "output_type": "stream",
     "text": [
      "[Parallel(n_jobs=1)]: Using backend SequentialBackend with 1 concurrent workers.\n",
      "[Parallel(n_jobs=1)]: Done   5 out of   5 | elapsed:    2.1s finished\n"
     ]
    }
   ],
   "source": [
    "cv = cross_val_score(xgbmodel,X,y,cv=5,verbose=1,scoring='r2')"
   ]
  },
  {
   "cell_type": "code",
   "execution_count": 82,
   "metadata": {},
   "outputs": [
    {
     "data": {
      "text/plain": [
       "-0.18458769299863578"
      ]
     },
     "execution_count": 82,
     "metadata": {},
     "output_type": "execute_result"
    }
   ],
   "source": [
    "cv.mean()"
   ]
  },
  {
   "cell_type": "markdown",
   "metadata": {},
   "source": [
    "### Save the Model"
   ]
  },
  {
   "cell_type": "code",
   "execution_count": 83,
   "metadata": {},
   "outputs": [],
   "source": [
    "filename = 'complainmodel2.sav'\n",
    "dump(xgbmodel,open(filename,'wb'))"
   ]
  },
  {
   "cell_type": "markdown",
   "metadata": {},
   "source": [
    "### Load the Model"
   ]
  },
  {
   "cell_type": "code",
   "execution_count": 84,
   "metadata": {},
   "outputs": [],
   "source": [
    "loaded_model = load(open(filename,'rb'))"
   ]
  },
  {
   "cell_type": "code",
   "execution_count": 85,
   "metadata": {},
   "outputs": [
    {
     "data": {
      "text/plain": [
       "XGBRegressor(base_score=0.5, booster='gbtree', colsample_bylevel=1,\n",
       "             colsample_bynode=1, colsample_bytree=0.8, gamma=2, gpu_id=-1,\n",
       "             importance_type='gain', interaction_constraints='',\n",
       "             learning_rate=0.1, max_delta_step=0, max_depth=4,\n",
       "             min_child_weight=2, missing=nan, monotone_constraints='()',\n",
       "             n_estimators=200, n_jobs=0, num_parallel_tree=1, random_state=0,\n",
       "             reg_alpha=0.1, reg_lambda=0.4, scale_pos_weight=1, subsample=0.7,\n",
       "             tree_method='exact', validate_parameters=1, verbosity=None)"
      ]
     },
     "execution_count": 85,
     "metadata": {},
     "output_type": "execute_result"
    }
   ],
   "source": [
    "loaded_model"
   ]
  }
 ],
 "metadata": {
  "kernelspec": {
   "display_name": "Python 3",
   "language": "python",
   "name": "python3"
  },
  "language_info": {
   "codemirror_mode": {
    "name": "ipython",
    "version": 3
   },
   "file_extension": ".py",
   "mimetype": "text/x-python",
   "name": "python",
   "nbconvert_exporter": "python",
   "pygments_lexer": "ipython3",
   "version": "3.8.3"
  }
 },
 "nbformat": 4,
 "nbformat_minor": 4
}
