{
 "cells": [
  {
   "cell_type": "markdown",
   "metadata": {},
   "source": [
    "### Objective for Exercise"
   ]
  },
  {
   "cell_type": "markdown",
   "metadata": {},
   "source": [
    "Use your machine learning skills to build a predictive model to help a business function more efficiently."
   ]
  },
  {
   "cell_type": "markdown",
   "metadata": {},
   "source": [
    "The goal of this exercise is to do Model Development and Validation to find the answer to the Question 4 of the problem statement:\n",
    "\n",
    "**Can a predictive model be built for future prediction of the possibility of complaints of the specific type that you identified in response to Question 1?**"
   ]
  },
  {
   "cell_type": "markdown",
   "metadata": {},
   "source": [
    "In this exercise, you will use a feature-engineered dataset to determine whether a predictive model can be built to predict the complaint (of the Complaint Type that you decided to focus on in Week 2) by using past data.\n",
    "\n",
    "Using the best model, you need to predict the number of future complaints (of the Complaint Type that you decided to focus on in Question 1)."
   ]
  },
  {
   "cell_type": "markdown",
   "metadata": {},
   "source": [
    "### Import Libraries"
   ]
  },
  {
   "cell_type": "code",
   "execution_count": 1,
   "metadata": {},
   "outputs": [],
   "source": [
    "import numpy as np\n",
    "import pandas as pd\n",
    "import matplotlib.pyplot as plt\n",
    "import seaborn as sns\n",
    "import sklearn\n",
    "import shap\n",
    "\n",
    "import xgboost as xgb\n",
    "from xgboost import XGBClassifier, XGBRegressor\n",
    "from xgboost import to_graphviz, plot_importance, plot_tree\n",
    "\n",
    "from sklearn.ensemble import RandomForestRegressor\n",
    "\n",
    "%matplotlib inline\n",
    "sns.set_style('dark')\n",
    "sns.set(font_scale=1.2)\n",
    "\n",
    "from sklearn.inspection import permutation_importance\n",
    "from sklearn.model_selection import cross_val_score, train_test_split, GridSearchCV, RandomizedSearchCV\n",
    "from sklearn.preprocessing import LabelEncoder, StandardScaler, MinMaxScaler, OneHotEncoder\n",
    "from sklearn.pipeline import Pipeline\n",
    "from sklearn.metrics import confusion_matrix, classification_report, mean_absolute_error, mean_squared_error,r2_score\n",
    "from sklearn.metrics import plot_confusion_matrix, plot_precision_recall_curve, plot_roc_curve, accuracy_score\n",
    "from sklearn.metrics import auc, f1_score, precision_score, recall_score, roc_auc_score\n",
    "\n",
    "import warnings\n",
    "warnings.filterwarnings('ignore')\n",
    "\n",
    "import pickle\n",
    "from pickle import dump, load\n",
    "\n",
    "np.random.seed(0)\n",
    "\n",
    "#from pycaret.classification import *\n",
    "#from pycaret.clustering import *\n",
    "#from pycaret.regression import *\n",
    "\n",
    "pd.set_option('display.max_columns',100)\n",
    "#pd.set_option('display.max_rows',100)\n",
    "pd.set_option('display.width', 1000)"
   ]
  },
  {
   "cell_type": "markdown",
   "metadata": {},
   "source": [
    "### Data Exploration and Analysis"
   ]
  },
  {
   "cell_type": "code",
   "execution_count": 2,
   "metadata": {},
   "outputs": [],
   "source": [
    "df = pd.read_csv(\"comptrain.csv\")"
   ]
  },
  {
   "cell_type": "code",
   "execution_count": 3,
   "metadata": {},
   "outputs": [
    {
     "data": {
      "text/html": [
       "<div>\n",
       "<style scoped>\n",
       "    .dataframe tbody tr th:only-of-type {\n",
       "        vertical-align: middle;\n",
       "    }\n",
       "\n",
       "    .dataframe tbody tr th {\n",
       "        vertical-align: top;\n",
       "    }\n",
       "\n",
       "    .dataframe thead th {\n",
       "        text-align: right;\n",
       "    }\n",
       "</style>\n",
       "<table border=\"1\" class=\"dataframe\">\n",
       "  <thead>\n",
       "    <tr style=\"text-align: right;\">\n",
       "      <th></th>\n",
       "      <th>Age</th>\n",
       "      <th>BldgArea</th>\n",
       "      <th>BldgDepth</th>\n",
       "      <th>BuiltFAR</th>\n",
       "      <th>FacilFAR</th>\n",
       "      <th>Lot</th>\n",
       "      <th>LotArea</th>\n",
       "      <th>LotDepth</th>\n",
       "      <th>NumBldgs</th>\n",
       "      <th>NumFloors</th>\n",
       "      <th>ResidFAR</th>\n",
       "      <th>Count</th>\n",
       "    </tr>\n",
       "  </thead>\n",
       "  <tbody>\n",
       "    <tr>\n",
       "      <th>0</th>\n",
       "      <td>16.0</td>\n",
       "      <td>3348.0</td>\n",
       "      <td>52.6</td>\n",
       "      <td>1.57</td>\n",
       "      <td>4.8</td>\n",
       "      <td>180</td>\n",
       "      <td>2133.0</td>\n",
       "      <td>100.00</td>\n",
       "      <td>1.0</td>\n",
       "      <td>3.0</td>\n",
       "      <td>3.44</td>\n",
       "      <td>2</td>\n",
       "    </tr>\n",
       "    <tr>\n",
       "      <th>1</th>\n",
       "      <td>89.0</td>\n",
       "      <td>8080.0</td>\n",
       "      <td>105.0</td>\n",
       "      <td>2.82</td>\n",
       "      <td>6.5</td>\n",
       "      <td>35</td>\n",
       "      <td>2861.0</td>\n",
       "      <td>114.25</td>\n",
       "      <td>1.0</td>\n",
       "      <td>3.0</td>\n",
       "      <td>3.44</td>\n",
       "      <td>1</td>\n",
       "    </tr>\n",
       "    <tr>\n",
       "      <th>2</th>\n",
       "      <td>89.0</td>\n",
       "      <td>2280.0</td>\n",
       "      <td>114.0</td>\n",
       "      <td>1.00</td>\n",
       "      <td>6.5</td>\n",
       "      <td>34</td>\n",
       "      <td>2289.0</td>\n",
       "      <td>114.49</td>\n",
       "      <td>1.0</td>\n",
       "      <td>1.0</td>\n",
       "      <td>3.44</td>\n",
       "      <td>1</td>\n",
       "    </tr>\n",
       "    <tr>\n",
       "      <th>3</th>\n",
       "      <td>57.0</td>\n",
       "      <td>10868.0</td>\n",
       "      <td>95.0</td>\n",
       "      <td>1.00</td>\n",
       "      <td>6.5</td>\n",
       "      <td>26</td>\n",
       "      <td>10868.0</td>\n",
       "      <td>95.00</td>\n",
       "      <td>1.0</td>\n",
       "      <td>1.0</td>\n",
       "      <td>3.44</td>\n",
       "      <td>1</td>\n",
       "    </tr>\n",
       "    <tr>\n",
       "      <th>4</th>\n",
       "      <td>89.0</td>\n",
       "      <td>20200.0</td>\n",
       "      <td>136.0</td>\n",
       "      <td>2.69</td>\n",
       "      <td>6.5</td>\n",
       "      <td>21</td>\n",
       "      <td>7513.0</td>\n",
       "      <td>145.98</td>\n",
       "      <td>1.0</td>\n",
       "      <td>3.0</td>\n",
       "      <td>3.44</td>\n",
       "      <td>1</td>\n",
       "    </tr>\n",
       "    <tr>\n",
       "      <th>...</th>\n",
       "      <td>...</td>\n",
       "      <td>...</td>\n",
       "      <td>...</td>\n",
       "      <td>...</td>\n",
       "      <td>...</td>\n",
       "      <td>...</td>\n",
       "      <td>...</td>\n",
       "      <td>...</td>\n",
       "      <td>...</td>\n",
       "      <td>...</td>\n",
       "      <td>...</td>\n",
       "      <td>...</td>\n",
       "    </tr>\n",
       "    <tr>\n",
       "      <th>79574</th>\n",
       "      <td>95.0</td>\n",
       "      <td>6280.0</td>\n",
       "      <td>65.0</td>\n",
       "      <td>2.12</td>\n",
       "      <td>4.8</td>\n",
       "      <td>60</td>\n",
       "      <td>2960.0</td>\n",
       "      <td>118.33</td>\n",
       "      <td>1.0</td>\n",
       "      <td>4.0</td>\n",
       "      <td>2.43</td>\n",
       "      <td>1</td>\n",
       "    </tr>\n",
       "    <tr>\n",
       "      <th>79575</th>\n",
       "      <td>121.0</td>\n",
       "      <td>2952.0</td>\n",
       "      <td>30.0</td>\n",
       "      <td>1.00</td>\n",
       "      <td>4.8</td>\n",
       "      <td>59</td>\n",
       "      <td>2958.0</td>\n",
       "      <td>118.33</td>\n",
       "      <td>1.0</td>\n",
       "      <td>2.0</td>\n",
       "      <td>2.43</td>\n",
       "      <td>1</td>\n",
       "    </tr>\n",
       "    <tr>\n",
       "      <th>79576</th>\n",
       "      <td>121.0</td>\n",
       "      <td>1750.0</td>\n",
       "      <td>35.0</td>\n",
       "      <td>0.59</td>\n",
       "      <td>4.8</td>\n",
       "      <td>58</td>\n",
       "      <td>2958.0</td>\n",
       "      <td>118.33</td>\n",
       "      <td>1.0</td>\n",
       "      <td>2.0</td>\n",
       "      <td>2.43</td>\n",
       "      <td>1</td>\n",
       "    </tr>\n",
       "    <tr>\n",
       "      <th>79577</th>\n",
       "      <td>121.0</td>\n",
       "      <td>2280.0</td>\n",
       "      <td>30.0</td>\n",
       "      <td>0.77</td>\n",
       "      <td>4.8</td>\n",
       "      <td>71</td>\n",
       "      <td>2960.0</td>\n",
       "      <td>118.40</td>\n",
       "      <td>2.0</td>\n",
       "      <td>2.0</td>\n",
       "      <td>2.43</td>\n",
       "      <td>1</td>\n",
       "    </tr>\n",
       "    <tr>\n",
       "      <th>79578</th>\n",
       "      <td>100.0</td>\n",
       "      <td>8958.0</td>\n",
       "      <td>45.0</td>\n",
       "      <td>2.01</td>\n",
       "      <td>4.8</td>\n",
       "      <td>9</td>\n",
       "      <td>4454.0</td>\n",
       "      <td>70.25</td>\n",
       "      <td>2.0</td>\n",
       "      <td>3.0</td>\n",
       "      <td>2.43</td>\n",
       "      <td>1</td>\n",
       "    </tr>\n",
       "  </tbody>\n",
       "</table>\n",
       "<p>79579 rows × 12 columns</p>\n",
       "</div>"
      ],
      "text/plain": [
       "         Age  BldgArea  BldgDepth  BuiltFAR  FacilFAR  Lot  LotArea  LotDepth  NumBldgs  NumFloors  ResidFAR  Count\n",
       "0       16.0    3348.0       52.6      1.57       4.8  180   2133.0    100.00       1.0        3.0      3.44      2\n",
       "1       89.0    8080.0      105.0      2.82       6.5   35   2861.0    114.25       1.0        3.0      3.44      1\n",
       "2       89.0    2280.0      114.0      1.00       6.5   34   2289.0    114.49       1.0        1.0      3.44      1\n",
       "3       57.0   10868.0       95.0      1.00       6.5   26  10868.0     95.00       1.0        1.0      3.44      1\n",
       "4       89.0   20200.0      136.0      2.69       6.5   21   7513.0    145.98       1.0        3.0      3.44      1\n",
       "...      ...       ...        ...       ...       ...  ...      ...       ...       ...        ...       ...    ...\n",
       "79574   95.0    6280.0       65.0      2.12       4.8   60   2960.0    118.33       1.0        4.0      2.43      1\n",
       "79575  121.0    2952.0       30.0      1.00       4.8   59   2958.0    118.33       1.0        2.0      2.43      1\n",
       "79576  121.0    1750.0       35.0      0.59       4.8   58   2958.0    118.33       1.0        2.0      2.43      1\n",
       "79577  121.0    2280.0       30.0      0.77       4.8   71   2960.0    118.40       2.0        2.0      2.43      1\n",
       "79578  100.0    8958.0       45.0      2.01       4.8    9   4454.0     70.25       2.0        3.0      2.43      1\n",
       "\n",
       "[79579 rows x 12 columns]"
      ]
     },
     "execution_count": 3,
     "metadata": {},
     "output_type": "execute_result"
    }
   ],
   "source": [
    "df"
   ]
  },
  {
   "cell_type": "code",
   "execution_count": 4,
   "metadata": {},
   "outputs": [
    {
     "name": "stdout",
     "output_type": "stream",
     "text": [
      "<class 'pandas.core.frame.DataFrame'>\n",
      "RangeIndex: 79579 entries, 0 to 79578\n",
      "Data columns (total 12 columns):\n",
      " #   Column     Non-Null Count  Dtype  \n",
      "---  ------     --------------  -----  \n",
      " 0   Age        79579 non-null  float64\n",
      " 1   BldgArea   79579 non-null  float64\n",
      " 2   BldgDepth  79579 non-null  float64\n",
      " 3   BuiltFAR   79579 non-null  float64\n",
      " 4   FacilFAR   79579 non-null  float64\n",
      " 5   Lot        79579 non-null  int64  \n",
      " 6   LotArea    79579 non-null  float64\n",
      " 7   LotDepth   79579 non-null  float64\n",
      " 8   NumBldgs   79579 non-null  float64\n",
      " 9   NumFloors  79579 non-null  float64\n",
      " 10  ResidFAR   79579 non-null  float64\n",
      " 11  Count      79579 non-null  int64  \n",
      "dtypes: float64(10), int64(2)\n",
      "memory usage: 7.3 MB\n"
     ]
    }
   ],
   "source": [
    "df.info()"
   ]
  },
  {
   "cell_type": "code",
   "execution_count": 5,
   "metadata": {},
   "outputs": [
    {
     "data": {
      "text/html": [
       "<div>\n",
       "<style scoped>\n",
       "    .dataframe tbody tr th:only-of-type {\n",
       "        vertical-align: middle;\n",
       "    }\n",
       "\n",
       "    .dataframe tbody tr th {\n",
       "        vertical-align: top;\n",
       "    }\n",
       "\n",
       "    .dataframe thead th {\n",
       "        text-align: right;\n",
       "    }\n",
       "</style>\n",
       "<table border=\"1\" class=\"dataframe\">\n",
       "  <thead>\n",
       "    <tr style=\"text-align: right;\">\n",
       "      <th></th>\n",
       "      <th>Age</th>\n",
       "      <th>BldgArea</th>\n",
       "      <th>BldgDepth</th>\n",
       "      <th>BuiltFAR</th>\n",
       "      <th>FacilFAR</th>\n",
       "      <th>Lot</th>\n",
       "      <th>LotArea</th>\n",
       "      <th>LotDepth</th>\n",
       "      <th>NumBldgs</th>\n",
       "      <th>NumFloors</th>\n",
       "      <th>ResidFAR</th>\n",
       "      <th>Count</th>\n",
       "    </tr>\n",
       "  </thead>\n",
       "  <tbody>\n",
       "    <tr>\n",
       "      <th>count</th>\n",
       "      <td>79579.000000</td>\n",
       "      <td>7.957900e+04</td>\n",
       "      <td>79579.000000</td>\n",
       "      <td>79579.000000</td>\n",
       "      <td>79579.000000</td>\n",
       "      <td>79579.000000</td>\n",
       "      <td>7.957900e+04</td>\n",
       "      <td>79579.000000</td>\n",
       "      <td>79579.000000</td>\n",
       "      <td>79579.000000</td>\n",
       "      <td>79579.000000</td>\n",
       "      <td>79579.000000</td>\n",
       "    </tr>\n",
       "    <tr>\n",
       "      <th>mean</th>\n",
       "      <td>76.951243</td>\n",
       "      <td>7.848951e+03</td>\n",
       "      <td>50.813347</td>\n",
       "      <td>1.183410</td>\n",
       "      <td>2.841613</td>\n",
       "      <td>98.750198</td>\n",
       "      <td>5.446940e+03</td>\n",
       "      <td>102.507038</td>\n",
       "      <td>1.244851</td>\n",
       "      <td>2.470468</td>\n",
       "      <td>1.737797</td>\n",
       "      <td>1.000716</td>\n",
       "    </tr>\n",
       "    <tr>\n",
       "      <th>std</th>\n",
       "      <td>29.311971</td>\n",
       "      <td>5.910959e+04</td>\n",
       "      <td>25.152340</td>\n",
       "      <td>1.323196</td>\n",
       "      <td>1.559547</td>\n",
       "      <td>371.276390</td>\n",
       "      <td>3.999712e+04</td>\n",
       "      <td>38.707632</td>\n",
       "      <td>1.415848</td>\n",
       "      <td>1.352439</td>\n",
       "      <td>1.263506</td>\n",
       "      <td>0.046620</td>\n",
       "    </tr>\n",
       "    <tr>\n",
       "      <th>min</th>\n",
       "      <td>3.000000</td>\n",
       "      <td>2.000000e+01</td>\n",
       "      <td>2.000000</td>\n",
       "      <td>0.010000</td>\n",
       "      <td>1.000000</td>\n",
       "      <td>1.000000</td>\n",
       "      <td>2.970000e+02</td>\n",
       "      <td>10.000000</td>\n",
       "      <td>1.000000</td>\n",
       "      <td>0.500000</td>\n",
       "      <td>0.500000</td>\n",
       "      <td>1.000000</td>\n",
       "    </tr>\n",
       "    <tr>\n",
       "      <th>25%</th>\n",
       "      <td>60.000000</td>\n",
       "      <td>1.722000e+03</td>\n",
       "      <td>36.000000</td>\n",
       "      <td>0.630000</td>\n",
       "      <td>2.000000</td>\n",
       "      <td>20.000000</td>\n",
       "      <td>2.185000e+03</td>\n",
       "      <td>95.000000</td>\n",
       "      <td>1.000000</td>\n",
       "      <td>2.000000</td>\n",
       "      <td>0.900000</td>\n",
       "      <td>1.000000</td>\n",
       "    </tr>\n",
       "    <tr>\n",
       "      <th>50%</th>\n",
       "      <td>85.000000</td>\n",
       "      <td>2.310000e+03</td>\n",
       "      <td>46.000000</td>\n",
       "      <td>0.900000</td>\n",
       "      <td>2.000000</td>\n",
       "      <td>41.000000</td>\n",
       "      <td>2.500000e+03</td>\n",
       "      <td>100.000000</td>\n",
       "      <td>1.000000</td>\n",
       "      <td>2.000000</td>\n",
       "      <td>1.250000</td>\n",
       "      <td>1.000000</td>\n",
       "    </tr>\n",
       "    <tr>\n",
       "      <th>75%</th>\n",
       "      <td>100.000000</td>\n",
       "      <td>3.300000e+03</td>\n",
       "      <td>56.000000</td>\n",
       "      <td>1.300000</td>\n",
       "      <td>4.800000</td>\n",
       "      <td>71.000000</td>\n",
       "      <td>3.804000e+03</td>\n",
       "      <td>101.000000</td>\n",
       "      <td>1.000000</td>\n",
       "      <td>3.000000</td>\n",
       "      <td>2.430000</td>\n",
       "      <td>1.000000</td>\n",
       "    </tr>\n",
       "    <tr>\n",
       "      <th>max</th>\n",
       "      <td>220.000000</td>\n",
       "      <td>1.354011e+07</td>\n",
       "      <td>950.000000</td>\n",
       "      <td>238.090000</td>\n",
       "      <td>10.000000</td>\n",
       "      <td>7505.000000</td>\n",
       "      <td>5.048550e+06</td>\n",
       "      <td>2000.000000</td>\n",
       "      <td>251.000000</td>\n",
       "      <td>42.000000</td>\n",
       "      <td>10.000000</td>\n",
       "      <td>12.000000</td>\n",
       "    </tr>\n",
       "  </tbody>\n",
       "</table>\n",
       "</div>"
      ],
      "text/plain": [
       "                Age      BldgArea     BldgDepth      BuiltFAR      FacilFAR           Lot       LotArea      LotDepth      NumBldgs     NumFloors      ResidFAR         Count\n",
       "count  79579.000000  7.957900e+04  79579.000000  79579.000000  79579.000000  79579.000000  7.957900e+04  79579.000000  79579.000000  79579.000000  79579.000000  79579.000000\n",
       "mean      76.951243  7.848951e+03     50.813347      1.183410      2.841613     98.750198  5.446940e+03    102.507038      1.244851      2.470468      1.737797      1.000716\n",
       "std       29.311971  5.910959e+04     25.152340      1.323196      1.559547    371.276390  3.999712e+04     38.707632      1.415848      1.352439      1.263506      0.046620\n",
       "min        3.000000  2.000000e+01      2.000000      0.010000      1.000000      1.000000  2.970000e+02     10.000000      1.000000      0.500000      0.500000      1.000000\n",
       "25%       60.000000  1.722000e+03     36.000000      0.630000      2.000000     20.000000  2.185000e+03     95.000000      1.000000      2.000000      0.900000      1.000000\n",
       "50%       85.000000  2.310000e+03     46.000000      0.900000      2.000000     41.000000  2.500000e+03    100.000000      1.000000      2.000000      1.250000      1.000000\n",
       "75%      100.000000  3.300000e+03     56.000000      1.300000      4.800000     71.000000  3.804000e+03    101.000000      1.000000      3.000000      2.430000      1.000000\n",
       "max      220.000000  1.354011e+07    950.000000    238.090000     10.000000   7505.000000  5.048550e+06   2000.000000    251.000000     42.000000     10.000000     12.000000"
      ]
     },
     "execution_count": 5,
     "metadata": {},
     "output_type": "execute_result"
    }
   ],
   "source": [
    "df.describe(include='all')"
   ]
  },
  {
   "cell_type": "code",
   "execution_count": 6,
   "metadata": {},
   "outputs": [
    {
     "data": {
      "text/plain": [
       "(79579, 12)"
      ]
     },
     "execution_count": 6,
     "metadata": {},
     "output_type": "execute_result"
    }
   ],
   "source": [
    "df.shape"
   ]
  },
  {
   "cell_type": "code",
   "execution_count": 7,
   "metadata": {},
   "outputs": [
    {
     "data": {
      "text/plain": [
       "Index(['Age', 'BldgArea', 'BldgDepth', 'BuiltFAR', 'FacilFAR', 'Lot', 'LotArea', 'LotDepth', 'NumBldgs', 'NumFloors', 'ResidFAR', 'Count'], dtype='object')"
      ]
     },
     "execution_count": 7,
     "metadata": {},
     "output_type": "execute_result"
    }
   ],
   "source": [
    "df.columns"
   ]
  },
  {
   "cell_type": "markdown",
   "metadata": {},
   "source": [
    "### Create a random dataset of 10000 rows"
   ]
  },
  {
   "cell_type": "code",
   "execution_count": 8,
   "metadata": {},
   "outputs": [],
   "source": [
    "df = df.sample(n=10000, random_state=0)"
   ]
  },
  {
   "cell_type": "code",
   "execution_count": 9,
   "metadata": {},
   "outputs": [
    {
     "data": {
      "text/html": [
       "<div>\n",
       "<style scoped>\n",
       "    .dataframe tbody tr th:only-of-type {\n",
       "        vertical-align: middle;\n",
       "    }\n",
       "\n",
       "    .dataframe tbody tr th {\n",
       "        vertical-align: top;\n",
       "    }\n",
       "\n",
       "    .dataframe thead th {\n",
       "        text-align: right;\n",
       "    }\n",
       "</style>\n",
       "<table border=\"1\" class=\"dataframe\">\n",
       "  <thead>\n",
       "    <tr style=\"text-align: right;\">\n",
       "      <th></th>\n",
       "      <th>Age</th>\n",
       "      <th>BldgArea</th>\n",
       "      <th>BldgDepth</th>\n",
       "      <th>BuiltFAR</th>\n",
       "      <th>FacilFAR</th>\n",
       "      <th>Lot</th>\n",
       "      <th>LotArea</th>\n",
       "      <th>LotDepth</th>\n",
       "      <th>NumBldgs</th>\n",
       "      <th>NumFloors</th>\n",
       "      <th>ResidFAR</th>\n",
       "      <th>Count</th>\n",
       "    </tr>\n",
       "  </thead>\n",
       "  <tbody>\n",
       "    <tr>\n",
       "      <th>70667</th>\n",
       "      <td>90.0</td>\n",
       "      <td>2673.0</td>\n",
       "      <td>30.0</td>\n",
       "      <td>0.35</td>\n",
       "      <td>2.0</td>\n",
       "      <td>46</td>\n",
       "      <td>7739.0</td>\n",
       "      <td>156.51</td>\n",
       "      <td>1.0</td>\n",
       "      <td>2.5</td>\n",
       "      <td>0.90</td>\n",
       "      <td>1</td>\n",
       "    </tr>\n",
       "    <tr>\n",
       "      <th>63795</th>\n",
       "      <td>90.0</td>\n",
       "      <td>5025.0</td>\n",
       "      <td>36.0</td>\n",
       "      <td>0.74</td>\n",
       "      <td>1.0</td>\n",
       "      <td>1189</td>\n",
       "      <td>6769.0</td>\n",
       "      <td>95.00</td>\n",
       "      <td>2.0</td>\n",
       "      <td>3.0</td>\n",
       "      <td>0.60</td>\n",
       "      <td>1</td>\n",
       "    </tr>\n",
       "    <tr>\n",
       "      <th>4271</th>\n",
       "      <td>100.0</td>\n",
       "      <td>3065.0</td>\n",
       "      <td>55.0</td>\n",
       "      <td>0.17</td>\n",
       "      <td>1.0</td>\n",
       "      <td>29</td>\n",
       "      <td>18525.0</td>\n",
       "      <td>200.00</td>\n",
       "      <td>1.0</td>\n",
       "      <td>1.5</td>\n",
       "      <td>0.60</td>\n",
       "      <td>1</td>\n",
       "    </tr>\n",
       "    <tr>\n",
       "      <th>14463</th>\n",
       "      <td>95.0</td>\n",
       "      <td>16868.0</td>\n",
       "      <td>125.0</td>\n",
       "      <td>1.55</td>\n",
       "      <td>4.8</td>\n",
       "      <td>19</td>\n",
       "      <td>10866.0</td>\n",
       "      <td>180.00</td>\n",
       "      <td>1.0</td>\n",
       "      <td>2.0</td>\n",
       "      <td>2.43</td>\n",
       "      <td>1</td>\n",
       "    </tr>\n",
       "    <tr>\n",
       "      <th>34371</th>\n",
       "      <td>75.0</td>\n",
       "      <td>2140.0</td>\n",
       "      <td>53.5</td>\n",
       "      <td>0.85</td>\n",
       "      <td>1.0</td>\n",
       "      <td>17</td>\n",
       "      <td>2512.0</td>\n",
       "      <td>102.17</td>\n",
       "      <td>1.0</td>\n",
       "      <td>2.0</td>\n",
       "      <td>0.60</td>\n",
       "      <td>1</td>\n",
       "    </tr>\n",
       "    <tr>\n",
       "      <th>...</th>\n",
       "      <td>...</td>\n",
       "      <td>...</td>\n",
       "      <td>...</td>\n",
       "      <td>...</td>\n",
       "      <td>...</td>\n",
       "      <td>...</td>\n",
       "      <td>...</td>\n",
       "      <td>...</td>\n",
       "      <td>...</td>\n",
       "      <td>...</td>\n",
       "      <td>...</td>\n",
       "      <td>...</td>\n",
       "    </tr>\n",
       "    <tr>\n",
       "      <th>75893</th>\n",
       "      <td>110.0</td>\n",
       "      <td>3060.0</td>\n",
       "      <td>54.0</td>\n",
       "      <td>0.72</td>\n",
       "      <td>2.0</td>\n",
       "      <td>63</td>\n",
       "      <td>4250.0</td>\n",
       "      <td>85.00</td>\n",
       "      <td>2.0</td>\n",
       "      <td>2.0</td>\n",
       "      <td>1.25</td>\n",
       "      <td>1</td>\n",
       "    </tr>\n",
       "    <tr>\n",
       "      <th>29858</th>\n",
       "      <td>33.0</td>\n",
       "      <td>2100.0</td>\n",
       "      <td>50.0</td>\n",
       "      <td>0.63</td>\n",
       "      <td>2.0</td>\n",
       "      <td>42</td>\n",
       "      <td>3308.0</td>\n",
       "      <td>100.00</td>\n",
       "      <td>1.0</td>\n",
       "      <td>1.0</td>\n",
       "      <td>0.90</td>\n",
       "      <td>1</td>\n",
       "    </tr>\n",
       "    <tr>\n",
       "      <th>76874</th>\n",
       "      <td>14.0</td>\n",
       "      <td>3270.0</td>\n",
       "      <td>54.0</td>\n",
       "      <td>1.73</td>\n",
       "      <td>4.8</td>\n",
       "      <td>31</td>\n",
       "      <td>1892.0</td>\n",
       "      <td>94.58</td>\n",
       "      <td>1.0</td>\n",
       "      <td>3.0</td>\n",
       "      <td>3.44</td>\n",
       "      <td>1</td>\n",
       "    </tr>\n",
       "    <tr>\n",
       "      <th>76276</th>\n",
       "      <td>100.0</td>\n",
       "      <td>2310.0</td>\n",
       "      <td>52.0</td>\n",
       "      <td>0.69</td>\n",
       "      <td>2.0</td>\n",
       "      <td>16</td>\n",
       "      <td>3325.0</td>\n",
       "      <td>100.00</td>\n",
       "      <td>2.0</td>\n",
       "      <td>2.0</td>\n",
       "      <td>0.90</td>\n",
       "      <td>1</td>\n",
       "    </tr>\n",
       "    <tr>\n",
       "      <th>60653</th>\n",
       "      <td>95.0</td>\n",
       "      <td>2550.0</td>\n",
       "      <td>45.0</td>\n",
       "      <td>1.07</td>\n",
       "      <td>1.0</td>\n",
       "      <td>358</td>\n",
       "      <td>2375.0</td>\n",
       "      <td>95.00</td>\n",
       "      <td>1.0</td>\n",
       "      <td>2.5</td>\n",
       "      <td>0.60</td>\n",
       "      <td>1</td>\n",
       "    </tr>\n",
       "  </tbody>\n",
       "</table>\n",
       "<p>10000 rows × 12 columns</p>\n",
       "</div>"
      ],
      "text/plain": [
       "         Age  BldgArea  BldgDepth  BuiltFAR  FacilFAR   Lot  LotArea  LotDepth  NumBldgs  NumFloors  ResidFAR  Count\n",
       "70667   90.0    2673.0       30.0      0.35       2.0    46   7739.0    156.51       1.0        2.5      0.90      1\n",
       "63795   90.0    5025.0       36.0      0.74       1.0  1189   6769.0     95.00       2.0        3.0      0.60      1\n",
       "4271   100.0    3065.0       55.0      0.17       1.0    29  18525.0    200.00       1.0        1.5      0.60      1\n",
       "14463   95.0   16868.0      125.0      1.55       4.8    19  10866.0    180.00       1.0        2.0      2.43      1\n",
       "34371   75.0    2140.0       53.5      0.85       1.0    17   2512.0    102.17       1.0        2.0      0.60      1\n",
       "...      ...       ...        ...       ...       ...   ...      ...       ...       ...        ...       ...    ...\n",
       "75893  110.0    3060.0       54.0      0.72       2.0    63   4250.0     85.00       2.0        2.0      1.25      1\n",
       "29858   33.0    2100.0       50.0      0.63       2.0    42   3308.0    100.00       1.0        1.0      0.90      1\n",
       "76874   14.0    3270.0       54.0      1.73       4.8    31   1892.0     94.58       1.0        3.0      3.44      1\n",
       "76276  100.0    2310.0       52.0      0.69       2.0    16   3325.0    100.00       2.0        2.0      0.90      1\n",
       "60653   95.0    2550.0       45.0      1.07       1.0   358   2375.0     95.00       1.0        2.5      0.60      1\n",
       "\n",
       "[10000 rows x 12 columns]"
      ]
     },
     "execution_count": 9,
     "metadata": {},
     "output_type": "execute_result"
    }
   ],
   "source": [
    "df"
   ]
  },
  {
   "cell_type": "markdown",
   "metadata": {},
   "source": [
    "### Train Test Split"
   ]
  },
  {
   "cell_type": "code",
   "execution_count": 10,
   "metadata": {},
   "outputs": [],
   "source": [
    "X = df.iloc[:,0:11]\n",
    "y = df.iloc[:,11]"
   ]
  },
  {
   "cell_type": "code",
   "execution_count": 11,
   "metadata": {},
   "outputs": [
    {
     "data": {
      "text/plain": [
       "(array([[9.000e+01, 2.673e+03, 3.000e+01, ..., 1.000e+00, 2.500e+00,\n",
       "         9.000e-01],\n",
       "        [9.000e+01, 5.025e+03, 3.600e+01, ..., 2.000e+00, 3.000e+00,\n",
       "         6.000e-01],\n",
       "        [1.000e+02, 3.065e+03, 5.500e+01, ..., 1.000e+00, 1.500e+00,\n",
       "         6.000e-01],\n",
       "        ...,\n",
       "        [1.400e+01, 3.270e+03, 5.400e+01, ..., 1.000e+00, 3.000e+00,\n",
       "         3.440e+00],\n",
       "        [1.000e+02, 2.310e+03, 5.200e+01, ..., 2.000e+00, 2.000e+00,\n",
       "         9.000e-01],\n",
       "        [9.500e+01, 2.550e+03, 4.500e+01, ..., 1.000e+00, 2.500e+00,\n",
       "         6.000e-01]]),\n",
       " array([1, 1, 1, ..., 1, 1, 1], dtype=int64))"
      ]
     },
     "execution_count": 11,
     "metadata": {},
     "output_type": "execute_result"
    }
   ],
   "source": [
    "X.values, y.values"
   ]
  },
  {
   "cell_type": "code",
   "execution_count": 12,
   "metadata": {},
   "outputs": [],
   "source": [
    "X_train, X_test, y_train, y_test = train_test_split(X, y, test_size=0.2, random_state=0)"
   ]
  },
  {
   "cell_type": "code",
   "execution_count": 13,
   "metadata": {},
   "outputs": [
    {
     "data": {
      "text/plain": [
       "((8000, 11), (2000, 11), (8000,), (2000,))"
      ]
     },
     "execution_count": 13,
     "metadata": {},
     "output_type": "execute_result"
    }
   ],
   "source": [
    "X_train.shape, X_test.shape, y_train.shape, y_test.shape"
   ]
  },
  {
   "cell_type": "markdown",
   "metadata": {},
   "source": [
    "### Feature Scaling"
   ]
  },
  {
   "cell_type": "code",
   "execution_count": 14,
   "metadata": {},
   "outputs": [
    {
     "data": {
      "text/html": [
       "<div>\n",
       "<style scoped>\n",
       "    .dataframe tbody tr th:only-of-type {\n",
       "        vertical-align: middle;\n",
       "    }\n",
       "\n",
       "    .dataframe tbody tr th {\n",
       "        vertical-align: top;\n",
       "    }\n",
       "\n",
       "    .dataframe thead th {\n",
       "        text-align: right;\n",
       "    }\n",
       "</style>\n",
       "<table border=\"1\" class=\"dataframe\">\n",
       "  <thead>\n",
       "    <tr style=\"text-align: right;\">\n",
       "      <th></th>\n",
       "      <th>Age</th>\n",
       "      <th>BldgArea</th>\n",
       "      <th>BldgDepth</th>\n",
       "      <th>BuiltFAR</th>\n",
       "      <th>FacilFAR</th>\n",
       "      <th>Lot</th>\n",
       "      <th>LotArea</th>\n",
       "      <th>LotDepth</th>\n",
       "      <th>NumBldgs</th>\n",
       "      <th>NumFloors</th>\n",
       "      <th>ResidFAR</th>\n",
       "    </tr>\n",
       "  </thead>\n",
       "  <tbody>\n",
       "    <tr>\n",
       "      <th>69999</th>\n",
       "      <td>95.0</td>\n",
       "      <td>1184.0</td>\n",
       "      <td>34.0</td>\n",
       "      <td>0.49</td>\n",
       "      <td>2.0</td>\n",
       "      <td>73</td>\n",
       "      <td>2435.0</td>\n",
       "      <td>97.42</td>\n",
       "      <td>2.0</td>\n",
       "      <td>2.0</td>\n",
       "      <td>0.90</td>\n",
       "    </tr>\n",
       "    <tr>\n",
       "      <th>69350</th>\n",
       "      <td>121.0</td>\n",
       "      <td>1763.0</td>\n",
       "      <td>30.0</td>\n",
       "      <td>0.43</td>\n",
       "      <td>2.0</td>\n",
       "      <td>11</td>\n",
       "      <td>4134.0</td>\n",
       "      <td>103.42</td>\n",
       "      <td>2.0</td>\n",
       "      <td>2.5</td>\n",
       "      <td>1.25</td>\n",
       "    </tr>\n",
       "    <tr>\n",
       "      <th>52025</th>\n",
       "      <td>70.0</td>\n",
       "      <td>2156.0</td>\n",
       "      <td>40.0</td>\n",
       "      <td>0.63</td>\n",
       "      <td>2.0</td>\n",
       "      <td>3</td>\n",
       "      <td>3400.0</td>\n",
       "      <td>100.00</td>\n",
       "      <td>1.0</td>\n",
       "      <td>2.0</td>\n",
       "      <td>0.90</td>\n",
       "    </tr>\n",
       "    <tr>\n",
       "      <th>74052</th>\n",
       "      <td>15.0</td>\n",
       "      <td>3213.0</td>\n",
       "      <td>64.0</td>\n",
       "      <td>1.25</td>\n",
       "      <td>2.0</td>\n",
       "      <td>27</td>\n",
       "      <td>2577.0</td>\n",
       "      <td>103.06</td>\n",
       "      <td>1.0</td>\n",
       "      <td>3.0</td>\n",
       "      <td>1.25</td>\n",
       "    </tr>\n",
       "    <tr>\n",
       "      <th>75085</th>\n",
       "      <td>70.0</td>\n",
       "      <td>2144.0</td>\n",
       "      <td>37.0</td>\n",
       "      <td>0.86</td>\n",
       "      <td>4.8</td>\n",
       "      <td>48</td>\n",
       "      <td>2500.0</td>\n",
       "      <td>100.00</td>\n",
       "      <td>1.0</td>\n",
       "      <td>2.0</td>\n",
       "      <td>2.43</td>\n",
       "    </tr>\n",
       "    <tr>\n",
       "      <th>...</th>\n",
       "      <td>...</td>\n",
       "      <td>...</td>\n",
       "      <td>...</td>\n",
       "      <td>...</td>\n",
       "      <td>...</td>\n",
       "      <td>...</td>\n",
       "      <td>...</td>\n",
       "      <td>...</td>\n",
       "      <td>...</td>\n",
       "      <td>...</td>\n",
       "      <td>...</td>\n",
       "    </tr>\n",
       "    <tr>\n",
       "      <th>63518</th>\n",
       "      <td>90.0</td>\n",
       "      <td>4053.0</td>\n",
       "      <td>35.0</td>\n",
       "      <td>0.21</td>\n",
       "      <td>1.0</td>\n",
       "      <td>12</td>\n",
       "      <td>19056.0</td>\n",
       "      <td>274.00</td>\n",
       "      <td>1.0</td>\n",
       "      <td>2.0</td>\n",
       "      <td>0.50</td>\n",
       "    </tr>\n",
       "    <tr>\n",
       "      <th>51251</th>\n",
       "      <td>110.0</td>\n",
       "      <td>2568.0</td>\n",
       "      <td>56.0</td>\n",
       "      <td>1.02</td>\n",
       "      <td>6.5</td>\n",
       "      <td>131</td>\n",
       "      <td>2506.0</td>\n",
       "      <td>100.25</td>\n",
       "      <td>1.0</td>\n",
       "      <td>2.0</td>\n",
       "      <td>6.02</td>\n",
       "    </tr>\n",
       "    <tr>\n",
       "      <th>64197</th>\n",
       "      <td>95.0</td>\n",
       "      <td>1088.0</td>\n",
       "      <td>34.0</td>\n",
       "      <td>0.84</td>\n",
       "      <td>2.0</td>\n",
       "      <td>80</td>\n",
       "      <td>1300.0</td>\n",
       "      <td>65.00</td>\n",
       "      <td>1.0</td>\n",
       "      <td>2.0</td>\n",
       "      <td>2.00</td>\n",
       "    </tr>\n",
       "    <tr>\n",
       "      <th>1575</th>\n",
       "      <td>60.0</td>\n",
       "      <td>1798.0</td>\n",
       "      <td>37.0</td>\n",
       "      <td>0.68</td>\n",
       "      <td>2.0</td>\n",
       "      <td>110</td>\n",
       "      <td>2633.0</td>\n",
       "      <td>100.00</td>\n",
       "      <td>1.0</td>\n",
       "      <td>3.0</td>\n",
       "      <td>0.90</td>\n",
       "    </tr>\n",
       "    <tr>\n",
       "      <th>53000</th>\n",
       "      <td>100.0</td>\n",
       "      <td>1300.0</td>\n",
       "      <td>41.0</td>\n",
       "      <td>0.36</td>\n",
       "      <td>2.0</td>\n",
       "      <td>64</td>\n",
       "      <td>3654.0</td>\n",
       "      <td>146.17</td>\n",
       "      <td>2.0</td>\n",
       "      <td>2.0</td>\n",
       "      <td>0.90</td>\n",
       "    </tr>\n",
       "  </tbody>\n",
       "</table>\n",
       "<p>8000 rows × 11 columns</p>\n",
       "</div>"
      ],
      "text/plain": [
       "         Age  BldgArea  BldgDepth  BuiltFAR  FacilFAR  Lot  LotArea  LotDepth  NumBldgs  NumFloors  ResidFAR\n",
       "69999   95.0    1184.0       34.0      0.49       2.0   73   2435.0     97.42       2.0        2.0      0.90\n",
       "69350  121.0    1763.0       30.0      0.43       2.0   11   4134.0    103.42       2.0        2.5      1.25\n",
       "52025   70.0    2156.0       40.0      0.63       2.0    3   3400.0    100.00       1.0        2.0      0.90\n",
       "74052   15.0    3213.0       64.0      1.25       2.0   27   2577.0    103.06       1.0        3.0      1.25\n",
       "75085   70.0    2144.0       37.0      0.86       4.8   48   2500.0    100.00       1.0        2.0      2.43\n",
       "...      ...       ...        ...       ...       ...  ...      ...       ...       ...        ...       ...\n",
       "63518   90.0    4053.0       35.0      0.21       1.0   12  19056.0    274.00       1.0        2.0      0.50\n",
       "51251  110.0    2568.0       56.0      1.02       6.5  131   2506.0    100.25       1.0        2.0      6.02\n",
       "64197   95.0    1088.0       34.0      0.84       2.0   80   1300.0     65.00       1.0        2.0      2.00\n",
       "1575    60.0    1798.0       37.0      0.68       2.0  110   2633.0    100.00       1.0        3.0      0.90\n",
       "53000  100.0    1300.0       41.0      0.36       2.0   64   3654.0    146.17       2.0        2.0      0.90\n",
       "\n",
       "[8000 rows x 11 columns]"
      ]
     },
     "execution_count": 14,
     "metadata": {},
     "output_type": "execute_result"
    }
   ],
   "source": [
    "X_train"
   ]
  },
  {
   "cell_type": "code",
   "execution_count": 15,
   "metadata": {},
   "outputs": [],
   "source": [
    "scaler = StandardScaler()"
   ]
  },
  {
   "cell_type": "code",
   "execution_count": 16,
   "metadata": {},
   "outputs": [],
   "source": [
    "X_train_scaled = scaler.fit_transform(X_train)"
   ]
  },
  {
   "cell_type": "code",
   "execution_count": 17,
   "metadata": {},
   "outputs": [],
   "source": [
    "X_test_scaled = scaler.transform(X_test)"
   ]
  },
  {
   "cell_type": "code",
   "execution_count": 18,
   "metadata": {},
   "outputs": [
    {
     "data": {
      "text/plain": [
       "array([[ 0.60307955, -0.2124918 , -0.66706922, ...,  0.90632221,\n",
       "        -0.35689036, -0.67364732],\n",
       "       [ 1.48345675, -0.1939745 , -0.82486847, ...,  0.90632221,\n",
       "         0.01837782, -0.39443263],\n",
       "       [-0.243437  , -0.18140577, -0.43037034, ..., -0.2811291 ,\n",
       "        -0.35689036, -0.67364732],\n",
       "       ...,\n",
       "       [ 0.60307955, -0.21556202, -0.66706922, ..., -0.2811291 ,\n",
       "        -0.35689036,  0.20388456],\n",
       "       [-0.58204361, -0.19285515, -0.54871978, ..., -0.2811291 ,\n",
       "         0.393646  , -0.67364732],\n",
       "       [ 0.77238286, -0.20878194, -0.39092053, ...,  0.90632221,\n",
       "        -0.35689036, -0.67364732]])"
      ]
     },
     "execution_count": 18,
     "metadata": {},
     "output_type": "execute_result"
    }
   ],
   "source": [
    "X_train_scaled"
   ]
  },
  {
   "cell_type": "code",
   "execution_count": 19,
   "metadata": {},
   "outputs": [
    {
     "data": {
      "text/plain": [
       "array([[ 1.41573543, -0.15684396, -0.11477183, ..., -0.2811291 ,\n",
       "        -0.35689036, -0.39443263],\n",
       "       [-2.03805207, -0.12271969,  0.0035776 , ..., -0.2811291 ,\n",
       "         1.14418236,  1.35265356],\n",
       "       [ 0.56921889, -0.14545855,  1.14762219, ..., -0.2811291 ,\n",
       "        -0.35689036,  0.54691975],\n",
       "       ...,\n",
       "       [ 0.26447293, -0.12786871,  0.5953248 , ..., -0.2811291 ,\n",
       "        -0.35689036, -0.39443263],\n",
       "       [ 0.60307955,  0.61314294,  1.46322069, ..., -0.2811291 ,\n",
       "         1.89471872,  3.4108647 ],\n",
       "       [ 0.60307955, -0.14545855,  1.14762219, ..., -0.2811291 ,\n",
       "        -0.35689036, -0.39443263]])"
      ]
     },
     "execution_count": 19,
     "metadata": {},
     "output_type": "execute_result"
    }
   ],
   "source": [
    "X_test_scaled"
   ]
  },
  {
   "cell_type": "markdown",
   "metadata": {},
   "source": [
    "### Model Training"
   ]
  },
  {
   "cell_type": "markdown",
   "metadata": {},
   "source": [
    "### Random Forest Regressor"
   ]
  },
  {
   "cell_type": "code",
   "execution_count": 20,
   "metadata": {},
   "outputs": [],
   "source": [
    "rf = RandomForestRegressor(random_state=0)"
   ]
  },
  {
   "cell_type": "code",
   "execution_count": 21,
   "metadata": {},
   "outputs": [
    {
     "data": {
      "text/plain": [
       "RandomForestRegressor(random_state=0)"
      ]
     },
     "execution_count": 21,
     "metadata": {},
     "output_type": "execute_result"
    }
   ],
   "source": [
    "rf.fit(X_train_scaled,y_train)"
   ]
  },
  {
   "cell_type": "code",
   "execution_count": 22,
   "metadata": {},
   "outputs": [],
   "source": [
    "rf_pred = rf.predict(X_test_scaled)"
   ]
  },
  {
   "cell_type": "code",
   "execution_count": 23,
   "metadata": {},
   "outputs": [
    {
     "data": {
      "text/plain": [
       "array([1., 1., 1., 1., 1., 1., 1., 1., 1., 1.])"
      ]
     },
     "execution_count": 23,
     "metadata": {},
     "output_type": "execute_result"
    }
   ],
   "source": [
    "rf_pred[:10]"
   ]
  },
  {
   "cell_type": "markdown",
   "metadata": {},
   "source": [
    "### Model Evaluation"
   ]
  },
  {
   "cell_type": "code",
   "execution_count": 24,
   "metadata": {},
   "outputs": [
    {
     "data": {
      "text/plain": [
       "0.00279745"
      ]
     },
     "execution_count": 24,
     "metadata": {},
     "output_type": "execute_result"
    }
   ],
   "source": [
    "mse = mean_squared_error(y_test,rf_pred)\n",
    "mse"
   ]
  },
  {
   "cell_type": "code",
   "execution_count": 25,
   "metadata": {},
   "outputs": [
    {
     "data": {
      "text/plain": [
       "0.05289092549766926"
      ]
     },
     "execution_count": 25,
     "metadata": {},
     "output_type": "execute_result"
    }
   ],
   "source": [
    "rmse = np.sqrt(mse)\n",
    "rmse"
   ]
  },
  {
   "cell_type": "code",
   "execution_count": 26,
   "metadata": {},
   "outputs": [
    {
     "data": {
      "text/plain": [
       "-0.12178446115288244"
      ]
     },
     "execution_count": 26,
     "metadata": {},
     "output_type": "execute_result"
    }
   ],
   "source": [
    "r2score = r2_score(y_test,rf_pred)\n",
    "r2score"
   ]
  },
  {
   "cell_type": "code",
   "execution_count": 27,
   "metadata": {},
   "outputs": [
    {
     "data": {
      "image/png": "[encoded data removed]",
      "text/plain": [
       "<Figure size 720x576 with 1 Axes>"
      ]
     },
     "metadata": {},
     "output_type": "display_data"
    }
   ],
   "source": [
    "fig, ax = plt.subplots(figsize=(10,8))\n",
    "sns.regplot(x=y_test, y=rf_pred, ax=ax)\n",
    "plt.title(\"Plot to compare actual vs predicted\")\n",
    "plt.ylabel(\"Predicted\")\n",
    "plt.xlabel(\"Actual\")\n",
    "plt.show()"
   ]
  },
  {
   "cell_type": "code",
   "execution_count": 28,
   "metadata": {},
   "outputs": [
    {
     "data": {
      "text/plain": [
       "array([4.65273060e-02, 1.43178602e-01, 7.00548184e-02, 1.21470564e-01,\n",
       "       1.25772026e-02, 1.66770050e-01, 3.82895160e-01, 2.79611086e-02,\n",
       "       2.25418728e-04, 1.50353311e-02, 1.33044381e-02])"
      ]
     },
     "execution_count": 28,
     "metadata": {},
     "output_type": "execute_result"
    }
   ],
   "source": [
    "rf.feature_importances_"
   ]
  },
  {
   "cell_type": "markdown",
   "metadata": {},
   "source": [
    "Load the feature importances into a pandas series indexed by your column names, then use its plot method. e.g. for an sklearn RF classifier/regressor model trained using df: "
   ]
  },
  {
   "cell_type": "code",
   "execution_count": 29,
   "metadata": {},
   "outputs": [],
   "source": [
    "feat_importances = pd.Series(rf.feature_importances_, index=X.columns)"
   ]
  },
  {
   "cell_type": "code",
   "execution_count": 30,
   "metadata": {},
   "outputs": [
    {
     "data": {
      "text/plain": [
       "Age          0.046527\n",
       "BldgArea     0.143179\n",
       "BldgDepth    0.070055\n",
       "BuiltFAR     0.121471\n",
       "FacilFAR     0.012577\n",
       "Lot          0.166770\n",
       "LotArea      0.382895\n",
       "LotDepth     0.027961\n",
       "NumBldgs     0.000225\n",
       "NumFloors    0.015035\n",
       "ResidFAR     0.013304\n",
       "dtype: float64"
      ]
     },
     "execution_count": 30,
     "metadata": {},
     "output_type": "execute_result"
    }
   ],
   "source": [
    "feat_importances"
   ]
  },
  {
   "cell_type": "code",
   "execution_count": 31,
   "metadata": {},
   "outputs": [
    {
     "data": {
      "image/png": "[encoded data removed]",
      "text/plain": [
       "<Figure size 720x720 with 1 Axes>"
      ]
     },
     "metadata": {},
     "output_type": "display_data"
    }
   ],
   "source": [
    "feat_importances.nlargest(10).plot(kind='barh', figsize=(10,10))\n",
    "plt.title('Feature Importances')\n",
    "plt.show()"
   ]
  },
  {
   "cell_type": "markdown",
   "metadata": {},
   "source": [
    "### The permutation based importance"
   ]
  },
  {
   "cell_type": "code",
   "execution_count": 32,
   "metadata": {},
   "outputs": [],
   "source": [
    "perm_importance = permutation_importance(rf,X_test,y_test, random_state=0, scoring='neg_mean_squared_error')"
   ]
  },
  {
   "cell_type": "code",
   "execution_count": 33,
   "metadata": {},
   "outputs": [
    {
     "data": {
      "image/png": "[encoded data removed]",
      "text/plain": [
       "<Figure size 720x720 with 1 Axes>"
      ]
     },
     "metadata": {},
     "output_type": "display_data"
    }
   ],
   "source": [
    "sorted_idx = perm_importance.importances_mean.argsort()\n",
    "plt.figure(figsize=(10,10))\n",
    "plt.title(\"Permutation-based Importance\")\n",
    "plt.barh(X.columns[sorted_idx], perm_importance.importances_mean[sorted_idx])\n",
    "plt.xlabel(\"Permutation Importance\")\n",
    "plt.show()"
   ]
  },
  {
   "cell_type": "code",
   "execution_count": 34,
   "metadata": {},
   "outputs": [
    {
     "data": {
      "text/plain": [
       "array([ 0,  1,  2,  3,  4,  5,  6,  7,  8,  9, 10], dtype=int64)"
      ]
     },
     "execution_count": 34,
     "metadata": {},
     "output_type": "execute_result"
    }
   ],
   "source": [
    "perm_importance.importances_mean.argsort()"
   ]
  },
  {
   "cell_type": "markdown",
   "metadata": {},
   "source": [
    "### Compute Importance from SHAP Values"
   ]
  },
  {
   "cell_type": "code",
   "execution_count": 35,
   "metadata": {},
   "outputs": [],
   "source": [
    "explainer = shap.TreeExplainer(rf)"
   ]
  },
  {
   "cell_type": "code",
   "execution_count": 36,
   "metadata": {},
   "outputs": [],
   "source": [
    "shap_values = explainer.shap_values(X_test)"
   ]
  },
  {
   "cell_type": "code",
   "execution_count": 37,
   "metadata": {},
   "outputs": [
    {
     "data": {
      "image/png": "[encoded data removed]",
      "text/plain": [
       "<Figure size 576x424.8 with 1 Axes>"
      ]
     },
     "metadata": {},
     "output_type": "display_data"
    }
   ],
   "source": [
    "shap.summary_plot(shap_values, X_test, plot_type=\"bar\")"
   ]
  },
  {
   "cell_type": "code",
   "execution_count": 38,
   "metadata": {},
   "outputs": [
    {
     "data": {
      "image/png": "[encoded data removed]",
      "text/plain": [
       "<Figure size 576x424.8 with 2 Axes>"
      ]
     },
     "metadata": {},
     "output_type": "display_data"
    }
   ],
   "source": [
    "shap.summary_plot(shap_values, X_test)"
   ]
  },
  {
   "cell_type": "markdown",
   "metadata": {},
   "source": [
    "### Using XGBoost (Scikit-Learn)"
   ]
  },
  {
   "cell_type": "markdown",
   "metadata": {},
   "source": [
    "### Using RandomSearchCV"
   ]
  },
  {
   "cell_type": "code",
   "execution_count": 39,
   "metadata": {},
   "outputs": [],
   "source": [
    "model = XGBRegressor(random_state=0, n_estimators=100, objective='reg:squarederror')"
   ]
  },
  {
   "cell_type": "code",
   "execution_count": 40,
   "metadata": {},
   "outputs": [],
   "source": [
    "parameters = {'max_depth': np.arange(3,10,1),\n",
    "              'learning rate': np.arange(0.05,0.3,0.05),\n",
    "              'n_estimators':np.arange(100,1000,100),\n",
    "              'min_child_weight': np.arange(1,4,1),\n",
    "              'gamma':np.arange(0,10,2),\n",
    "              'subsample':np.arange(0.5,0.9,0.1),\n",
    "              'colsample_bytree':np.arange(0.5,0.9,0.1),\n",
    "              'reg_alpha':np.arange(0,1,0.1),\n",
    "              'reg_lambda':np.arange(0,1,0.1)\n",
    "             }"
   ]
  },
  {
   "cell_type": "code",
   "execution_count": 41,
   "metadata": {},
   "outputs": [],
   "source": [
    "randm = RandomizedSearchCV(estimator=model, param_distributions = parameters, cv = 5, n_iter = 10, \n",
    "                           n_jobs=-1, scoring='neg_mean_squared_error')"
   ]
  },
  {
   "cell_type": "code",
   "execution_count": 42,
   "metadata": {},
   "outputs": [
    {
     "name": "stdout",
     "output_type": "stream",
     "text": [
      "[09:12:37] WARNING: C:\\Users\\Administrator\\workspace\\xgboost-win64_release_1.1.0\\src\\learner.cc:480: \n",
      "Parameters: { learning rate } might not be used.\n",
      "\n",
      "  This may not be accurate due to some parameters are only used in language bindings but\n",
      "  passed down to XGBoost core.  Or some parameters are not used but slip through this\n",
      "  verification. Please open an issue if you find above cases.\n",
      "\n",
      "\n"
     ]
    },
    {
     "data": {
      "text/plain": [
       "RandomizedSearchCV(cv=5,\n",
       "                   estimator=XGBRegressor(base_score=None, booster=None,\n",
       "                                          colsample_bylevel=None,\n",
       "                                          colsample_bynode=None,\n",
       "                                          colsample_bytree=None, gamma=None,\n",
       "                                          gpu_id=None, importance_type='gain',\n",
       "                                          interaction_constraints=None,\n",
       "                                          learning_rate=None,\n",
       "                                          max_delta_step=None, max_depth=None,\n",
       "                                          min_child_weight=None, missing=nan,\n",
       "                                          monotone_constraints=None,\n",
       "                                          n_estimators=100, n...\n",
       "                                        'learning rate': array([0.05, 0.1 , 0.15, 0.2 , 0.25]),\n",
       "                                        'max_depth': array([3, 4, 5, 6, 7, 8, 9]),\n",
       "                                        'min_child_weight': array([1, 2, 3]),\n",
       "                                        'n_estimators': array([100, 200, 300, 400, 500, 600, 700, 800, 900]),\n",
       "                                        'reg_alpha': array([0. , 0.1, 0.2, 0.3, 0.4, 0.5, 0.6, 0.7, 0.8, 0.9]),\n",
       "                                        'reg_lambda': array([0. , 0.1, 0.2, 0.3, 0.4, 0.5, 0.6, 0.7, 0.8, 0.9]),\n",
       "                                        'subsample': array([0.5, 0.6, 0.7, 0.8])},\n",
       "                   scoring='neg_mean_squared_error')"
      ]
     },
     "execution_count": 42,
     "metadata": {},
     "output_type": "execute_result"
    }
   ],
   "source": [
    "randm.fit(X_train_scaled, y_train)"
   ]
  },
  {
   "cell_type": "code",
   "execution_count": 43,
   "metadata": {},
   "outputs": [
    {
     "data": {
      "text/plain": [
       "XGBRegressor(base_score=0.5, booster='gbtree', colsample_bylevel=1,\n",
       "             colsample_bynode=1, colsample_bytree=0.5, gamma=4, gpu_id=-1,\n",
       "             importance_type='gain', interaction_constraints='',\n",
       "             learning rate=0.1, learning_rate=0.300000012, max_delta_step=0,\n",
       "             max_depth=6, min_child_weight=1, missing=nan,\n",
       "             monotone_constraints='()', n_estimators=800, n_jobs=0,\n",
       "             num_parallel_tree=1, random_state=0, reg_alpha=0.30000000000000004,\n",
       "             reg_lambda=0.8, scale_pos_weight=1, subsample=0.6,\n",
       "             tree_method='exact', validate_parameters=1, verbosity=None)"
      ]
     },
     "execution_count": 43,
     "metadata": {},
     "output_type": "execute_result"
    }
   ],
   "source": [
    "randm.best_estimator_"
   ]
  },
  {
   "cell_type": "code",
   "execution_count": 44,
   "metadata": {},
   "outputs": [
    {
     "data": {
      "text/plain": [
       "-0.0008747257847772971"
      ]
     },
     "execution_count": 44,
     "metadata": {},
     "output_type": "execute_result"
    }
   ],
   "source": [
    "randm.best_score_"
   ]
  },
  {
   "cell_type": "code",
   "execution_count": 45,
   "metadata": {},
   "outputs": [
    {
     "data": {
      "text/plain": [
       "{'subsample': 0.6,\n",
       " 'reg_lambda': 0.8,\n",
       " 'reg_alpha': 0.30000000000000004,\n",
       " 'n_estimators': 800,\n",
       " 'min_child_weight': 1,\n",
       " 'max_depth': 6,\n",
       " 'learning rate': 0.1,\n",
       " 'gamma': 4,\n",
       " 'colsample_bytree': 0.5}"
      ]
     },
     "execution_count": 45,
     "metadata": {},
     "output_type": "execute_result"
    }
   ],
   "source": [
    "randm.best_params_"
   ]
  },
  {
   "cell_type": "markdown",
   "metadata": {},
   "source": [
    "### Final Model"
   ]
  },
  {
   "cell_type": "code",
   "execution_count": 46,
   "metadata": {},
   "outputs": [],
   "source": [
    "xgbmodel = XGBRegressor(random_state=0, n_estimators=800, objective='reg:squarederror',\n",
    "                       subsample=0.6,reg_lambda=0.8,reg_alpha=0.3, min_child_weight=1,\n",
    "                       max_depth=6,learning_rate=0.1,gamma=4,colsample_bytree=0.5)"
   ]
  },
  {
   "cell_type": "code",
   "execution_count": 47,
   "metadata": {},
   "outputs": [
    {
     "name": "stdout",
     "output_type": "stream",
     "text": [
      "[0]\tvalidation_0-rmse:0.45524\n",
      "Will train until validation_0-rmse hasn't improved in 10 rounds.\n",
      "[1]\tvalidation_0-rmse:0.41045\n",
      "[2]\tvalidation_0-rmse:0.37027\n",
      "[3]\tvalidation_0-rmse:0.33415\n",
      "[4]\tvalidation_0-rmse:0.30170\n",
      "[5]\tvalidation_0-rmse:0.27257\n",
      "[6]\tvalidation_0-rmse:0.24645\n",
      "[7]\tvalidation_0-rmse:0.22309\n",
      "[8]\tvalidation_0-rmse:0.20217\n",
      "[9]\tvalidation_0-rmse:0.18348\n",
      "[10]\tvalidation_0-rmse:0.16675\n",
      "[11]\tvalidation_0-rmse:0.15183\n",
      "[12]\tvalidation_0-rmse:0.13853\n",
      "[13]\tvalidation_0-rmse:0.12676\n",
      "[14]\tvalidation_0-rmse:0.11628\n",
      "[15]\tvalidation_0-rmse:0.10705\n",
      "[16]\tvalidation_0-rmse:0.09892\n",
      "[17]\tvalidation_0-rmse:0.09183\n",
      "[18]\tvalidation_0-rmse:0.08564\n",
      "[19]\tvalidation_0-rmse:0.08025\n",
      "[20]\tvalidation_0-rmse:0.07559\n",
      "[21]\tvalidation_0-rmse:0.07155\n",
      "[22]\tvalidation_0-rmse:0.06810\n",
      "[23]\tvalidation_0-rmse:0.06517\n",
      "[24]\tvalidation_0-rmse:0.06268\n",
      "[25]\tvalidation_0-rmse:0.06060\n",
      "[26]\tvalidation_0-rmse:0.05883\n",
      "[27]\tvalidation_0-rmse:0.05733\n",
      "[28]\tvalidation_0-rmse:0.05608\n",
      "[29]\tvalidation_0-rmse:0.05505\n",
      "[30]\tvalidation_0-rmse:0.05421\n",
      "[31]\tvalidation_0-rmse:0.05349\n",
      "[32]\tvalidation_0-rmse:0.05290\n",
      "[33]\tvalidation_0-rmse:0.05242\n",
      "[34]\tvalidation_0-rmse:0.05200\n",
      "[35]\tvalidation_0-rmse:0.05167\n",
      "[36]\tvalidation_0-rmse:0.05139\n",
      "[37]\tvalidation_0-rmse:0.05115\n",
      "[38]\tvalidation_0-rmse:0.05096\n",
      "[39]\tvalidation_0-rmse:0.05080\n",
      "[40]\tvalidation_0-rmse:0.05067\n",
      "[41]\tvalidation_0-rmse:0.05058\n",
      "[42]\tvalidation_0-rmse:0.05048\n",
      "[43]\tvalidation_0-rmse:0.05040\n",
      "[44]\tvalidation_0-rmse:0.05034\n",
      "[45]\tvalidation_0-rmse:0.05028\n",
      "[46]\tvalidation_0-rmse:0.05024\n",
      "[47]\tvalidation_0-rmse:0.05020\n",
      "[48]\tvalidation_0-rmse:0.05017\n",
      "[49]\tvalidation_0-rmse:0.05014\n",
      "[50]\tvalidation_0-rmse:0.05012\n",
      "[51]\tvalidation_0-rmse:0.05010\n",
      "[52]\tvalidation_0-rmse:0.05008\n",
      "[53]\tvalidation_0-rmse:0.05007\n",
      "[54]\tvalidation_0-rmse:0.05006\n",
      "[55]\tvalidation_0-rmse:0.05005\n",
      "[56]\tvalidation_0-rmse:0.05004\n",
      "[57]\tvalidation_0-rmse:0.05003\n",
      "[58]\tvalidation_0-rmse:0.05002\n",
      "[59]\tvalidation_0-rmse:0.05002\n",
      "[60]\tvalidation_0-rmse:0.05001\n",
      "[61]\tvalidation_0-rmse:0.05001\n",
      "[62]\tvalidation_0-rmse:0.05000\n",
      "[63]\tvalidation_0-rmse:0.05000\n",
      "[64]\tvalidation_0-rmse:0.05000\n",
      "[65]\tvalidation_0-rmse:0.05000\n",
      "[66]\tvalidation_0-rmse:0.04999\n",
      "[67]\tvalidation_0-rmse:0.04999\n",
      "[68]\tvalidation_0-rmse:0.04999\n",
      "[69]\tvalidation_0-rmse:0.04999\n",
      "[70]\tvalidation_0-rmse:0.04999\n",
      "[71]\tvalidation_0-rmse:0.04998\n",
      "[72]\tvalidation_0-rmse:0.04998\n",
      "[73]\tvalidation_0-rmse:0.04998\n",
      "[74]\tvalidation_0-rmse:0.04998\n",
      "[75]\tvalidation_0-rmse:0.04998\n",
      "[76]\tvalidation_0-rmse:0.04998\n",
      "[77]\tvalidation_0-rmse:0.04998\n",
      "[78]\tvalidation_0-rmse:0.04998\n",
      "[79]\tvalidation_0-rmse:0.04998\n",
      "[80]\tvalidation_0-rmse:0.04998\n",
      "[81]\tvalidation_0-rmse:0.04998\n",
      "[82]\tvalidation_0-rmse:0.04998\n",
      "[83]\tvalidation_0-rmse:0.04998\n",
      "[84]\tvalidation_0-rmse:0.04998\n",
      "[85]\tvalidation_0-rmse:0.04998\n",
      "[86]\tvalidation_0-rmse:0.04998\n",
      "Stopping. Best iteration:\n",
      "[76]\tvalidation_0-rmse:0.04998\n",
      "\n"
     ]
    },
    {
     "data": {
      "text/plain": [
       "XGBRegressor(base_score=0.5, booster='gbtree', colsample_bylevel=1,\n",
       "             colsample_bynode=1, colsample_bytree=0.5, gamma=4, gpu_id=-1,\n",
       "             importance_type='gain', interaction_constraints='',\n",
       "             learning_rate=0.1, max_delta_step=0, max_depth=6,\n",
       "             min_child_weight=1, missing=nan, monotone_constraints='()',\n",
       "             n_estimators=800, n_jobs=0, num_parallel_tree=1, random_state=0,\n",
       "             reg_alpha=0.3, reg_lambda=0.8, scale_pos_weight=1, subsample=0.6,\n",
       "             tree_method='exact', validate_parameters=1, verbosity=None)"
      ]
     },
     "execution_count": 47,
     "metadata": {},
     "output_type": "execute_result"
    }
   ],
   "source": [
    "xgbmodel.fit(X_train_scaled,y_train,eval_set=[(X_test_scaled,y_test)],eval_metric='rmse',early_stopping_rounds=10)"
   ]
  },
  {
   "cell_type": "code",
   "execution_count": 48,
   "metadata": {},
   "outputs": [],
   "source": [
    "y_pred = xgbmodel.predict(X_test_scaled)"
   ]
  },
  {
   "cell_type": "code",
   "execution_count": 49,
   "metadata": {},
   "outputs": [
    {
     "data": {
      "text/plain": [
       "array([1.0004668, 1.0004668, 1.0004668, ..., 1.0004668, 1.0004668,\n",
       "       1.0004668], dtype=float32)"
      ]
     },
     "execution_count": 49,
     "metadata": {},
     "output_type": "execute_result"
    }
   ],
   "source": [
    "y_pred"
   ]
  },
  {
   "cell_type": "markdown",
   "metadata": {},
   "source": [
    "### Model Evaluation"
   ]
  },
  {
   "cell_type": "code",
   "execution_count": 50,
   "metadata": {},
   "outputs": [
    {
     "data": {
      "text/plain": [
       "0.002497883806363461"
      ]
     },
     "execution_count": 50,
     "metadata": {},
     "output_type": "execute_result"
    }
   ],
   "source": [
    "mse = mean_squared_error(y_test,y_pred)\n",
    "mse"
   ]
  },
  {
   "cell_type": "code",
   "execution_count": 51,
   "metadata": {},
   "outputs": [
    {
     "data": {
      "text/plain": [
       "0.04997883358346272"
      ]
     },
     "execution_count": 51,
     "metadata": {},
     "output_type": "execute_result"
    }
   ],
   "source": [
    "rmse = np.sqrt(mse)\n",
    "rmse"
   ]
  },
  {
   "cell_type": "code",
   "execution_count": 52,
   "metadata": {},
   "outputs": [
    {
     "data": {
      "text/plain": [
       "-0.0016576667121650512"
      ]
     },
     "execution_count": 52,
     "metadata": {},
     "output_type": "execute_result"
    }
   ],
   "source": [
    "r2score = r2_score(y_test,y_pred)\n",
    "r2score"
   ]
  },
  {
   "cell_type": "code",
   "execution_count": 53,
   "metadata": {},
   "outputs": [
    {
     "data": {
      "image/png": "[encoded data removed]",
      "text/plain": [
       "<Figure size 720x576 with 1 Axes>"
      ]
     },
     "metadata": {},
     "output_type": "display_data"
    }
   ],
   "source": [
    "fig, ax = plt.subplots(figsize=(10,8))\n",
    "sns.regplot(x=y_test, y=y_pred, ax=ax)\n",
    "plt.title(\"Plot to compare actual vs predicted\")\n",
    "plt.ylabel(\"Predicted\")\n",
    "plt.xlabel(\"Actual\")\n",
    "plt.show()"
   ]
  },
  {
   "cell_type": "code",
   "execution_count": null,
   "metadata": {},
   "outputs": [],
   "source": []
  },
  {
   "cell_type": "markdown",
   "metadata": {},
   "source": [
    "### Available importance_types = [‘weight’, ‘gain’, ‘cover’, ‘total_gain’, ‘total_cover’]"
   ]
  },
  {
   "cell_type": "code",
   "execution_count": 54,
   "metadata": {},
   "outputs": [
    {
     "data": {
      "text/plain": [
       "Index(['Age', 'BldgArea', 'BldgDepth', 'BuiltFAR', 'FacilFAR', 'Lot', 'LotArea', 'LotDepth', 'NumBldgs', 'NumFloors', 'ResidFAR'], dtype='object')"
      ]
     },
     "execution_count": 54,
     "metadata": {},
     "output_type": "execute_result"
    }
   ],
   "source": [
    "X.columns"
   ]
  },
  {
   "cell_type": "code",
   "execution_count": 55,
   "metadata": {},
   "outputs": [],
   "source": [
    "xgbmodel.get_booster().feature_names = ['Age', 'BldgArea', 'BldgDepth', 'BuiltFAR', 'FacilFAR', 'Lot', 'LotArea', 'LotDepth', 'NumBldgs', 'NumFloors', 'ResidFAR']"
   ]
  },
  {
   "cell_type": "code",
   "execution_count": 56,
   "metadata": {},
   "outputs": [
    {
     "ename": "ValueError",
     "evalue": "Booster.get_score() results in empty.  This maybe caused by having all trees as decision dumps.",
     "output_type": "error",
     "traceback": [
      "\u001b[1;31m---------------------------------------------------------------------------\u001b[0m",
      "\u001b[1;31mValueError\u001b[0m                                Traceback (most recent call last)",
      "\u001b[1;32m<ipython-input-56-f2629d2deff3>\u001b[0m in \u001b[0;36m<module>\u001b[1;34m\u001b[0m\n\u001b[0;32m      1\u001b[0m \u001b[0mfig\u001b[0m\u001b[1;33m,\u001b[0m \u001b[0max\u001b[0m \u001b[1;33m=\u001b[0m \u001b[0mplt\u001b[0m\u001b[1;33m.\u001b[0m\u001b[0msubplots\u001b[0m\u001b[1;33m(\u001b[0m\u001b[0mfigsize\u001b[0m\u001b[1;33m=\u001b[0m\u001b[1;33m(\u001b[0m\u001b[1;36m20\u001b[0m\u001b[1;33m,\u001b[0m\u001b[1;36m10\u001b[0m\u001b[1;33m)\u001b[0m\u001b[1;33m)\u001b[0m\u001b[1;33m\u001b[0m\u001b[1;33m\u001b[0m\u001b[0m\n\u001b[1;32m----> 2\u001b[1;33m \u001b[0mxgb\u001b[0m\u001b[1;33m.\u001b[0m\u001b[0mplot_importance\u001b[0m\u001b[1;33m(\u001b[0m\u001b[0mxgbmodel\u001b[0m\u001b[1;33m.\u001b[0m\u001b[0mget_booster\u001b[0m\u001b[1;33m(\u001b[0m\u001b[1;33m)\u001b[0m\u001b[1;33m,\u001b[0m\u001b[0max\u001b[0m\u001b[1;33m=\u001b[0m\u001b[0max\u001b[0m\u001b[1;33m)\u001b[0m\u001b[1;33m\u001b[0m\u001b[1;33m\u001b[0m\u001b[0m\n\u001b[0m\u001b[0;32m      3\u001b[0m \u001b[0mplt\u001b[0m\u001b[1;33m.\u001b[0m\u001b[0mshow\u001b[0m\u001b[1;33m(\u001b[0m\u001b[1;33m)\u001b[0m\u001b[1;33m\u001b[0m\u001b[1;33m\u001b[0m\u001b[0m\n",
      "\u001b[1;32mC:\\ProgramData\\Anaconda3\\lib\\site-packages\\xgboost\\plotting.py\u001b[0m in \u001b[0;36mplot_importance\u001b[1;34m(booster, ax, height, xlim, ylim, title, xlabel, ylabel, importance_type, max_num_features, grid, show_values, **kwargs)\u001b[0m\n\u001b[0;32m     69\u001b[0m \u001b[1;33m\u001b[0m\u001b[0m\n\u001b[0;32m     70\u001b[0m     \u001b[1;32mif\u001b[0m \u001b[1;32mnot\u001b[0m \u001b[0mimportance\u001b[0m\u001b[1;33m:\u001b[0m\u001b[1;33m\u001b[0m\u001b[1;33m\u001b[0m\u001b[0m\n\u001b[1;32m---> 71\u001b[1;33m         raise ValueError(\n\u001b[0m\u001b[0;32m     72\u001b[0m             \u001b[1;34m'Booster.get_score() results in empty.  '\u001b[0m \u001b[1;33m+\u001b[0m\u001b[1;33m\u001b[0m\u001b[1;33m\u001b[0m\u001b[0m\n\u001b[0;32m     73\u001b[0m             'This maybe caused by having all trees as decision dumps.')\n",
      "\u001b[1;31mValueError\u001b[0m: Booster.get_score() results in empty.  This maybe caused by having all trees as decision dumps."
     ]
    },
    {
     "data": {
      "image/png": "[encoded data removed]",
      "text/plain": [
       "<Figure size 1440x720 with 1 Axes>"
      ]
     },
     "metadata": {},
     "output_type": "display_data"
    }
   ],
   "source": [
    "fig, ax = plt.subplots(figsize=(20,10))\n",
    "xgb.plot_importance(xgbmodel.get_booster(),ax=ax)\n",
    "plt.show()"
   ]
  },
  {
   "cell_type": "markdown",
   "metadata": {},
   "source": [
    "### Cross-Validation"
   ]
  },
  {
   "cell_type": "code",
   "execution_count": 59,
   "metadata": {},
   "outputs": [
    {
     "name": "stderr",
     "output_type": "stream",
     "text": [
      "[Parallel(n_jobs=1)]: Using backend SequentialBackend with 1 concurrent workers.\n",
      "[Parallel(n_jobs=1)]: Done   5 out of   5 | elapsed:   19.0s finished\n"
     ]
    }
   ],
   "source": [
    "cv = cross_val_score(xgbmodel,X,y,cv=5,verbose=1,scoring='r2')"
   ]
  },
  {
   "cell_type": "code",
   "execution_count": 60,
   "metadata": {},
   "outputs": [
    {
     "data": {
      "text/plain": [
       "-0.0003095189362924078"
      ]
     },
     "execution_count": 60,
     "metadata": {},
     "output_type": "execute_result"
    }
   ],
   "source": [
    "cv.mean()"
   ]
  },
  {
   "cell_type": "markdown",
   "metadata": {},
   "source": [
    "### Save the Model"
   ]
  },
  {
   "cell_type": "code",
   "execution_count": 61,
   "metadata": {},
   "outputs": [],
   "source": [
    "filename = 'complainmodel.sav'\n",
    "dump(xgbmodel,open(filename,'wb'))"
   ]
  },
  {
   "cell_type": "markdown",
   "metadata": {},
   "source": [
    "### Load the Model"
   ]
  },
  {
   "cell_type": "code",
   "execution_count": 62,
   "metadata": {},
   "outputs": [],
   "source": [
    "loaded_model = load(open(filename,'rb'))"
   ]
  },
  {
   "cell_type": "code",
   "execution_count": 63,
   "metadata": {},
   "outputs": [
    {
     "data": {
      "text/plain": [
       "XGBRegressor(base_score=0.5, booster='gbtree', colsample_bylevel=1,\n",
       "             colsample_bynode=1, colsample_bytree=0.5, gamma=4, gpu_id=-1,\n",
       "             importance_type='gain', interaction_constraints='',\n",
       "             learning_rate=0.1, max_delta_step=0, max_depth=6,\n",
       "             min_child_weight=1, missing=nan, monotone_constraints='()',\n",
       "             n_estimators=800, n_jobs=0, num_parallel_tree=1, random_state=0,\n",
       "             reg_alpha=0.3, reg_lambda=0.8, scale_pos_weight=1, subsample=0.6,\n",
       "             tree_method='exact', validate_parameters=1, verbosity=None)"
      ]
     },
     "execution_count": 63,
     "metadata": {},
     "output_type": "execute_result"
    }
   ],
   "source": [
    "loaded_model"
   ]
  },
  {
   "cell_type": "code",
   "execution_count": null,
   "metadata": {},
   "outputs": [],
   "source": []
  }
 ],
 "metadata": {
  "kernelspec": {
   "display_name": "Python 3",
   "language": "python",
   "name": "python3"
  },
  "language_info": {
   "codemirror_mode": {
    "name": "ipython",
    "version": 3
   },
   "file_extension": ".py",
   "mimetype": "text/x-python",
   "name": "python",
   "nbconvert_exporter": "python",
   "pygments_lexer": "ipython3",
   "version": "3.8.3"
  }
 },
 "nbformat": 4,
 "nbformat_minor": 4
}
